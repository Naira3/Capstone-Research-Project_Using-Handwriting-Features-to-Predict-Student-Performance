{
  "nbformat": 4,
  "nbformat_minor": 0,
  "metadata": {
    "colab": {
      "name": "Capstone research_Naira Khachatryan.ipynb",
      "provenance": [],
      "collapsed_sections": [
        "yklDBX-5fn2H",
        "03cg6Q6fOui4",
        "0tgA8hXjGCUy",
        "9bd-97Fl2zd-",
        "fS-hzDff8CAn",
        "HDPoX8s5Al8_",
        "1OOwwyIgEAQG",
        "sYgAqOw4EGlC",
        "C2U2cUoyFzBv",
        "Nofqp5QYGjfN",
        "pqZVDBZ0HuLu",
        "5yLLQb4jLeNR",
        "CrQtLwgHLj_1",
        "R5uVrH4YgBVY",
        "bEmbabLWZkxX",
        "y60MK-ewrBsf",
        "9fo1x0HyhDEH",
        "BCGWDmUZa_68",
        "MaIXwaAUcv0Y",
        "j6ugwcwcrFKX",
        "UBuOEY1oEc1q",
        "zINJwFwIsiZ9",
        "PMc7LVt3_TLJ",
        "h2nXkEF5maTU",
        "SKB3BGeQrIAJ",
        "pQ9CyATfMqvR",
        "iy-B5OOHwgPV"
      ]
    },
    "kernelspec": {
      "name": "python3",
      "display_name": "Python 3"
    },
    "language_info": {
      "name": "python"
    }
  },
  "cells": [
    {
      "cell_type": "markdown",
      "source": [
        "## Capstone Research Project\n",
        "### *Using Handwriting Features to Predict Student Performance in IT and Engineering Domain*\n",
        "\n",
        "#### *Candidate:* Naira Khachatryan\n",
        "#### *Coordinator:* Suren Khachatryan\n",
        "#### *Program Chair:* Habet Madoyan\n",
        "\n",
        "##### American University of Armenia\n",
        "##### May 19, 2022"
      ],
      "metadata": {
        "id": "-9bSDNA_vJZi"
      }
    },
    {
      "cell_type": "code",
      "execution_count": 2,
      "metadata": {
        "id": "UNA54mQJu9MO"
      },
      "outputs": [],
      "source": [
        "# import libraries\n",
        "\n",
        "import pandas as pd\n",
        "import matplotlib.pyplot as plt\n",
        "import numpy as np\n",
        "import seaborn as sns\n",
        "import sklearn as s\n",
        "from sklearn.linear_model import LinearRegression\n",
        "from sklearn.preprocessing import LabelEncoder\n",
        "from sklearn.neural_network import MLPClassifier\n",
        "import tensorflow as tf\n",
        "from sklearn import metrics\n",
        "from sklearn.ensemble import RandomForestClassifier\n",
        "from sklearn.model_selection import train_test_split\n",
        "from sklearn.metrics import accuracy_score,classification_report\n",
        "from sklearn.svm import SVC\n",
        "from sklearn.linear_model import LogisticRegression\n",
        "from sklearn.tree import DecisionTreeClassifier\n",
        "from sklearn.model_selection import GridSearchCV\n",
        "from sklearn.model_selection import train_test_split\n",
        "from itertools import cycle\n",
        "from sklearn import svm, datasets\n",
        "from sklearn.metrics import roc_curve, auc\n",
        "from sklearn.model_selection import train_test_split\n",
        "from sklearn.preprocessing import label_binarize\n",
        "from sklearn.multiclass import OneVsRestClassifier\n",
        "from sklearn.metrics import roc_auc_score\n",
        "from sklearn.neighbors import KNeighborsClassifier\n",
        "from sklearn.linear_model import Ridge\n",
        "from sklearn.linear_model import Lasso"
      ]
    },
    {
      "cell_type": "markdown",
      "source": [
        "# 1st stage\n",
        "# Model design based on AUA Students Artificial Intelligence Midterm Exam Results (50 samples)"
      ],
      "metadata": {
        "id": "yklDBX-5fn2H"
      }
    },
    {
      "cell_type": "markdown",
      "source": [
        "### Exploratory Data Analysis and Data Preprocessing"
      ],
      "metadata": {
        "id": "03cg6Q6fOui4"
      }
    },
    {
      "cell_type": "code",
      "source": [
        "data = pd.read_csv(\"/content/Capstone dataset 1_midterm exam  50 samples.csv\")"
      ],
      "metadata": {
        "id": "XMX3ZRP4wheR"
      },
      "execution_count": 3,
      "outputs": []
    },
    {
      "cell_type": "code",
      "source": [
        "data.head()"
      ],
      "metadata": {
        "colab": {
          "base_uri": "https://localhost:8080/",
          "height": 476
        },
        "id": "fC_zoBfgwmh9",
        "outputId": "e595b4a9-872a-49f7-e504-a0179ffac8b9"
      },
      "execution_count": 4,
      "outputs": [
        {
          "output_type": "execute_result",
          "data": {
            "text/plain": [
              "  Student ID Image ID T_Bar Height       T_Bar character Letter Size  \\\n",
              "0         S1       I1       middle  moderate self-esteem      middle   \n",
              "1         S2       I2          low       low self-esteem       small   \n",
              "2         S3       I3          low       low self-esteem      middle   \n",
              "3         S4       I4       middle  moderate self-esteem      middle   \n",
              "4         S5       I5         high      high self-esteem      middle   \n",
              "\n",
              "    Letter Size characteristic   Baseline B_characteristic     Slant  \\\n",
              "0  normal desire to be noticed   straight         balanced  straight   \n",
              "1    prefers not to be noticed  ascending       optimistic  straight   \n",
              "2  normal desire to be noticed   straight         balanced     right   \n",
              "3  normal desire to be noticed   straight         balanced     right   \n",
              "4  normal desire to be noticed  ascending       optimistic  straight   \n",
              "\n",
              "                                    S_characteristic  Grade Letter grade  \\\n",
              "0  rational, and very independent emotionally and...  60.70           D-   \n",
              "1  rational, and very independent emotionally and...  75.80            C   \n",
              "2  expressiveness, freedom in thought and emotion...  48.55            F   \n",
              "3  expressiveness, freedom in thought and emotion...  60.20           D-   \n",
              "4  rational, and very independent emotionally and...  43.00            F   \n",
              "\n",
              "  Pass no pass 60  \n",
              "0               P  \n",
              "1               P  \n",
              "2              NP  \n",
              "3               P  \n",
              "4              NP  "
            ],
            "text/html": [
              "\n",
              "  <div id=\"df-01a06e8e-09b2-44e6-9252-3b70a8dc18d7\">\n",
              "    <div class=\"colab-df-container\">\n",
              "      <div>\n",
              "<style scoped>\n",
              "    .dataframe tbody tr th:only-of-type {\n",
              "        vertical-align: middle;\n",
              "    }\n",
              "\n",
              "    .dataframe tbody tr th {\n",
              "        vertical-align: top;\n",
              "    }\n",
              "\n",
              "    .dataframe thead th {\n",
              "        text-align: right;\n",
              "    }\n",
              "</style>\n",
              "<table border=\"1\" class=\"dataframe\">\n",
              "  <thead>\n",
              "    <tr style=\"text-align: right;\">\n",
              "      <th></th>\n",
              "      <th>Student ID</th>\n",
              "      <th>Image ID</th>\n",
              "      <th>T_Bar Height</th>\n",
              "      <th>T_Bar character</th>\n",
              "      <th>Letter Size</th>\n",
              "      <th>Letter Size characteristic</th>\n",
              "      <th>Baseline</th>\n",
              "      <th>B_characteristic</th>\n",
              "      <th>Slant</th>\n",
              "      <th>S_characteristic</th>\n",
              "      <th>Grade</th>\n",
              "      <th>Letter grade</th>\n",
              "      <th>Pass no pass 60</th>\n",
              "    </tr>\n",
              "  </thead>\n",
              "  <tbody>\n",
              "    <tr>\n",
              "      <th>0</th>\n",
              "      <td>S1</td>\n",
              "      <td>I1</td>\n",
              "      <td>middle</td>\n",
              "      <td>moderate self-esteem</td>\n",
              "      <td>middle</td>\n",
              "      <td>normal desire to be noticed</td>\n",
              "      <td>straight</td>\n",
              "      <td>balanced</td>\n",
              "      <td>straight</td>\n",
              "      <td>rational, and very independent emotionally and...</td>\n",
              "      <td>60.70</td>\n",
              "      <td>D-</td>\n",
              "      <td>P</td>\n",
              "    </tr>\n",
              "    <tr>\n",
              "      <th>1</th>\n",
              "      <td>S2</td>\n",
              "      <td>I2</td>\n",
              "      <td>low</td>\n",
              "      <td>low self-esteem</td>\n",
              "      <td>small</td>\n",
              "      <td>prefers not to be noticed</td>\n",
              "      <td>ascending</td>\n",
              "      <td>optimistic</td>\n",
              "      <td>straight</td>\n",
              "      <td>rational, and very independent emotionally and...</td>\n",
              "      <td>75.80</td>\n",
              "      <td>C</td>\n",
              "      <td>P</td>\n",
              "    </tr>\n",
              "    <tr>\n",
              "      <th>2</th>\n",
              "      <td>S3</td>\n",
              "      <td>I3</td>\n",
              "      <td>low</td>\n",
              "      <td>low self-esteem</td>\n",
              "      <td>middle</td>\n",
              "      <td>normal desire to be noticed</td>\n",
              "      <td>straight</td>\n",
              "      <td>balanced</td>\n",
              "      <td>right</td>\n",
              "      <td>expressiveness, freedom in thought and emotion...</td>\n",
              "      <td>48.55</td>\n",
              "      <td>F</td>\n",
              "      <td>NP</td>\n",
              "    </tr>\n",
              "    <tr>\n",
              "      <th>3</th>\n",
              "      <td>S4</td>\n",
              "      <td>I4</td>\n",
              "      <td>middle</td>\n",
              "      <td>moderate self-esteem</td>\n",
              "      <td>middle</td>\n",
              "      <td>normal desire to be noticed</td>\n",
              "      <td>straight</td>\n",
              "      <td>balanced</td>\n",
              "      <td>right</td>\n",
              "      <td>expressiveness, freedom in thought and emotion...</td>\n",
              "      <td>60.20</td>\n",
              "      <td>D-</td>\n",
              "      <td>P</td>\n",
              "    </tr>\n",
              "    <tr>\n",
              "      <th>4</th>\n",
              "      <td>S5</td>\n",
              "      <td>I5</td>\n",
              "      <td>high</td>\n",
              "      <td>high self-esteem</td>\n",
              "      <td>middle</td>\n",
              "      <td>normal desire to be noticed</td>\n",
              "      <td>ascending</td>\n",
              "      <td>optimistic</td>\n",
              "      <td>straight</td>\n",
              "      <td>rational, and very independent emotionally and...</td>\n",
              "      <td>43.00</td>\n",
              "      <td>F</td>\n",
              "      <td>NP</td>\n",
              "    </tr>\n",
              "  </tbody>\n",
              "</table>\n",
              "</div>\n",
              "      <button class=\"colab-df-convert\" onclick=\"convertToInteractive('df-01a06e8e-09b2-44e6-9252-3b70a8dc18d7')\"\n",
              "              title=\"Convert this dataframe to an interactive table.\"\n",
              "              style=\"display:none;\">\n",
              "        \n",
              "  <svg xmlns=\"http://www.w3.org/2000/svg\" height=\"24px\"viewBox=\"0 0 24 24\"\n",
              "       width=\"24px\">\n",
              "    <path d=\"M0 0h24v24H0V0z\" fill=\"none\"/>\n",
              "    <path d=\"M18.56 5.44l.94 2.06.94-2.06 2.06-.94-2.06-.94-.94-2.06-.94 2.06-2.06.94zm-11 1L8.5 8.5l.94-2.06 2.06-.94-2.06-.94L8.5 2.5l-.94 2.06-2.06.94zm10 10l.94 2.06.94-2.06 2.06-.94-2.06-.94-.94-2.06-.94 2.06-2.06.94z\"/><path d=\"M17.41 7.96l-1.37-1.37c-.4-.4-.92-.59-1.43-.59-.52 0-1.04.2-1.43.59L10.3 9.45l-7.72 7.72c-.78.78-.78 2.05 0 2.83L4 21.41c.39.39.9.59 1.41.59.51 0 1.02-.2 1.41-.59l7.78-7.78 2.81-2.81c.8-.78.8-2.07 0-2.86zM5.41 20L4 18.59l7.72-7.72 1.47 1.35L5.41 20z\"/>\n",
              "  </svg>\n",
              "      </button>\n",
              "      \n",
              "  <style>\n",
              "    .colab-df-container {\n",
              "      display:flex;\n",
              "      flex-wrap:wrap;\n",
              "      gap: 12px;\n",
              "    }\n",
              "\n",
              "    .colab-df-convert {\n",
              "      background-color: #E8F0FE;\n",
              "      border: none;\n",
              "      border-radius: 50%;\n",
              "      cursor: pointer;\n",
              "      display: none;\n",
              "      fill: #1967D2;\n",
              "      height: 32px;\n",
              "      padding: 0 0 0 0;\n",
              "      width: 32px;\n",
              "    }\n",
              "\n",
              "    .colab-df-convert:hover {\n",
              "      background-color: #E2EBFA;\n",
              "      box-shadow: 0px 1px 2px rgba(60, 64, 67, 0.3), 0px 1px 3px 1px rgba(60, 64, 67, 0.15);\n",
              "      fill: #174EA6;\n",
              "    }\n",
              "\n",
              "    [theme=dark] .colab-df-convert {\n",
              "      background-color: #3B4455;\n",
              "      fill: #D2E3FC;\n",
              "    }\n",
              "\n",
              "    [theme=dark] .colab-df-convert:hover {\n",
              "      background-color: #434B5C;\n",
              "      box-shadow: 0px 1px 3px 1px rgba(0, 0, 0, 0.15);\n",
              "      filter: drop-shadow(0px 1px 2px rgba(0, 0, 0, 0.3));\n",
              "      fill: #FFFFFF;\n",
              "    }\n",
              "  </style>\n",
              "\n",
              "      <script>\n",
              "        const buttonEl =\n",
              "          document.querySelector('#df-01a06e8e-09b2-44e6-9252-3b70a8dc18d7 button.colab-df-convert');\n",
              "        buttonEl.style.display =\n",
              "          google.colab.kernel.accessAllowed ? 'block' : 'none';\n",
              "\n",
              "        async function convertToInteractive(key) {\n",
              "          const element = document.querySelector('#df-01a06e8e-09b2-44e6-9252-3b70a8dc18d7');\n",
              "          const dataTable =\n",
              "            await google.colab.kernel.invokeFunction('convertToInteractive',\n",
              "                                                     [key], {});\n",
              "          if (!dataTable) return;\n",
              "\n",
              "          const docLinkHtml = 'Like what you see? Visit the ' +\n",
              "            '<a target=\"_blank\" href=https://colab.research.google.com/notebooks/data_table.ipynb>data table notebook</a>'\n",
              "            + ' to learn more about interactive tables.';\n",
              "          element.innerHTML = '';\n",
              "          dataTable['output_type'] = 'display_data';\n",
              "          await google.colab.output.renderOutput(dataTable, element);\n",
              "          const docLink = document.createElement('div');\n",
              "          docLink.innerHTML = docLinkHtml;\n",
              "          element.appendChild(docLink);\n",
              "        }\n",
              "      </script>\n",
              "    </div>\n",
              "  </div>\n",
              "  "
            ]
          },
          "metadata": {},
          "execution_count": 4
        }
      ]
    },
    {
      "cell_type": "code",
      "source": [
        "data.info()"
      ],
      "metadata": {
        "colab": {
          "base_uri": "https://localhost:8080/"
        },
        "id": "dNxg1jvL0NNE",
        "outputId": "7a275e49-9543-4404-85f1-6bd7b303621d"
      },
      "execution_count": null,
      "outputs": [
        {
          "output_type": "stream",
          "name": "stdout",
          "text": [
            "<class 'pandas.core.frame.DataFrame'>\n",
            "RangeIndex: 50 entries, 0 to 49\n",
            "Data columns (total 13 columns):\n",
            " #   Column                      Non-Null Count  Dtype  \n",
            "---  ------                      --------------  -----  \n",
            " 0   Student ID                  50 non-null     object \n",
            " 1   Image ID                    50 non-null     object \n",
            " 2   T_Bar Height                50 non-null     object \n",
            " 3   T_Bar character             50 non-null     object \n",
            " 4   Letter Size                 50 non-null     object \n",
            " 5   Letter Size characteristic  50 non-null     object \n",
            " 6   Baseline                    50 non-null     object \n",
            " 7   B_characteristic            50 non-null     object \n",
            " 8   Slant                       50 non-null     object \n",
            " 9   S_characteristic            50 non-null     object \n",
            " 10  Grade                       50 non-null     float64\n",
            " 11  Letter grade                50 non-null     object \n",
            " 12  Pass no pass 60             50 non-null     object \n",
            "dtypes: float64(1), object(12)\n",
            "memory usage: 5.2+ KB\n"
          ]
        }
      ]
    },
    {
      "cell_type": "code",
      "source": [
        "data.shape"
      ],
      "metadata": {
        "colab": {
          "base_uri": "https://localhost:8080/"
        },
        "id": "ccRCYZYk0R5C",
        "outputId": "7e8a5cf8-3a09-45fb-c5e9-ab384816ef55"
      },
      "execution_count": null,
      "outputs": [
        {
          "output_type": "execute_result",
          "data": {
            "text/plain": [
              "(50, 13)"
            ]
          },
          "metadata": {},
          "execution_count": 5
        }
      ]
    },
    {
      "cell_type": "code",
      "source": [
        "data.describe()"
      ],
      "metadata": {
        "colab": {
          "base_uri": "https://localhost:8080/",
          "height": 300
        },
        "id": "lcSvZoq1xLBb",
        "outputId": "23262f13-57af-4003-f7c8-4b976c29a148"
      },
      "execution_count": null,
      "outputs": [
        {
          "output_type": "execute_result",
          "data": {
            "text/plain": [
              "           Grade\n",
              "count  50.000000\n",
              "mean   48.123000\n",
              "std    18.344674\n",
              "min     8.250000\n",
              "25%    34.762500\n",
              "50%    49.200000\n",
              "75%    59.925000\n",
              "max    85.100000"
            ],
            "text/html": [
              "\n",
              "  <div id=\"df-0c12d557-24be-4c66-ae84-3fb9733e448f\">\n",
              "    <div class=\"colab-df-container\">\n",
              "      <div>\n",
              "<style scoped>\n",
              "    .dataframe tbody tr th:only-of-type {\n",
              "        vertical-align: middle;\n",
              "    }\n",
              "\n",
              "    .dataframe tbody tr th {\n",
              "        vertical-align: top;\n",
              "    }\n",
              "\n",
              "    .dataframe thead th {\n",
              "        text-align: right;\n",
              "    }\n",
              "</style>\n",
              "<table border=\"1\" class=\"dataframe\">\n",
              "  <thead>\n",
              "    <tr style=\"text-align: right;\">\n",
              "      <th></th>\n",
              "      <th>Grade</th>\n",
              "    </tr>\n",
              "  </thead>\n",
              "  <tbody>\n",
              "    <tr>\n",
              "      <th>count</th>\n",
              "      <td>50.000000</td>\n",
              "    </tr>\n",
              "    <tr>\n",
              "      <th>mean</th>\n",
              "      <td>48.123000</td>\n",
              "    </tr>\n",
              "    <tr>\n",
              "      <th>std</th>\n",
              "      <td>18.344674</td>\n",
              "    </tr>\n",
              "    <tr>\n",
              "      <th>min</th>\n",
              "      <td>8.250000</td>\n",
              "    </tr>\n",
              "    <tr>\n",
              "      <th>25%</th>\n",
              "      <td>34.762500</td>\n",
              "    </tr>\n",
              "    <tr>\n",
              "      <th>50%</th>\n",
              "      <td>49.200000</td>\n",
              "    </tr>\n",
              "    <tr>\n",
              "      <th>75%</th>\n",
              "      <td>59.925000</td>\n",
              "    </tr>\n",
              "    <tr>\n",
              "      <th>max</th>\n",
              "      <td>85.100000</td>\n",
              "    </tr>\n",
              "  </tbody>\n",
              "</table>\n",
              "</div>\n",
              "      <button class=\"colab-df-convert\" onclick=\"convertToInteractive('df-0c12d557-24be-4c66-ae84-3fb9733e448f')\"\n",
              "              title=\"Convert this dataframe to an interactive table.\"\n",
              "              style=\"display:none;\">\n",
              "        \n",
              "  <svg xmlns=\"http://www.w3.org/2000/svg\" height=\"24px\"viewBox=\"0 0 24 24\"\n",
              "       width=\"24px\">\n",
              "    <path d=\"M0 0h24v24H0V0z\" fill=\"none\"/>\n",
              "    <path d=\"M18.56 5.44l.94 2.06.94-2.06 2.06-.94-2.06-.94-.94-2.06-.94 2.06-2.06.94zm-11 1L8.5 8.5l.94-2.06 2.06-.94-2.06-.94L8.5 2.5l-.94 2.06-2.06.94zm10 10l.94 2.06.94-2.06 2.06-.94-2.06-.94-.94-2.06-.94 2.06-2.06.94z\"/><path d=\"M17.41 7.96l-1.37-1.37c-.4-.4-.92-.59-1.43-.59-.52 0-1.04.2-1.43.59L10.3 9.45l-7.72 7.72c-.78.78-.78 2.05 0 2.83L4 21.41c.39.39.9.59 1.41.59.51 0 1.02-.2 1.41-.59l7.78-7.78 2.81-2.81c.8-.78.8-2.07 0-2.86zM5.41 20L4 18.59l7.72-7.72 1.47 1.35L5.41 20z\"/>\n",
              "  </svg>\n",
              "      </button>\n",
              "      \n",
              "  <style>\n",
              "    .colab-df-container {\n",
              "      display:flex;\n",
              "      flex-wrap:wrap;\n",
              "      gap: 12px;\n",
              "    }\n",
              "\n",
              "    .colab-df-convert {\n",
              "      background-color: #E8F0FE;\n",
              "      border: none;\n",
              "      border-radius: 50%;\n",
              "      cursor: pointer;\n",
              "      display: none;\n",
              "      fill: #1967D2;\n",
              "      height: 32px;\n",
              "      padding: 0 0 0 0;\n",
              "      width: 32px;\n",
              "    }\n",
              "\n",
              "    .colab-df-convert:hover {\n",
              "      background-color: #E2EBFA;\n",
              "      box-shadow: 0px 1px 2px rgba(60, 64, 67, 0.3), 0px 1px 3px 1px rgba(60, 64, 67, 0.15);\n",
              "      fill: #174EA6;\n",
              "    }\n",
              "\n",
              "    [theme=dark] .colab-df-convert {\n",
              "      background-color: #3B4455;\n",
              "      fill: #D2E3FC;\n",
              "    }\n",
              "\n",
              "    [theme=dark] .colab-df-convert:hover {\n",
              "      background-color: #434B5C;\n",
              "      box-shadow: 0px 1px 3px 1px rgba(0, 0, 0, 0.15);\n",
              "      filter: drop-shadow(0px 1px 2px rgba(0, 0, 0, 0.3));\n",
              "      fill: #FFFFFF;\n",
              "    }\n",
              "  </style>\n",
              "\n",
              "      <script>\n",
              "        const buttonEl =\n",
              "          document.querySelector('#df-0c12d557-24be-4c66-ae84-3fb9733e448f button.colab-df-convert');\n",
              "        buttonEl.style.display =\n",
              "          google.colab.kernel.accessAllowed ? 'block' : 'none';\n",
              "\n",
              "        async function convertToInteractive(key) {\n",
              "          const element = document.querySelector('#df-0c12d557-24be-4c66-ae84-3fb9733e448f');\n",
              "          const dataTable =\n",
              "            await google.colab.kernel.invokeFunction('convertToInteractive',\n",
              "                                                     [key], {});\n",
              "          if (!dataTable) return;\n",
              "\n",
              "          const docLinkHtml = 'Like what you see? Visit the ' +\n",
              "            '<a target=\"_blank\" href=https://colab.research.google.com/notebooks/data_table.ipynb>data table notebook</a>'\n",
              "            + ' to learn more about interactive tables.';\n",
              "          element.innerHTML = '';\n",
              "          dataTable['output_type'] = 'display_data';\n",
              "          await google.colab.output.renderOutput(dataTable, element);\n",
              "          const docLink = document.createElement('div');\n",
              "          docLink.innerHTML = docLinkHtml;\n",
              "          element.appendChild(docLink);\n",
              "        }\n",
              "      </script>\n",
              "    </div>\n",
              "  </div>\n",
              "  "
            ]
          },
          "metadata": {},
          "execution_count": 6
        }
      ]
    },
    {
      "cell_type": "code",
      "source": [
        "data.columns"
      ],
      "metadata": {
        "colab": {
          "base_uri": "https://localhost:8080/"
        },
        "id": "wc7CHGR9xNim",
        "outputId": "fb806d1f-28c9-4a1f-c7f4-8d88b5d36a3e"
      },
      "execution_count": null,
      "outputs": [
        {
          "output_type": "execute_result",
          "data": {
            "text/plain": [
              "Index(['Student ID', 'Image ID', 'T_Bar Height', 'T_Bar character',\n",
              "       'Letter Size', 'Letter Size characteristic', 'Baseline',\n",
              "       'B_characteristic', 'Slant', 'S_characteristic', 'Grade',\n",
              "       'Letter grade', 'Pass no pass 60'],\n",
              "      dtype='object')"
            ]
          },
          "metadata": {},
          "execution_count": 7
        }
      ]
    },
    {
      "cell_type": "code",
      "source": [
        "data.isna().sum()"
      ],
      "metadata": {
        "colab": {
          "base_uri": "https://localhost:8080/"
        },
        "id": "r9SOF43MO1oC",
        "outputId": "35511954-988c-4b3d-d31d-6bcea53b664e"
      },
      "execution_count": null,
      "outputs": [
        {
          "output_type": "execute_result",
          "data": {
            "text/plain": [
              "Student ID                    0\n",
              "Image ID                      0\n",
              "T_Bar Height                  0\n",
              "T_Bar character               0\n",
              "Letter Size                   0\n",
              "Letter Size characteristic    0\n",
              "Baseline                      0\n",
              "B_characteristic              0\n",
              "Slant                         0\n",
              "S_characteristic              0\n",
              "Grade                         0\n",
              "Letter grade                  0\n",
              "Pass no pass 60               0\n",
              "dtype: int64"
            ]
          },
          "metadata": {},
          "execution_count": 8
        }
      ]
    },
    {
      "cell_type": "code",
      "source": [
        "#making categorical data columns numerical\n",
        "data_num = data.copy()\n",
        "data_num[\"T_Bar Height\"] = LabelEncoder().fit_transform(data_num[\"T_Bar Height\"])\n",
        "data_num[\"Letter Size\"] = LabelEncoder().fit_transform(data_num[\"Letter Size\"])\n",
        "data_num[\"Baseline\"] = LabelEncoder().fit_transform(data_num[\"Baseline\"])\n",
        "data_num[\"Slant\"] = LabelEncoder().fit_transform(data_num[\"Slant\"])\n",
        "data_num[\"Pass no pass 60\"] = LabelEncoder().fit_transform(data_num[\"Pass no pass 60\"])\n",
        "data_num[\"Letter grade\"] = LabelEncoder().fit_transform(data_num[\"Letter grade\"])\n",
        "\n"
      ],
      "metadata": {
        "id": "w-H34_Si3DNB"
      },
      "execution_count": null,
      "outputs": []
    },
    {
      "cell_type": "code",
      "source": [
        "# bringing all columns to the same datatype and dropping non-numeric columns\n",
        "for i in data_num:\n",
        "  if type(data_num[i][0]) == str:\n",
        "    data_num.drop(i, axis='columns', inplace = True)\n",
        "  elif type(data_num[i][0]) == np.float or type(data_num[i][0]) == np.int:\n",
        "    data_num[i] = data_num[i].astype(\"int64\")\n",
        "  else:\n",
        "    continue"
      ],
      "metadata": {
        "colab": {
          "base_uri": "https://localhost:8080/"
        },
        "id": "exUZGeBu5OGu",
        "outputId": "bf8e63ff-bf3e-470d-b09f-454b1a6c9e58"
      },
      "execution_count": null,
      "outputs": [
        {
          "output_type": "stream",
          "name": "stderr",
          "text": [
            "/usr/local/lib/python3.7/dist-packages/ipykernel_launcher.py:5: DeprecationWarning: `np.float` is a deprecated alias for the builtin `float`. To silence this warning, use `float` by itself. Doing this will not modify any behavior and is safe. If you specifically wanted the numpy scalar type, use `np.float64` here.\n",
            "Deprecated in NumPy 1.20; for more details and guidance: https://numpy.org/devdocs/release/1.20.0-notes.html#deprecations\n",
            "  \"\"\"\n",
            "/usr/local/lib/python3.7/dist-packages/ipykernel_launcher.py:5: DeprecationWarning: `np.int` is a deprecated alias for the builtin `int`. To silence this warning, use `int` by itself. Doing this will not modify any behavior and is safe. When replacing `np.int`, you may wish to use e.g. `np.int64` or `np.int32` to specify the precision. If you wish to review your current use, check the release note link for additional information.\n",
            "Deprecated in NumPy 1.20; for more details and guidance: https://numpy.org/devdocs/release/1.20.0-notes.html#deprecations\n",
            "  \"\"\"\n"
          ]
        }
      ]
    },
    {
      "cell_type": "code",
      "source": [
        "data_num.head()"
      ],
      "metadata": {
        "colab": {
          "base_uri": "https://localhost:8080/",
          "height": 206
        },
        "id": "jo8WE-hM509c",
        "outputId": "046b7227-9b52-48ad-da1e-af6972fa57a1"
      },
      "execution_count": null,
      "outputs": [
        {
          "output_type": "execute_result",
          "data": {
            "text/plain": [
              "   T_Bar Height  Letter Size  Baseline  Slant  Grade  Letter grade  \\\n",
              "0             2            1         2      4  60.70             6   \n",
              "1             1            2         0      4  75.80             1   \n",
              "2             1            1         2      3  48.55             7   \n",
              "3             2            1         2      3  60.20             6   \n",
              "4             0            1         0      4  43.00             7   \n",
              "\n",
              "   Pass no pass 60  \n",
              "0                1  \n",
              "1                1  \n",
              "2                0  \n",
              "3                1  \n",
              "4                0  "
            ],
            "text/html": [
              "\n",
              "  <div id=\"df-e527aaac-6c9b-4ce4-bfdb-46f1171411a0\">\n",
              "    <div class=\"colab-df-container\">\n",
              "      <div>\n",
              "<style scoped>\n",
              "    .dataframe tbody tr th:only-of-type {\n",
              "        vertical-align: middle;\n",
              "    }\n",
              "\n",
              "    .dataframe tbody tr th {\n",
              "        vertical-align: top;\n",
              "    }\n",
              "\n",
              "    .dataframe thead th {\n",
              "        text-align: right;\n",
              "    }\n",
              "</style>\n",
              "<table border=\"1\" class=\"dataframe\">\n",
              "  <thead>\n",
              "    <tr style=\"text-align: right;\">\n",
              "      <th></th>\n",
              "      <th>T_Bar Height</th>\n",
              "      <th>Letter Size</th>\n",
              "      <th>Baseline</th>\n",
              "      <th>Slant</th>\n",
              "      <th>Grade</th>\n",
              "      <th>Letter grade</th>\n",
              "      <th>Pass no pass 60</th>\n",
              "    </tr>\n",
              "  </thead>\n",
              "  <tbody>\n",
              "    <tr>\n",
              "      <th>0</th>\n",
              "      <td>2</td>\n",
              "      <td>1</td>\n",
              "      <td>2</td>\n",
              "      <td>4</td>\n",
              "      <td>60.70</td>\n",
              "      <td>6</td>\n",
              "      <td>1</td>\n",
              "    </tr>\n",
              "    <tr>\n",
              "      <th>1</th>\n",
              "      <td>1</td>\n",
              "      <td>2</td>\n",
              "      <td>0</td>\n",
              "      <td>4</td>\n",
              "      <td>75.80</td>\n",
              "      <td>1</td>\n",
              "      <td>1</td>\n",
              "    </tr>\n",
              "    <tr>\n",
              "      <th>2</th>\n",
              "      <td>1</td>\n",
              "      <td>1</td>\n",
              "      <td>2</td>\n",
              "      <td>3</td>\n",
              "      <td>48.55</td>\n",
              "      <td>7</td>\n",
              "      <td>0</td>\n",
              "    </tr>\n",
              "    <tr>\n",
              "      <th>3</th>\n",
              "      <td>2</td>\n",
              "      <td>1</td>\n",
              "      <td>2</td>\n",
              "      <td>3</td>\n",
              "      <td>60.20</td>\n",
              "      <td>6</td>\n",
              "      <td>1</td>\n",
              "    </tr>\n",
              "    <tr>\n",
              "      <th>4</th>\n",
              "      <td>0</td>\n",
              "      <td>1</td>\n",
              "      <td>0</td>\n",
              "      <td>4</td>\n",
              "      <td>43.00</td>\n",
              "      <td>7</td>\n",
              "      <td>0</td>\n",
              "    </tr>\n",
              "  </tbody>\n",
              "</table>\n",
              "</div>\n",
              "      <button class=\"colab-df-convert\" onclick=\"convertToInteractive('df-e527aaac-6c9b-4ce4-bfdb-46f1171411a0')\"\n",
              "              title=\"Convert this dataframe to an interactive table.\"\n",
              "              style=\"display:none;\">\n",
              "        \n",
              "  <svg xmlns=\"http://www.w3.org/2000/svg\" height=\"24px\"viewBox=\"0 0 24 24\"\n",
              "       width=\"24px\">\n",
              "    <path d=\"M0 0h24v24H0V0z\" fill=\"none\"/>\n",
              "    <path d=\"M18.56 5.44l.94 2.06.94-2.06 2.06-.94-2.06-.94-.94-2.06-.94 2.06-2.06.94zm-11 1L8.5 8.5l.94-2.06 2.06-.94-2.06-.94L8.5 2.5l-.94 2.06-2.06.94zm10 10l.94 2.06.94-2.06 2.06-.94-2.06-.94-.94-2.06-.94 2.06-2.06.94z\"/><path d=\"M17.41 7.96l-1.37-1.37c-.4-.4-.92-.59-1.43-.59-.52 0-1.04.2-1.43.59L10.3 9.45l-7.72 7.72c-.78.78-.78 2.05 0 2.83L4 21.41c.39.39.9.59 1.41.59.51 0 1.02-.2 1.41-.59l7.78-7.78 2.81-2.81c.8-.78.8-2.07 0-2.86zM5.41 20L4 18.59l7.72-7.72 1.47 1.35L5.41 20z\"/>\n",
              "  </svg>\n",
              "      </button>\n",
              "      \n",
              "  <style>\n",
              "    .colab-df-container {\n",
              "      display:flex;\n",
              "      flex-wrap:wrap;\n",
              "      gap: 12px;\n",
              "    }\n",
              "\n",
              "    .colab-df-convert {\n",
              "      background-color: #E8F0FE;\n",
              "      border: none;\n",
              "      border-radius: 50%;\n",
              "      cursor: pointer;\n",
              "      display: none;\n",
              "      fill: #1967D2;\n",
              "      height: 32px;\n",
              "      padding: 0 0 0 0;\n",
              "      width: 32px;\n",
              "    }\n",
              "\n",
              "    .colab-df-convert:hover {\n",
              "      background-color: #E2EBFA;\n",
              "      box-shadow: 0px 1px 2px rgba(60, 64, 67, 0.3), 0px 1px 3px 1px rgba(60, 64, 67, 0.15);\n",
              "      fill: #174EA6;\n",
              "    }\n",
              "\n",
              "    [theme=dark] .colab-df-convert {\n",
              "      background-color: #3B4455;\n",
              "      fill: #D2E3FC;\n",
              "    }\n",
              "\n",
              "    [theme=dark] .colab-df-convert:hover {\n",
              "      background-color: #434B5C;\n",
              "      box-shadow: 0px 1px 3px 1px rgba(0, 0, 0, 0.15);\n",
              "      filter: drop-shadow(0px 1px 2px rgba(0, 0, 0, 0.3));\n",
              "      fill: #FFFFFF;\n",
              "    }\n",
              "  </style>\n",
              "\n",
              "      <script>\n",
              "        const buttonEl =\n",
              "          document.querySelector('#df-e527aaac-6c9b-4ce4-bfdb-46f1171411a0 button.colab-df-convert');\n",
              "        buttonEl.style.display =\n",
              "          google.colab.kernel.accessAllowed ? 'block' : 'none';\n",
              "\n",
              "        async function convertToInteractive(key) {\n",
              "          const element = document.querySelector('#df-e527aaac-6c9b-4ce4-bfdb-46f1171411a0');\n",
              "          const dataTable =\n",
              "            await google.colab.kernel.invokeFunction('convertToInteractive',\n",
              "                                                     [key], {});\n",
              "          if (!dataTable) return;\n",
              "\n",
              "          const docLinkHtml = 'Like what you see? Visit the ' +\n",
              "            '<a target=\"_blank\" href=https://colab.research.google.com/notebooks/data_table.ipynb>data table notebook</a>'\n",
              "            + ' to learn more about interactive tables.';\n",
              "          element.innerHTML = '';\n",
              "          dataTable['output_type'] = 'display_data';\n",
              "          await google.colab.output.renderOutput(dataTable, element);\n",
              "          const docLink = document.createElement('div');\n",
              "          docLink.innerHTML = docLinkHtml;\n",
              "          element.appendChild(docLink);\n",
              "        }\n",
              "      </script>\n",
              "    </div>\n",
              "  </div>\n",
              "  "
            ]
          },
          "metadata": {},
          "execution_count": 11
        }
      ]
    },
    {
      "cell_type": "code",
      "source": [
        "# Pearson correlation matrix to figure out how different features are correlated\n",
        "corr = data_num.corr()\n",
        "corr.style.background_gradient()"
      ],
      "metadata": {
        "colab": {
          "base_uri": "https://localhost:8080/",
          "height": 269
        },
        "id": "wn1u0PnG25pD",
        "outputId": "4ff73b1e-b515-437a-f021-57c4b474475f"
      },
      "execution_count": null,
      "outputs": [
        {
          "output_type": "execute_result",
          "data": {
            "text/plain": [
              "<pandas.io.formats.style.Styler at 0x7f4821fecd50>"
            ],
            "text/html": [
              "<style type=\"text/css\">\n",
              "#T_8ce41_row0_col0, #T_8ce41_row1_col1, #T_8ce41_row2_col2, #T_8ce41_row3_col3, #T_8ce41_row4_col4, #T_8ce41_row5_col5, #T_8ce41_row6_col6 {\n",
              "  background-color: #023858;\n",
              "  color: #f1f1f1;\n",
              "}\n",
              "#T_8ce41_row0_col1 {\n",
              "  background-color: #d5d5e8;\n",
              "  color: #000000;\n",
              "}\n",
              "#T_8ce41_row0_col2 {\n",
              "  background-color: #f8f1f8;\n",
              "  color: #000000;\n",
              "}\n",
              "#T_8ce41_row0_col3, #T_8ce41_row2_col3 {\n",
              "  background-color: #e2dfee;\n",
              "  color: #000000;\n",
              "}\n",
              "#T_8ce41_row0_col4, #T_8ce41_row5_col0 {\n",
              "  background-color: #c6cce3;\n",
              "  color: #000000;\n",
              "}\n",
              "#T_8ce41_row0_col5 {\n",
              "  background-color: #76aad0;\n",
              "  color: #f1f1f1;\n",
              "}\n",
              "#T_8ce41_row0_col6 {\n",
              "  background-color: #a5bddb;\n",
              "  color: #000000;\n",
              "}\n",
              "#T_8ce41_row1_col0 {\n",
              "  background-color: #b8c6e0;\n",
              "  color: #000000;\n",
              "}\n",
              "#T_8ce41_row1_col2, #T_8ce41_row4_col0, #T_8ce41_row5_col4, #T_8ce41_row5_col6, #T_8ce41_row6_col1, #T_8ce41_row6_col3, #T_8ce41_row6_col5 {\n",
              "  background-color: #fff7fb;\n",
              "  color: #000000;\n",
              "}\n",
              "#T_8ce41_row1_col3 {\n",
              "  background-color: #a2bcda;\n",
              "  color: #000000;\n",
              "}\n",
              "#T_8ce41_row1_col4 {\n",
              "  background-color: #9ab8d8;\n",
              "  color: #000000;\n",
              "}\n",
              "#T_8ce41_row1_col5 {\n",
              "  background-color: #80aed2;\n",
              "  color: #f1f1f1;\n",
              "}\n",
              "#T_8ce41_row1_col6 {\n",
              "  background-color: #a4bcda;\n",
              "  color: #000000;\n",
              "}\n",
              "#T_8ce41_row2_col0 {\n",
              "  background-color: #e1dfed;\n",
              "  color: #000000;\n",
              "}\n",
              "#T_8ce41_row2_col1 {\n",
              "  background-color: #fdf5fa;\n",
              "  color: #000000;\n",
              "}\n",
              "#T_8ce41_row2_col4 {\n",
              "  background-color: #69a5cc;\n",
              "  color: #f1f1f1;\n",
              "}\n",
              "#T_8ce41_row2_col5 {\n",
              "  background-color: #99b8d8;\n",
              "  color: #000000;\n",
              "}\n",
              "#T_8ce41_row2_col6 {\n",
              "  background-color: #83afd3;\n",
              "  color: #f1f1f1;\n",
              "}\n",
              "#T_8ce41_row3_col0, #T_8ce41_row4_col2 {\n",
              "  background-color: #d3d4e7;\n",
              "  color: #000000;\n",
              "}\n",
              "#T_8ce41_row3_col1, #T_8ce41_row3_col6 {\n",
              "  background-color: #adc1dd;\n",
              "  color: #000000;\n",
              "}\n",
              "#T_8ce41_row3_col2, #T_8ce41_row6_col2 {\n",
              "  background-color: #ede8f3;\n",
              "  color: #000000;\n",
              "}\n",
              "#T_8ce41_row3_col4 {\n",
              "  background-color: #a8bedc;\n",
              "  color: #000000;\n",
              "}\n",
              "#T_8ce41_row3_col5 {\n",
              "  background-color: #4a98c5;\n",
              "  color: #f1f1f1;\n",
              "}\n",
              "#T_8ce41_row4_col1 {\n",
              "  background-color: #f6eff7;\n",
              "  color: #000000;\n",
              "}\n",
              "#T_8ce41_row4_col3 {\n",
              "  background-color: #f7f0f7;\n",
              "  color: #000000;\n",
              "}\n",
              "#T_8ce41_row4_col5 {\n",
              "  background-color: #fbf4f9;\n",
              "  color: #000000;\n",
              "}\n",
              "#T_8ce41_row4_col6 {\n",
              "  background-color: #045e94;\n",
              "  color: #f1f1f1;\n",
              "}\n",
              "#T_8ce41_row5_col1 {\n",
              "  background-color: #e7e3f0;\n",
              "  color: #000000;\n",
              "}\n",
              "#T_8ce41_row5_col2 {\n",
              "  background-color: #fbf3f9;\n",
              "  color: #000000;\n",
              "}\n",
              "#T_8ce41_row5_col3 {\n",
              "  background-color: #acc0dd;\n",
              "  color: #000000;\n",
              "}\n",
              "#T_8ce41_row6_col0 {\n",
              "  background-color: #eee8f3;\n",
              "  color: #000000;\n",
              "}\n",
              "#T_8ce41_row6_col4 {\n",
              "  background-color: #045f95;\n",
              "  color: #f1f1f1;\n",
              "}\n",
              "</style>\n",
              "<table id=\"T_8ce41_\" class=\"dataframe\">\n",
              "  <thead>\n",
              "    <tr>\n",
              "      <th class=\"blank level0\" >&nbsp;</th>\n",
              "      <th class=\"col_heading level0 col0\" >T_Bar Height</th>\n",
              "      <th class=\"col_heading level0 col1\" >Letter Size</th>\n",
              "      <th class=\"col_heading level0 col2\" >Baseline</th>\n",
              "      <th class=\"col_heading level0 col3\" >Slant</th>\n",
              "      <th class=\"col_heading level0 col4\" >Grade</th>\n",
              "      <th class=\"col_heading level0 col5\" >Letter grade</th>\n",
              "      <th class=\"col_heading level0 col6\" >Pass no pass 60</th>\n",
              "    </tr>\n",
              "  </thead>\n",
              "  <tbody>\n",
              "    <tr>\n",
              "      <th id=\"T_8ce41_level0_row0\" class=\"row_heading level0 row0\" >T_Bar Height</th>\n",
              "      <td id=\"T_8ce41_row0_col0\" class=\"data row0 col0\" >1.000000</td>\n",
              "      <td id=\"T_8ce41_row0_col1\" class=\"data row0 col1\" >0.153869</td>\n",
              "      <td id=\"T_8ce41_row0_col2\" class=\"data row0 col2\" >-0.031653</td>\n",
              "      <td id=\"T_8ce41_row0_col3\" class=\"data row0 col3\" >0.046832</td>\n",
              "      <td id=\"T_8ce41_row0_col4\" class=\"data row0 col4\" >-0.247520</td>\n",
              "      <td id=\"T_8ce41_row0_col5\" class=\"data row0 col5\" >0.102509</td>\n",
              "      <td id=\"T_8ce41_row0_col6\" class=\"data row0 col6\" >-0.102862</td>\n",
              "    </tr>\n",
              "    <tr>\n",
              "      <th id=\"T_8ce41_level0_row1\" class=\"row_heading level0 row1\" >Letter Size</th>\n",
              "      <td id=\"T_8ce41_row1_col0\" class=\"data row1 col0\" >0.153869</td>\n",
              "      <td id=\"T_8ce41_row1_col1\" class=\"data row1 col1\" >1.000000</td>\n",
              "      <td id=\"T_8ce41_row1_col2\" class=\"data row1 col2\" >-0.080903</td>\n",
              "      <td id=\"T_8ce41_row1_col3\" class=\"data row1 col3\" >0.291143</td>\n",
              "      <td id=\"T_8ce41_row1_col4\" class=\"data row1 col4\" >-0.029209</td>\n",
              "      <td id=\"T_8ce41_row1_col5\" class=\"data row1 col5\" >0.061408</td>\n",
              "      <td id=\"T_8ce41_row1_col6\" class=\"data row1 col6\" >-0.097332</td>\n",
              "    </tr>\n",
              "    <tr>\n",
              "      <th id=\"T_8ce41_level0_row2\" class=\"row_heading level0 row2\" >Baseline</th>\n",
              "      <td id=\"T_8ce41_row2_col0\" class=\"data row2 col0\" >-0.031653</td>\n",
              "      <td id=\"T_8ce41_row2_col1\" class=\"data row2 col1\" >-0.080903</td>\n",
              "      <td id=\"T_8ce41_row2_col2\" class=\"data row2 col2\" >1.000000</td>\n",
              "      <td id=\"T_8ce41_row2_col3\" class=\"data row2 col3\" >0.046388</td>\n",
              "      <td id=\"T_8ce41_row2_col4\" class=\"data row2 col4\" >0.174230</td>\n",
              "      <td id=\"T_8ce41_row2_col5\" class=\"data row2 col5\" >-0.048097</td>\n",
              "      <td id=\"T_8ce41_row2_col6\" class=\"data row2 col6\" >0.046539</td>\n",
              "    </tr>\n",
              "    <tr>\n",
              "      <th id=\"T_8ce41_level0_row3\" class=\"row_heading level0 row3\" >Slant</th>\n",
              "      <td id=\"T_8ce41_row3_col0\" class=\"data row3 col0\" >0.046832</td>\n",
              "      <td id=\"T_8ce41_row3_col1\" class=\"data row3 col1\" >0.291143</td>\n",
              "      <td id=\"T_8ce41_row3_col2\" class=\"data row3 col2\" >0.046388</td>\n",
              "      <td id=\"T_8ce41_row3_col3\" class=\"data row3 col3\" >1.000000</td>\n",
              "      <td id=\"T_8ce41_row3_col4\" class=\"data row3 col4\" >-0.087405</td>\n",
              "      <td id=\"T_8ce41_row3_col5\" class=\"data row3 col5\" >0.260925</td>\n",
              "      <td id=\"T_8ce41_row3_col6\" class=\"data row3 col6\" >-0.150827</td>\n",
              "    </tr>\n",
              "    <tr>\n",
              "      <th id=\"T_8ce41_level0_row4\" class=\"row_heading level0 row4\" >Grade</th>\n",
              "      <td id=\"T_8ce41_row4_col0\" class=\"data row4 col0\" >-0.247520</td>\n",
              "      <td id=\"T_8ce41_row4_col1\" class=\"data row4 col1\" >-0.029209</td>\n",
              "      <td id=\"T_8ce41_row4_col2\" class=\"data row4 col2\" >0.174230</td>\n",
              "      <td id=\"T_8ce41_row4_col3\" class=\"data row4 col3\" >-0.087405</td>\n",
              "      <td id=\"T_8ce41_row4_col4\" class=\"data row4 col4\" >1.000000</td>\n",
              "      <td id=\"T_8ce41_row4_col5\" class=\"data row4 col5\" >-0.727223</td>\n",
              "      <td id=\"T_8ce41_row4_col6\" class=\"data row4 col6\" >0.735540</td>\n",
              "    </tr>\n",
              "    <tr>\n",
              "      <th id=\"T_8ce41_level0_row5\" class=\"row_heading level0 row5\" >Letter grade</th>\n",
              "      <td id=\"T_8ce41_row5_col0\" class=\"data row5 col0\" >0.102509</td>\n",
              "      <td id=\"T_8ce41_row5_col1\" class=\"data row5 col1\" >0.061408</td>\n",
              "      <td id=\"T_8ce41_row5_col2\" class=\"data row5 col2\" >-0.048097</td>\n",
              "      <td id=\"T_8ce41_row5_col3\" class=\"data row5 col3\" >0.260925</td>\n",
              "      <td id=\"T_8ce41_row5_col4\" class=\"data row5 col4\" >-0.727223</td>\n",
              "      <td id=\"T_8ce41_row5_col5\" class=\"data row5 col5\" >1.000000</td>\n",
              "      <td id=\"T_8ce41_row5_col6\" class=\"data row5 col6\" >-0.775114</td>\n",
              "    </tr>\n",
              "    <tr>\n",
              "      <th id=\"T_8ce41_level0_row6\" class=\"row_heading level0 row6\" >Pass no pass 60</th>\n",
              "      <td id=\"T_8ce41_row6_col0\" class=\"data row6 col0\" >-0.102862</td>\n",
              "      <td id=\"T_8ce41_row6_col1\" class=\"data row6 col1\" >-0.097332</td>\n",
              "      <td id=\"T_8ce41_row6_col2\" class=\"data row6 col2\" >0.046539</td>\n",
              "      <td id=\"T_8ce41_row6_col3\" class=\"data row6 col3\" >-0.150827</td>\n",
              "      <td id=\"T_8ce41_row6_col4\" class=\"data row6 col4\" >0.735540</td>\n",
              "      <td id=\"T_8ce41_row6_col5\" class=\"data row6 col5\" >-0.775114</td>\n",
              "      <td id=\"T_8ce41_row6_col6\" class=\"data row6 col6\" >1.000000</td>\n",
              "    </tr>\n",
              "  </tbody>\n",
              "</table>\n"
            ]
          },
          "metadata": {},
          "execution_count": 12
        }
      ]
    },
    {
      "cell_type": "code",
      "source": [
        "# Plotting the dirstribution of datapoints by category to detect imbalance or outliers\n",
        "\n",
        "fig, axs = plt.subplots(1, 5, tight_layout=True, figsize=(20, 5))\n",
        "n_bins = 20\n",
        "\n",
        "axs[0].hist(data_num[\"T_Bar Height\"], bins=n_bins)\n",
        "axs[0].set_title('T_Bar Height Distribution')\n",
        "axs[1].hist(data_num['Letter Size'], bins=n_bins)\n",
        "axs[1].set_title('Letter Size Distribution')\n",
        "axs[2].hist(data_num['Baseline'], bins=n_bins)\n",
        "axs[2].set_title('Baseline Distribution')\n",
        "axs[3].hist(data_num['Slant'], bins=n_bins)\n",
        "axs[3].set_title('Slant Distribution')\n",
        "axs[4].hist(data_num['Letter grade'], bins=n_bins)\n",
        "axs[4].set_title('Letter grade Distribution')"
      ],
      "metadata": {
        "colab": {
          "base_uri": "https://localhost:8080/",
          "height": 386
        },
        "id": "jnC5SODDnk-j",
        "outputId": "16b789aa-64b1-4146-df14-21fd625c5aaa"
      },
      "execution_count": null,
      "outputs": [
        {
          "output_type": "execute_result",
          "data": {
            "text/plain": [
              "Text(0.5, 1.0, 'Letter grade Distribution')"
            ]
          },
          "metadata": {},
          "execution_count": 13
        },
        {
          "output_type": "display_data",
          "data": {
            "text/plain": [
              "<Figure size 1440x360 with 5 Axes>"
            ],
            "image/png": "[encoded data removed]"
          },
          "metadata": {
            "needs_background": "light"
          }
        }
      ]
    },
    {
      "cell_type": "code",
      "source": [
        "# Plotting the dirstribution of datapoints by category to detect imbalance or outliers\n",
        "\n",
        "sns.catplot(x = \"T_Bar Height\", kind=\"count\", palette=\"ch:.25\", data = data_num)\n",
        "sns.catplot(x=\"Slant\", kind=\"count\", palette=\"ch:.25\", data=data_num )\n",
        "sns.catplot( x=\"Letter Size\", kind=\"count\", palette=\"ch:.25\", data=data_num)\n",
        "sns.catplot( x=\"Baseline\", kind=\"count\", palette=\"ch:.25\", data=data_num)\n",
        "sns.catplot( x=\"Letter grade\", kind=\"count\", palette=\"ch:.25\", data=data_num)\n"
      ],
      "metadata": {
        "colab": {
          "base_uri": "https://localhost:8080/",
          "height": 1000
        },
        "id": "91LIi5BORLQb",
        "outputId": "781c219b-abb9-4cb5-ef7b-ef52682ea9f7"
      },
      "execution_count": null,
      "outputs": [
        {
          "output_type": "execute_result",
          "data": {
            "text/plain": [
              "<seaborn.axisgrid.FacetGrid at 0x7f481ebdaed0>"
            ]
          },
          "metadata": {},
          "execution_count": 14
        },
        {
          "output_type": "display_data",
          "data": {
            "text/plain": [
              "<Figure size 360x360 with 1 Axes>"
            ],
            "image/png": "[encoded data removed]"
          },
          "metadata": {
            "needs_background": "light"
          }
        },
        {
          "output_type": "display_data",
          "data": {
            "text/plain": [
              "<Figure size 360x360 with 1 Axes>"
            ],
            "image/png": "[encoded data removed]"
          },
          "metadata": {
            "needs_background": "light"
          }
        },
        {
          "output_type": "display_data",
          "data": {
            "text/plain": [
              "<Figure size 360x360 with 1 Axes>"
            ],
            "image/png": "[encoded data removed]"
          },
          "metadata": {
            "needs_background": "light"
          }
        },
        {
          "output_type": "display_data",
          "data": {
            "text/plain": [
              "<Figure size 360x360 with 1 Axes>"
            ],
            "image/png": "[encoded data removed]"
          },
          "metadata": {
            "needs_background": "light"
          }
        },
        {
          "output_type": "display_data",
          "data": {
            "text/plain": [
              "<Figure size 360x360 with 1 Axes>"
            ],
            "image/png": "[encoded data removed]"
          },
          "metadata": {
            "needs_background": "light"
          }
        }
      ]
    },
    {
      "cell_type": "code",
      "source": [
        "# distribution of studnets who passed/ didn't pass the midterm \n",
        "sns.catplot( x=\"Pass no pass 60\", kind=\"count\", palette=\"ch:.25\", data=data_num)\n",
        "plt.text(-0.1,37,\"No Pass\")\n",
        "plt.text(0.9,15,\"Pass\")\n",
        "plt.xlabel(\"\")\n",
        "plt.show()\n",
        "\n"
      ],
      "metadata": {
        "id": "dTZN0TGqm43p",
        "colab": {
          "base_uri": "https://localhost:8080/",
          "height": 357
        },
        "outputId": "13b1c1f2-30cf-41ea-ccea-fdbc303a7eeb"
      },
      "execution_count": null,
      "outputs": [
        {
          "output_type": "display_data",
          "data": {
            "text/plain": [
              "<Figure size 360x360 with 1 Axes>"
            ],
            "image/png": "[encoded data removed]"
          },
          "metadata": {
            "needs_background": "light"
          }
        }
      ]
    },
    {
      "cell_type": "code",
      "source": [
        "# Letter grade distribution\n",
        "plt.scatter(x = data[\"Student ID\"], y = data_num[\"Letter grade\"])\n",
        "plt.xticks([])\n",
        "plt.title(\"Distribution of students by their letter grade\")\n",
        "plt.show()"
      ],
      "metadata": {
        "colab": {
          "base_uri": "https://localhost:8080/",
          "height": 268
        },
        "id": "w_39QGapmSl5",
        "outputId": "1bad0d31-26fa-4ab1-8b58-0c70a9fcdd31"
      },
      "execution_count": null,
      "outputs": [
        {
          "output_type": "display_data",
          "data": {
            "text/plain": [
              "<Figure size 432x288 with 1 Axes>"
            ],
            "image/png": "[encoded data removed]"
          },
          "metadata": {
            "needs_background": "light"
          }
        }
      ]
    },
    {
      "cell_type": "markdown",
      "source": [
        "### Letter Grade predicition models"
      ],
      "metadata": {
        "id": "0tgA8hXjGCUy"
      }
    },
    {
      "cell_type": "markdown",
      "source": [
        "#### Train Test Split"
      ],
      "metadata": {
        "id": "9bd-97Fl2zd-"
      }
    },
    {
      "cell_type": "code",
      "source": [
        "# creating a dataframe of features\n",
        "features = data_num.iloc[:,0:4]\n",
        "features.head()"
      ],
      "metadata": {
        "id": "8hjdymAk2MlO",
        "colab": {
          "base_uri": "https://localhost:8080/",
          "height": 206
        },
        "outputId": "21e34754-52d9-4dba-ded8-ea2a415469c4"
      },
      "execution_count": null,
      "outputs": [
        {
          "output_type": "execute_result",
          "data": {
            "text/plain": [
              "   T_Bar Height  Letter Size  Baseline  Slant\n",
              "0             2            1         2      4\n",
              "1             1            2         0      4\n",
              "2             1            1         2      3\n",
              "3             2            1         2      3\n",
              "4             0            1         0      4"
            ],
            "text/html": [
              "\n",
              "  <div id=\"df-ab614c07-1a30-4275-b947-b776878a10da\">\n",
              "    <div class=\"colab-df-container\">\n",
              "      <div>\n",
              "<style scoped>\n",
              "    .dataframe tbody tr th:only-of-type {\n",
              "        vertical-align: middle;\n",
              "    }\n",
              "\n",
              "    .dataframe tbody tr th {\n",
              "        vertical-align: top;\n",
              "    }\n",
              "\n",
              "    .dataframe thead th {\n",
              "        text-align: right;\n",
              "    }\n",
              "</style>\n",
              "<table border=\"1\" class=\"dataframe\">\n",
              "  <thead>\n",
              "    <tr style=\"text-align: right;\">\n",
              "      <th></th>\n",
              "      <th>T_Bar Height</th>\n",
              "      <th>Letter Size</th>\n",
              "      <th>Baseline</th>\n",
              "      <th>Slant</th>\n",
              "    </tr>\n",
              "  </thead>\n",
              "  <tbody>\n",
              "    <tr>\n",
              "      <th>0</th>\n",
              "      <td>2</td>\n",
              "      <td>1</td>\n",
              "      <td>2</td>\n",
              "      <td>4</td>\n",
              "    </tr>\n",
              "    <tr>\n",
              "      <th>1</th>\n",
              "      <td>1</td>\n",
              "      <td>2</td>\n",
              "      <td>0</td>\n",
              "      <td>4</td>\n",
              "    </tr>\n",
              "    <tr>\n",
              "      <th>2</th>\n",
              "      <td>1</td>\n",
              "      <td>1</td>\n",
              "      <td>2</td>\n",
              "      <td>3</td>\n",
              "    </tr>\n",
              "    <tr>\n",
              "      <th>3</th>\n",
              "      <td>2</td>\n",
              "      <td>1</td>\n",
              "      <td>2</td>\n",
              "      <td>3</td>\n",
              "    </tr>\n",
              "    <tr>\n",
              "      <th>4</th>\n",
              "      <td>0</td>\n",
              "      <td>1</td>\n",
              "      <td>0</td>\n",
              "      <td>4</td>\n",
              "    </tr>\n",
              "  </tbody>\n",
              "</table>\n",
              "</div>\n",
              "      <button class=\"colab-df-convert\" onclick=\"convertToInteractive('df-ab614c07-1a30-4275-b947-b776878a10da')\"\n",
              "              title=\"Convert this dataframe to an interactive table.\"\n",
              "              style=\"display:none;\">\n",
              "        \n",
              "  <svg xmlns=\"http://www.w3.org/2000/svg\" height=\"24px\"viewBox=\"0 0 24 24\"\n",
              "       width=\"24px\">\n",
              "    <path d=\"M0 0h24v24H0V0z\" fill=\"none\"/>\n",
              "    <path d=\"M18.56 5.44l.94 2.06.94-2.06 2.06-.94-2.06-.94-.94-2.06-.94 2.06-2.06.94zm-11 1L8.5 8.5l.94-2.06 2.06-.94-2.06-.94L8.5 2.5l-.94 2.06-2.06.94zm10 10l.94 2.06.94-2.06 2.06-.94-2.06-.94-.94-2.06-.94 2.06-2.06.94z\"/><path d=\"M17.41 7.96l-1.37-1.37c-.4-.4-.92-.59-1.43-.59-.52 0-1.04.2-1.43.59L10.3 9.45l-7.72 7.72c-.78.78-.78 2.05 0 2.83L4 21.41c.39.39.9.59 1.41.59.51 0 1.02-.2 1.41-.59l7.78-7.78 2.81-2.81c.8-.78.8-2.07 0-2.86zM5.41 20L4 18.59l7.72-7.72 1.47 1.35L5.41 20z\"/>\n",
              "  </svg>\n",
              "      </button>\n",
              "      \n",
              "  <style>\n",
              "    .colab-df-container {\n",
              "      display:flex;\n",
              "      flex-wrap:wrap;\n",
              "      gap: 12px;\n",
              "    }\n",
              "\n",
              "    .colab-df-convert {\n",
              "      background-color: #E8F0FE;\n",
              "      border: none;\n",
              "      border-radius: 50%;\n",
              "      cursor: pointer;\n",
              "      display: none;\n",
              "      fill: #1967D2;\n",
              "      height: 32px;\n",
              "      padding: 0 0 0 0;\n",
              "      width: 32px;\n",
              "    }\n",
              "\n",
              "    .colab-df-convert:hover {\n",
              "      background-color: #E2EBFA;\n",
              "      box-shadow: 0px 1px 2px rgba(60, 64, 67, 0.3), 0px 1px 3px 1px rgba(60, 64, 67, 0.15);\n",
              "      fill: #174EA6;\n",
              "    }\n",
              "\n",
              "    [theme=dark] .colab-df-convert {\n",
              "      background-color: #3B4455;\n",
              "      fill: #D2E3FC;\n",
              "    }\n",
              "\n",
              "    [theme=dark] .colab-df-convert:hover {\n",
              "      background-color: #434B5C;\n",
              "      box-shadow: 0px 1px 3px 1px rgba(0, 0, 0, 0.15);\n",
              "      filter: drop-shadow(0px 1px 2px rgba(0, 0, 0, 0.3));\n",
              "      fill: #FFFFFF;\n",
              "    }\n",
              "  </style>\n",
              "\n",
              "      <script>\n",
              "        const buttonEl =\n",
              "          document.querySelector('#df-ab614c07-1a30-4275-b947-b776878a10da button.colab-df-convert');\n",
              "        buttonEl.style.display =\n",
              "          google.colab.kernel.accessAllowed ? 'block' : 'none';\n",
              "\n",
              "        async function convertToInteractive(key) {\n",
              "          const element = document.querySelector('#df-ab614c07-1a30-4275-b947-b776878a10da');\n",
              "          const dataTable =\n",
              "            await google.colab.kernel.invokeFunction('convertToInteractive',\n",
              "                                                     [key], {});\n",
              "          if (!dataTable) return;\n",
              "\n",
              "          const docLinkHtml = 'Like what you see? Visit the ' +\n",
              "            '<a target=\"_blank\" href=https://colab.research.google.com/notebooks/data_table.ipynb>data table notebook</a>'\n",
              "            + ' to learn more about interactive tables.';\n",
              "          element.innerHTML = '';\n",
              "          dataTable['output_type'] = 'display_data';\n",
              "          await google.colab.output.renderOutput(dataTable, element);\n",
              "          const docLink = document.createElement('div');\n",
              "          docLink.innerHTML = docLinkHtml;\n",
              "          element.appendChild(docLink);\n",
              "        }\n",
              "      </script>\n",
              "    </div>\n",
              "  </div>\n",
              "  "
            ]
          },
          "metadata": {},
          "execution_count": 17
        }
      ]
    },
    {
      "cell_type": "code",
      "source": [
        "# all 4 characteristics together\n",
        "X_train, X_test, y_train, y_test = train_test_split( features, data_num[\"Letter grade\"], test_size=0.2, random_state=42)"
      ],
      "metadata": {
        "id": "FNQld_ocxCqJ"
      },
      "execution_count": null,
      "outputs": []
    },
    {
      "cell_type": "code",
      "source": [
        "# to train model only based in slant\n",
        "X_train, X_test, y_train, y_test = train_test_split( features[[\"Slant\"]], data_num[\"Letter grade\"], test_size=0.2, random_state=42)"
      ],
      "metadata": {
        "id": "dQATWRyA8HpB"
      },
      "execution_count": null,
      "outputs": []
    },
    {
      "cell_type": "code",
      "source": [
        "# to train model only based in Baseline\n",
        "X_train, X_test, y_train, y_test = train_test_split( features[[\"Baseline\"]], data_num[\"Letter grade\"], test_size=0.2, random_state=42)"
      ],
      "metadata": {
        "id": "tCssV43i8cnN"
      },
      "execution_count": null,
      "outputs": []
    },
    {
      "cell_type": "code",
      "source": [
        "# to train model only based in T_bar height\n",
        "X_train, X_test, y_train, y_test = train_test_split( features[[\"T_Bar Height\"]], data_num[\"Letter grade\"], test_size=0.2, random_state=42)"
      ],
      "metadata": {
        "id": "H2q1zPBT8wFC"
      },
      "execution_count": null,
      "outputs": []
    },
    {
      "cell_type": "code",
      "source": [
        "# to train model only based in T_bar height\n",
        "X_train, X_test, y_train, y_test = train_test_split( features[[\"Letter Size\"]], data_num[\"Letter grade\"], test_size=0.2, random_state=42)"
      ],
      "metadata": {
        "id": "yif-6Ugh9FqQ"
      },
      "execution_count": null,
      "outputs": []
    },
    {
      "cell_type": "markdown",
      "source": [
        "#### MLP for Letter Grade prediction"
      ],
      "metadata": {
        "id": "fS-hzDff8CAn"
      }
    },
    {
      "cell_type": "code",
      "source": [
        "hidden_layer_sizes = [2,(2,3),3,(3,4),5,(6,5),7,(8,2),9,(10,2),15,(20,2)]\n",
        "max_iter = [10, 15, 20, 30, 50, 100]\n",
        "activation = [\"relu\", \"tanh\", \"logistic\", \"identity\"]\n",
        "solver = [\"sgd\", \"adam\"]\n",
        "\n",
        "MLP_results = []\n",
        "\n",
        "for layer in hidden_layer_sizes:\n",
        "  for iter in max_iter:\n",
        "    for act in activation:\n",
        "      for s in solver:\n",
        "        classifier = MLPClassifier(hidden_layer_sizes = layer,\n",
        "                      max_iter = iter,\n",
        "                      activation = act,\n",
        "                      solver = s,\n",
        "                      verbose = False,\n",
        "                      early_stopping = False,\n",
        "                      random_state = 7)\n",
        "        classifier.fit(X_train, y_train)\n",
        "        predicitons = classifier.predict(X_test)\n",
        "        tsscore = np.round(metrics.accuracy_score(y_test, predicitons),4)\n",
        "        predicitons1 = classifier.predict(X_train)\n",
        "        trscore = np.round(metrics.accuracy_score(y_train, predicitons1),4)\n",
        "        f1 = metrics.f1_score(y_test, predicitons,average='weighted')\n",
        "        loss = classifier.loss_\n",
        "\n",
        "        MLP_results.append([layer, iter, act, s, tsscore, trscore, f1, loss])\n",
        "      "
      ],
      "metadata": {
        "id": "WXkiEdIE2tPf"
      },
      "execution_count": null,
      "outputs": []
    },
    {
      "cell_type": "code",
      "source": [
        "MLP_results_df = pd.DataFrame(MLP_results)\n",
        "MLP_results_df.columns =['Hidden Layer Sizes', 'Max Iter.', 'Activation', 'Solver', \"TS Accuracy\", \"TR Accuracy\", \"F1\", \"Loss\"]\n",
        "MLP_results_df.sort_values(by = [\"TS Accuracy\",\"TR Accuracy\", \"F1\"], inplace = True, ascending = False)\n",
        "MLP_results_df"
      ],
      "metadata": {
        "colab": {
          "base_uri": "https://localhost:8080/",
          "height": 424
        },
        "id": "0ss0-xTf6uOW",
        "outputId": "c08080ed-5fb5-4aa0-f618-1da64a31ffa3"
      },
      "execution_count": null,
      "outputs": [
        {
          "output_type": "execute_result",
          "data": {
            "text/plain": [
              "    Hidden Layer Sizes  Max Iter. Activation Solver  TS Accuracy  TR Accuracy  \\\n",
              "308                  7         20   logistic    sgd          0.8        0.750   \n",
              "318                  7         30   identity    sgd          0.8        0.750   \n",
              "4                    2         10   logistic    sgd          0.8        0.725   \n",
              "12                   2         15   logistic    sgd          0.8        0.725   \n",
              "13                   2         15   logistic   adam          0.8        0.725   \n",
              "..                 ...        ...        ...    ...          ...          ...   \n",
              "555            (20, 2)         30       tanh   adam          0.0        0.025   \n",
              "562            (20, 2)         50       tanh    sgd          0.0        0.025   \n",
              "432            (10, 2)         10       relu    sgd          0.0        0.000   \n",
              "433            (10, 2)         10       relu   adam          0.0        0.000   \n",
              "441            (10, 2)         15       relu   adam          0.0        0.000   \n",
              "\n",
              "           F1      Loss  \n",
              "308  0.711111  1.604336  \n",
              "318  0.711111  1.171569  \n",
              "4    0.711111  1.502498  \n",
              "12   0.711111  1.487558  \n",
              "13   0.711111  1.487923  \n",
              "..        ...       ...  \n",
              "555  0.000000  2.309303  \n",
              "562  0.000000  2.078879  \n",
              "432  0.000000  1.814869  \n",
              "433  0.000000  1.867947  \n",
              "441  0.000000  1.823780  \n",
              "\n",
              "[576 rows x 8 columns]"
            ],
            "text/html": [
              "\n",
              "  <div id=\"df-b90709cc-89bd-46f9-8a80-c434dfd7d2b0\">\n",
              "    <div class=\"colab-df-container\">\n",
              "      <div>\n",
              "<style scoped>\n",
              "    .dataframe tbody tr th:only-of-type {\n",
              "        vertical-align: middle;\n",
              "    }\n",
              "\n",
              "    .dataframe tbody tr th {\n",
              "        vertical-align: top;\n",
              "    }\n",
              "\n",
              "    .dataframe thead th {\n",
              "        text-align: right;\n",
              "    }\n",
              "</style>\n",
              "<table border=\"1\" class=\"dataframe\">\n",
              "  <thead>\n",
              "    <tr style=\"text-align: right;\">\n",
              "      <th></th>\n",
              "      <th>Hidden Layer Sizes</th>\n",
              "      <th>Max Iter.</th>\n",
              "      <th>Activation</th>\n",
              "      <th>Solver</th>\n",
              "      <th>TS Accuracy</th>\n",
              "      <th>TR Accuracy</th>\n",
              "      <th>F1</th>\n",
              "      <th>Loss</th>\n",
              "    </tr>\n",
              "  </thead>\n",
              "  <tbody>\n",
              "    <tr>\n",
              "      <th>308</th>\n",
              "      <td>7</td>\n",
              "      <td>20</td>\n",
              "      <td>logistic</td>\n",
              "      <td>sgd</td>\n",
              "      <td>0.8</td>\n",
              "      <td>0.750</td>\n",
              "      <td>0.711111</td>\n",
              "      <td>1.604336</td>\n",
              "    </tr>\n",
              "    <tr>\n",
              "      <th>318</th>\n",
              "      <td>7</td>\n",
              "      <td>30</td>\n",
              "      <td>identity</td>\n",
              "      <td>sgd</td>\n",
              "      <td>0.8</td>\n",
              "      <td>0.750</td>\n",
              "      <td>0.711111</td>\n",
              "      <td>1.171569</td>\n",
              "    </tr>\n",
              "    <tr>\n",
              "      <th>4</th>\n",
              "      <td>2</td>\n",
              "      <td>10</td>\n",
              "      <td>logistic</td>\n",
              "      <td>sgd</td>\n",
              "      <td>0.8</td>\n",
              "      <td>0.725</td>\n",
              "      <td>0.711111</td>\n",
              "      <td>1.502498</td>\n",
              "    </tr>\n",
              "    <tr>\n",
              "      <th>12</th>\n",
              "      <td>2</td>\n",
              "      <td>15</td>\n",
              "      <td>logistic</td>\n",
              "      <td>sgd</td>\n",
              "      <td>0.8</td>\n",
              "      <td>0.725</td>\n",
              "      <td>0.711111</td>\n",
              "      <td>1.487558</td>\n",
              "    </tr>\n",
              "    <tr>\n",
              "      <th>13</th>\n",
              "      <td>2</td>\n",
              "      <td>15</td>\n",
              "      <td>logistic</td>\n",
              "      <td>adam</td>\n",
              "      <td>0.8</td>\n",
              "      <td>0.725</td>\n",
              "      <td>0.711111</td>\n",
              "      <td>1.487923</td>\n",
              "    </tr>\n",
              "    <tr>\n",
              "      <th>...</th>\n",
              "      <td>...</td>\n",
              "      <td>...</td>\n",
              "      <td>...</td>\n",
              "      <td>...</td>\n",
              "      <td>...</td>\n",
              "      <td>...</td>\n",
              "      <td>...</td>\n",
              "      <td>...</td>\n",
              "    </tr>\n",
              "    <tr>\n",
              "      <th>555</th>\n",
              "      <td>(20, 2)</td>\n",
              "      <td>30</td>\n",
              "      <td>tanh</td>\n",
              "      <td>adam</td>\n",
              "      <td>0.0</td>\n",
              "      <td>0.025</td>\n",
              "      <td>0.000000</td>\n",
              "      <td>2.309303</td>\n",
              "    </tr>\n",
              "    <tr>\n",
              "      <th>562</th>\n",
              "      <td>(20, 2)</td>\n",
              "      <td>50</td>\n",
              "      <td>tanh</td>\n",
              "      <td>sgd</td>\n",
              "      <td>0.0</td>\n",
              "      <td>0.025</td>\n",
              "      <td>0.000000</td>\n",
              "      <td>2.078879</td>\n",
              "    </tr>\n",
              "    <tr>\n",
              "      <th>432</th>\n",
              "      <td>(10, 2)</td>\n",
              "      <td>10</td>\n",
              "      <td>relu</td>\n",
              "      <td>sgd</td>\n",
              "      <td>0.0</td>\n",
              "      <td>0.000</td>\n",
              "      <td>0.000000</td>\n",
              "      <td>1.814869</td>\n",
              "    </tr>\n",
              "    <tr>\n",
              "      <th>433</th>\n",
              "      <td>(10, 2)</td>\n",
              "      <td>10</td>\n",
              "      <td>relu</td>\n",
              "      <td>adam</td>\n",
              "      <td>0.0</td>\n",
              "      <td>0.000</td>\n",
              "      <td>0.000000</td>\n",
              "      <td>1.867947</td>\n",
              "    </tr>\n",
              "    <tr>\n",
              "      <th>441</th>\n",
              "      <td>(10, 2)</td>\n",
              "      <td>15</td>\n",
              "      <td>relu</td>\n",
              "      <td>adam</td>\n",
              "      <td>0.0</td>\n",
              "      <td>0.000</td>\n",
              "      <td>0.000000</td>\n",
              "      <td>1.823780</td>\n",
              "    </tr>\n",
              "  </tbody>\n",
              "</table>\n",
              "<p>576 rows × 8 columns</p>\n",
              "</div>\n",
              "      <button class=\"colab-df-convert\" onclick=\"convertToInteractive('df-b90709cc-89bd-46f9-8a80-c434dfd7d2b0')\"\n",
              "              title=\"Convert this dataframe to an interactive table.\"\n",
              "              style=\"display:none;\">\n",
              "        \n",
              "  <svg xmlns=\"http://www.w3.org/2000/svg\" height=\"24px\"viewBox=\"0 0 24 24\"\n",
              "       width=\"24px\">\n",
              "    <path d=\"M0 0h24v24H0V0z\" fill=\"none\"/>\n",
              "    <path d=\"M18.56 5.44l.94 2.06.94-2.06 2.06-.94-2.06-.94-.94-2.06-.94 2.06-2.06.94zm-11 1L8.5 8.5l.94-2.06 2.06-.94-2.06-.94L8.5 2.5l-.94 2.06-2.06.94zm10 10l.94 2.06.94-2.06 2.06-.94-2.06-.94-.94-2.06-.94 2.06-2.06.94z\"/><path d=\"M17.41 7.96l-1.37-1.37c-.4-.4-.92-.59-1.43-.59-.52 0-1.04.2-1.43.59L10.3 9.45l-7.72 7.72c-.78.78-.78 2.05 0 2.83L4 21.41c.39.39.9.59 1.41.59.51 0 1.02-.2 1.41-.59l7.78-7.78 2.81-2.81c.8-.78.8-2.07 0-2.86zM5.41 20L4 18.59l7.72-7.72 1.47 1.35L5.41 20z\"/>\n",
              "  </svg>\n",
              "      </button>\n",
              "      \n",
              "  <style>\n",
              "    .colab-df-container {\n",
              "      display:flex;\n",
              "      flex-wrap:wrap;\n",
              "      gap: 12px;\n",
              "    }\n",
              "\n",
              "    .colab-df-convert {\n",
              "      background-color: #E8F0FE;\n",
              "      border: none;\n",
              "      border-radius: 50%;\n",
              "      cursor: pointer;\n",
              "      display: none;\n",
              "      fill: #1967D2;\n",
              "      height: 32px;\n",
              "      padding: 0 0 0 0;\n",
              "      width: 32px;\n",
              "    }\n",
              "\n",
              "    .colab-df-convert:hover {\n",
              "      background-color: #E2EBFA;\n",
              "      box-shadow: 0px 1px 2px rgba(60, 64, 67, 0.3), 0px 1px 3px 1px rgba(60, 64, 67, 0.15);\n",
              "      fill: #174EA6;\n",
              "    }\n",
              "\n",
              "    [theme=dark] .colab-df-convert {\n",
              "      background-color: #3B4455;\n",
              "      fill: #D2E3FC;\n",
              "    }\n",
              "\n",
              "    [theme=dark] .colab-df-convert:hover {\n",
              "      background-color: #434B5C;\n",
              "      box-shadow: 0px 1px 3px 1px rgba(0, 0, 0, 0.15);\n",
              "      filter: drop-shadow(0px 1px 2px rgba(0, 0, 0, 0.3));\n",
              "      fill: #FFFFFF;\n",
              "    }\n",
              "  </style>\n",
              "\n",
              "      <script>\n",
              "        const buttonEl =\n",
              "          document.querySelector('#df-b90709cc-89bd-46f9-8a80-c434dfd7d2b0 button.colab-df-convert');\n",
              "        buttonEl.style.display =\n",
              "          google.colab.kernel.accessAllowed ? 'block' : 'none';\n",
              "\n",
              "        async function convertToInteractive(key) {\n",
              "          const element = document.querySelector('#df-b90709cc-89bd-46f9-8a80-c434dfd7d2b0');\n",
              "          const dataTable =\n",
              "            await google.colab.kernel.invokeFunction('convertToInteractive',\n",
              "                                                     [key], {});\n",
              "          if (!dataTable) return;\n",
              "\n",
              "          const docLinkHtml = 'Like what you see? Visit the ' +\n",
              "            '<a target=\"_blank\" href=https://colab.research.google.com/notebooks/data_table.ipynb>data table notebook</a>'\n",
              "            + ' to learn more about interactive tables.';\n",
              "          element.innerHTML = '';\n",
              "          dataTable['output_type'] = 'display_data';\n",
              "          await google.colab.output.renderOutput(dataTable, element);\n",
              "          const docLink = document.createElement('div');\n",
              "          docLink.innerHTML = docLinkHtml;\n",
              "          element.appendChild(docLink);\n",
              "        }\n",
              "      </script>\n",
              "    </div>\n",
              "  </div>\n",
              "  "
            ]
          },
          "metadata": {},
          "execution_count": 69
        }
      ]
    },
    {
      "cell_type": "code",
      "source": [
        "MLP_results_df.describe()"
      ],
      "metadata": {
        "colab": {
          "base_uri": "https://localhost:8080/",
          "height": 300
        },
        "id": "lktSqgvX662W",
        "outputId": "7c1eb51d-bc28-41ed-c6c1-6e2255b99a0e"
      },
      "execution_count": null,
      "outputs": [
        {
          "output_type": "execute_result",
          "data": {
            "text/plain": [
              "        Max Iter.  TS Accuracy  TR Accuracy          F1        Loss\n",
              "count  576.000000   576.000000   576.000000  576.000000  576.000000\n",
              "mean    37.500000     0.394444     0.378993    0.369059    1.706690\n",
              "std     30.815016     0.374682     0.302089    0.336310    0.483672\n",
              "min     10.000000     0.000000     0.000000    0.000000    0.970438\n",
              "25%     15.000000     0.000000     0.075000    0.000000    1.348252\n",
              "50%     25.000000     0.450000     0.325000    0.533333    1.653485\n",
              "75%     50.000000     0.800000     0.725000    0.711111    1.991789\n",
              "max    100.000000     0.800000     0.750000    0.752941    3.581242"
            ],
            "text/html": [
              "\n",
              "  <div id=\"df-29fc99c9-d0d4-4a0d-8c82-be1b0e4d8f9c\">\n",
              "    <div class=\"colab-df-container\">\n",
              "      <div>\n",
              "<style scoped>\n",
              "    .dataframe tbody tr th:only-of-type {\n",
              "        vertical-align: middle;\n",
              "    }\n",
              "\n",
              "    .dataframe tbody tr th {\n",
              "        vertical-align: top;\n",
              "    }\n",
              "\n",
              "    .dataframe thead th {\n",
              "        text-align: right;\n",
              "    }\n",
              "</style>\n",
              "<table border=\"1\" class=\"dataframe\">\n",
              "  <thead>\n",
              "    <tr style=\"text-align: right;\">\n",
              "      <th></th>\n",
              "      <th>Max Iter.</th>\n",
              "      <th>TS Accuracy</th>\n",
              "      <th>TR Accuracy</th>\n",
              "      <th>F1</th>\n",
              "      <th>Loss</th>\n",
              "    </tr>\n",
              "  </thead>\n",
              "  <tbody>\n",
              "    <tr>\n",
              "      <th>count</th>\n",
              "      <td>576.000000</td>\n",
              "      <td>576.000000</td>\n",
              "      <td>576.000000</td>\n",
              "      <td>576.000000</td>\n",
              "      <td>576.000000</td>\n",
              "    </tr>\n",
              "    <tr>\n",
              "      <th>mean</th>\n",
              "      <td>37.500000</td>\n",
              "      <td>0.394444</td>\n",
              "      <td>0.378993</td>\n",
              "      <td>0.369059</td>\n",
              "      <td>1.706690</td>\n",
              "    </tr>\n",
              "    <tr>\n",
              "      <th>std</th>\n",
              "      <td>30.815016</td>\n",
              "      <td>0.374682</td>\n",
              "      <td>0.302089</td>\n",
              "      <td>0.336310</td>\n",
              "      <td>0.483672</td>\n",
              "    </tr>\n",
              "    <tr>\n",
              "      <th>min</th>\n",
              "      <td>10.000000</td>\n",
              "      <td>0.000000</td>\n",
              "      <td>0.000000</td>\n",
              "      <td>0.000000</td>\n",
              "      <td>0.970438</td>\n",
              "    </tr>\n",
              "    <tr>\n",
              "      <th>25%</th>\n",
              "      <td>15.000000</td>\n",
              "      <td>0.000000</td>\n",
              "      <td>0.075000</td>\n",
              "      <td>0.000000</td>\n",
              "      <td>1.348252</td>\n",
              "    </tr>\n",
              "    <tr>\n",
              "      <th>50%</th>\n",
              "      <td>25.000000</td>\n",
              "      <td>0.450000</td>\n",
              "      <td>0.325000</td>\n",
              "      <td>0.533333</td>\n",
              "      <td>1.653485</td>\n",
              "    </tr>\n",
              "    <tr>\n",
              "      <th>75%</th>\n",
              "      <td>50.000000</td>\n",
              "      <td>0.800000</td>\n",
              "      <td>0.725000</td>\n",
              "      <td>0.711111</td>\n",
              "      <td>1.991789</td>\n",
              "    </tr>\n",
              "    <tr>\n",
              "      <th>max</th>\n",
              "      <td>100.000000</td>\n",
              "      <td>0.800000</td>\n",
              "      <td>0.750000</td>\n",
              "      <td>0.752941</td>\n",
              "      <td>3.581242</td>\n",
              "    </tr>\n",
              "  </tbody>\n",
              "</table>\n",
              "</div>\n",
              "      <button class=\"colab-df-convert\" onclick=\"convertToInteractive('df-29fc99c9-d0d4-4a0d-8c82-be1b0e4d8f9c')\"\n",
              "              title=\"Convert this dataframe to an interactive table.\"\n",
              "              style=\"display:none;\">\n",
              "        \n",
              "  <svg xmlns=\"http://www.w3.org/2000/svg\" height=\"24px\"viewBox=\"0 0 24 24\"\n",
              "       width=\"24px\">\n",
              "    <path d=\"M0 0h24v24H0V0z\" fill=\"none\"/>\n",
              "    <path d=\"M18.56 5.44l.94 2.06.94-2.06 2.06-.94-2.06-.94-.94-2.06-.94 2.06-2.06.94zm-11 1L8.5 8.5l.94-2.06 2.06-.94-2.06-.94L8.5 2.5l-.94 2.06-2.06.94zm10 10l.94 2.06.94-2.06 2.06-.94-2.06-.94-.94-2.06-.94 2.06-2.06.94z\"/><path d=\"M17.41 7.96l-1.37-1.37c-.4-.4-.92-.59-1.43-.59-.52 0-1.04.2-1.43.59L10.3 9.45l-7.72 7.72c-.78.78-.78 2.05 0 2.83L4 21.41c.39.39.9.59 1.41.59.51 0 1.02-.2 1.41-.59l7.78-7.78 2.81-2.81c.8-.78.8-2.07 0-2.86zM5.41 20L4 18.59l7.72-7.72 1.47 1.35L5.41 20z\"/>\n",
              "  </svg>\n",
              "      </button>\n",
              "      \n",
              "  <style>\n",
              "    .colab-df-container {\n",
              "      display:flex;\n",
              "      flex-wrap:wrap;\n",
              "      gap: 12px;\n",
              "    }\n",
              "\n",
              "    .colab-df-convert {\n",
              "      background-color: #E8F0FE;\n",
              "      border: none;\n",
              "      border-radius: 50%;\n",
              "      cursor: pointer;\n",
              "      display: none;\n",
              "      fill: #1967D2;\n",
              "      height: 32px;\n",
              "      padding: 0 0 0 0;\n",
              "      width: 32px;\n",
              "    }\n",
              "\n",
              "    .colab-df-convert:hover {\n",
              "      background-color: #E2EBFA;\n",
              "      box-shadow: 0px 1px 2px rgba(60, 64, 67, 0.3), 0px 1px 3px 1px rgba(60, 64, 67, 0.15);\n",
              "      fill: #174EA6;\n",
              "    }\n",
              "\n",
              "    [theme=dark] .colab-df-convert {\n",
              "      background-color: #3B4455;\n",
              "      fill: #D2E3FC;\n",
              "    }\n",
              "\n",
              "    [theme=dark] .colab-df-convert:hover {\n",
              "      background-color: #434B5C;\n",
              "      box-shadow: 0px 1px 3px 1px rgba(0, 0, 0, 0.15);\n",
              "      filter: drop-shadow(0px 1px 2px rgba(0, 0, 0, 0.3));\n",
              "      fill: #FFFFFF;\n",
              "    }\n",
              "  </style>\n",
              "\n",
              "      <script>\n",
              "        const buttonEl =\n",
              "          document.querySelector('#df-29fc99c9-d0d4-4a0d-8c82-be1b0e4d8f9c button.colab-df-convert');\n",
              "        buttonEl.style.display =\n",
              "          google.colab.kernel.accessAllowed ? 'block' : 'none';\n",
              "\n",
              "        async function convertToInteractive(key) {\n",
              "          const element = document.querySelector('#df-29fc99c9-d0d4-4a0d-8c82-be1b0e4d8f9c');\n",
              "          const dataTable =\n",
              "            await google.colab.kernel.invokeFunction('convertToInteractive',\n",
              "                                                     [key], {});\n",
              "          if (!dataTable) return;\n",
              "\n",
              "          const docLinkHtml = 'Like what you see? Visit the ' +\n",
              "            '<a target=\"_blank\" href=https://colab.research.google.com/notebooks/data_table.ipynb>data table notebook</a>'\n",
              "            + ' to learn more about interactive tables.';\n",
              "          element.innerHTML = '';\n",
              "          dataTable['output_type'] = 'display_data';\n",
              "          await google.colab.output.renderOutput(dataTable, element);\n",
              "          const docLink = document.createElement('div');\n",
              "          docLink.innerHTML = docLinkHtml;\n",
              "          element.appendChild(docLink);\n",
              "        }\n",
              "      </script>\n",
              "    </div>\n",
              "  </div>\n",
              "  "
            ]
          },
          "metadata": {},
          "execution_count": 70
        }
      ]
    },
    {
      "cell_type": "markdown",
      "source": [
        "The MLP maximum accuracy for all features is 0.71\n",
        "\n",
        "MLP best accuracy on T_bar height is 0.8"
      ],
      "metadata": {
        "id": "_7AgPzuTUwIi"
      }
    },
    {
      "cell_type": "markdown",
      "source": [
        "#### Logitstic Regression for Letter Grade prediciton"
      ],
      "metadata": {
        "id": "HDPoX8s5Al8_"
      }
    },
    {
      "cell_type": "code",
      "source": [
        "from sklearn.linear_model import LogisticRegression\n",
        "penalty =  \"l2\"\n",
        "solver = ['newton-cg', 'lbfgs', 'liblinear']\n",
        "Logistic_Results = []\n",
        "\n",
        "for s in solver:\n",
        "    Logistic_model = LogisticRegression(penalty = penalty, solver = s)\n",
        "    Logistic_model.fit(X_train, y_train)\n",
        "    predictions = Logistic_model.predict(X_test)\n",
        "    score = Logistic_model.score(X_test, y_test)\n",
        "    #f1 = metrics.f1_score(y_test, predictions)\n",
        "    Logistic_Results.append([s, penalty, score])\n",
        "\n"
      ],
      "metadata": {
        "id": "HvC-CBB0-QRh",
        "colab": {
          "base_uri": "https://localhost:8080/"
        },
        "outputId": "e0cbe8d7-0274-4040-89c4-7ed002359dc2"
      },
      "execution_count": null,
      "outputs": [
        {
          "output_type": "stream",
          "name": "stderr",
          "text": [
            "/usr/local/lib/python3.7/dist-packages/sklearn/linear_model/_sag.py:354: ConvergenceWarning: The max_iter was reached which means the coef_ did not converge\n",
            "  ConvergenceWarning,\n",
            "/usr/local/lib/python3.7/dist-packages/sklearn/linear_model/_sag.py:354: ConvergenceWarning: The max_iter was reached which means the coef_ did not converge\n",
            "  ConvergenceWarning,\n"
          ]
        }
      ]
    },
    {
      "cell_type": "code",
      "source": [
        "Logistic_Results = pd.DataFrame(Logistic_Results)\n",
        "Logistic_Results.columns = [\"Solver\", \"Penalty\", \"Accuracy score\"]\n",
        "Logistic_Results"
      ],
      "metadata": {
        "colab": {
          "base_uri": "https://localhost:8080/",
          "height": 206
        },
        "id": "GU9OGwlr7Btk",
        "outputId": "1be680ab-3fc6-45d3-b42f-3d20f3f77484"
      },
      "execution_count": null,
      "outputs": [
        {
          "output_type": "execute_result",
          "data": {
            "text/plain": [
              "      Solver Penalty  Accuracy score\n",
              "0  newton-cg      l2             0.8\n",
              "1      lbfgs      l2             0.8\n",
              "2  liblinear      l2             0.8\n",
              "3        sag      l2             0.8\n",
              "4       saga      l2             0.8"
            ],
            "text/html": [
              "\n",
              "  <div id=\"df-d3695e7c-28f0-4299-8b95-c944cffdb06c\">\n",
              "    <div class=\"colab-df-container\">\n",
              "      <div>\n",
              "<style scoped>\n",
              "    .dataframe tbody tr th:only-of-type {\n",
              "        vertical-align: middle;\n",
              "    }\n",
              "\n",
              "    .dataframe tbody tr th {\n",
              "        vertical-align: top;\n",
              "    }\n",
              "\n",
              "    .dataframe thead th {\n",
              "        text-align: right;\n",
              "    }\n",
              "</style>\n",
              "<table border=\"1\" class=\"dataframe\">\n",
              "  <thead>\n",
              "    <tr style=\"text-align: right;\">\n",
              "      <th></th>\n",
              "      <th>Solver</th>\n",
              "      <th>Penalty</th>\n",
              "      <th>Accuracy score</th>\n",
              "    </tr>\n",
              "  </thead>\n",
              "  <tbody>\n",
              "    <tr>\n",
              "      <th>0</th>\n",
              "      <td>newton-cg</td>\n",
              "      <td>l2</td>\n",
              "      <td>0.8</td>\n",
              "    </tr>\n",
              "    <tr>\n",
              "      <th>1</th>\n",
              "      <td>lbfgs</td>\n",
              "      <td>l2</td>\n",
              "      <td>0.8</td>\n",
              "    </tr>\n",
              "    <tr>\n",
              "      <th>2</th>\n",
              "      <td>liblinear</td>\n",
              "      <td>l2</td>\n",
              "      <td>0.8</td>\n",
              "    </tr>\n",
              "    <tr>\n",
              "      <th>3</th>\n",
              "      <td>sag</td>\n",
              "      <td>l2</td>\n",
              "      <td>0.8</td>\n",
              "    </tr>\n",
              "    <tr>\n",
              "      <th>4</th>\n",
              "      <td>saga</td>\n",
              "      <td>l2</td>\n",
              "      <td>0.8</td>\n",
              "    </tr>\n",
              "  </tbody>\n",
              "</table>\n",
              "</div>\n",
              "      <button class=\"colab-df-convert\" onclick=\"convertToInteractive('df-d3695e7c-28f0-4299-8b95-c944cffdb06c')\"\n",
              "              title=\"Convert this dataframe to an interactive table.\"\n",
              "              style=\"display:none;\">\n",
              "        \n",
              "  <svg xmlns=\"http://www.w3.org/2000/svg\" height=\"24px\"viewBox=\"0 0 24 24\"\n",
              "       width=\"24px\">\n",
              "    <path d=\"M0 0h24v24H0V0z\" fill=\"none\"/>\n",
              "    <path d=\"M18.56 5.44l.94 2.06.94-2.06 2.06-.94-2.06-.94-.94-2.06-.94 2.06-2.06.94zm-11 1L8.5 8.5l.94-2.06 2.06-.94-2.06-.94L8.5 2.5l-.94 2.06-2.06.94zm10 10l.94 2.06.94-2.06 2.06-.94-2.06-.94-.94-2.06-.94 2.06-2.06.94z\"/><path d=\"M17.41 7.96l-1.37-1.37c-.4-.4-.92-.59-1.43-.59-.52 0-1.04.2-1.43.59L10.3 9.45l-7.72 7.72c-.78.78-.78 2.05 0 2.83L4 21.41c.39.39.9.59 1.41.59.51 0 1.02-.2 1.41-.59l7.78-7.78 2.81-2.81c.8-.78.8-2.07 0-2.86zM5.41 20L4 18.59l7.72-7.72 1.47 1.35L5.41 20z\"/>\n",
              "  </svg>\n",
              "      </button>\n",
              "      \n",
              "  <style>\n",
              "    .colab-df-container {\n",
              "      display:flex;\n",
              "      flex-wrap:wrap;\n",
              "      gap: 12px;\n",
              "    }\n",
              "\n",
              "    .colab-df-convert {\n",
              "      background-color: #E8F0FE;\n",
              "      border: none;\n",
              "      border-radius: 50%;\n",
              "      cursor: pointer;\n",
              "      display: none;\n",
              "      fill: #1967D2;\n",
              "      height: 32px;\n",
              "      padding: 0 0 0 0;\n",
              "      width: 32px;\n",
              "    }\n",
              "\n",
              "    .colab-df-convert:hover {\n",
              "      background-color: #E2EBFA;\n",
              "      box-shadow: 0px 1px 2px rgba(60, 64, 67, 0.3), 0px 1px 3px 1px rgba(60, 64, 67, 0.15);\n",
              "      fill: #174EA6;\n",
              "    }\n",
              "\n",
              "    [theme=dark] .colab-df-convert {\n",
              "      background-color: #3B4455;\n",
              "      fill: #D2E3FC;\n",
              "    }\n",
              "\n",
              "    [theme=dark] .colab-df-convert:hover {\n",
              "      background-color: #434B5C;\n",
              "      box-shadow: 0px 1px 3px 1px rgba(0, 0, 0, 0.15);\n",
              "      filter: drop-shadow(0px 1px 2px rgba(0, 0, 0, 0.3));\n",
              "      fill: #FFFFFF;\n",
              "    }\n",
              "  </style>\n",
              "\n",
              "      <script>\n",
              "        const buttonEl =\n",
              "          document.querySelector('#df-d3695e7c-28f0-4299-8b95-c944cffdb06c button.colab-df-convert');\n",
              "        buttonEl.style.display =\n",
              "          google.colab.kernel.accessAllowed ? 'block' : 'none';\n",
              "\n",
              "        async function convertToInteractive(key) {\n",
              "          const element = document.querySelector('#df-d3695e7c-28f0-4299-8b95-c944cffdb06c');\n",
              "          const dataTable =\n",
              "            await google.colab.kernel.invokeFunction('convertToInteractive',\n",
              "                                                     [key], {});\n",
              "          if (!dataTable) return;\n",
              "\n",
              "          const docLinkHtml = 'Like what you see? Visit the ' +\n",
              "            '<a target=\"_blank\" href=https://colab.research.google.com/notebooks/data_table.ipynb>data table notebook</a>'\n",
              "            + ' to learn more about interactive tables.';\n",
              "          element.innerHTML = '';\n",
              "          dataTable['output_type'] = 'display_data';\n",
              "          await google.colab.output.renderOutput(dataTable, element);\n",
              "          const docLink = document.createElement('div');\n",
              "          docLink.innerHTML = docLinkHtml;\n",
              "          element.appendChild(docLink);\n",
              "        }\n",
              "      </script>\n",
              "    </div>\n",
              "  </div>\n",
              "  "
            ]
          },
          "metadata": {},
          "execution_count": 72
        }
      ]
    },
    {
      "cell_type": "markdown",
      "source": [
        "For all features, with all models, accuracy - 0.8\n",
        "\n",
        "Also for Slant only, Baseline only, Letter Size only, T-Bar only"
      ],
      "metadata": {
        "id": "kFA2EAGIE4UY"
      }
    },
    {
      "cell_type": "markdown",
      "source": [
        "#### Support vector Classification for Letter Grade prediction"
      ],
      "metadata": {
        "id": "1OOwwyIgEAQG"
      }
    },
    {
      "cell_type": "code",
      "source": [
        "from sklearn.svm import SVC as SVC\n",
        "SVC_model = SVC(kernel = \"linear\", C = 1, gamma = \"scale\")\n",
        "SVC_model.fit(X_train, y_train)"
      ],
      "metadata": {
        "colab": {
          "base_uri": "https://localhost:8080/"
        },
        "id": "UcDrcOP7Co06",
        "outputId": "62cc0ebc-b6e0-4ad6-dd3e-37ba32b2b466"
      },
      "execution_count": null,
      "outputs": [
        {
          "output_type": "execute_result",
          "data": {
            "text/plain": [
              "SVC(C=1, kernel='linear')"
            ]
          },
          "metadata": {},
          "execution_count": 73
        }
      ]
    },
    {
      "cell_type": "code",
      "source": [
        "SVC_model.score(X_test, y_test)"
      ],
      "metadata": {
        "colab": {
          "base_uri": "https://localhost:8080/"
        },
        "id": "0x_eXamPDNKx",
        "outputId": "85ea0549-0439-4f62-f78d-873b180a78bb"
      },
      "execution_count": null,
      "outputs": [
        {
          "output_type": "execute_result",
          "data": {
            "text/plain": [
              "0.8"
            ]
          },
          "metadata": {},
          "execution_count": 74
        }
      ]
    },
    {
      "cell_type": "code",
      "source": [
        "SVC_model.score(X_train, y_train)"
      ],
      "metadata": {
        "colab": {
          "base_uri": "https://localhost:8080/"
        },
        "id": "daGnwm0x51Vg",
        "outputId": "54729a6a-6c3d-4e2a-c129-6d20c3a245b4"
      },
      "execution_count": null,
      "outputs": [
        {
          "output_type": "execute_result",
          "data": {
            "text/plain": [
              "0.75"
            ]
          },
          "metadata": {},
          "execution_count": 78
        }
      ]
    },
    {
      "cell_type": "markdown",
      "source": [
        "For all features accuracy - 0.8\n",
        "\n",
        "Also for Slant only, Baseline only, Letter Size only, T-Bar only"
      ],
      "metadata": {
        "id": "1EHroIN3Ewcf"
      }
    },
    {
      "cell_type": "markdown",
      "source": [
        "#### Random Forest Classifier for Letter Grade prediction"
      ],
      "metadata": {
        "id": "sYgAqOw4EGlC"
      }
    },
    {
      "cell_type": "code",
      "source": [
        "n_estimators = [2,3,4,5,6,7]\n",
        "criterion = [\"gini\", \"entropy\"]\n",
        "RF_Results = []\n",
        "\n",
        "for n in n_estimators:\n",
        "  for c in criterion:\n",
        "\n",
        "      RF_model = RandomForestClassifier(n_estimators=n,criterion=c,n_jobs = -1, random_state = 0) \n",
        "      RF_model.fit(X_train, y_train)\n",
        "      predictions = RF_model.predict(X_test)\n",
        "      score = RF_model.score(X_test, y_test) #Return the mean accuracy on the given test data and labels.\n",
        "      RF_Results.append([n, c, score])\n",
        "\n"
      ],
      "metadata": {
        "id": "jf8QxTaUDUW5"
      },
      "execution_count": null,
      "outputs": []
    },
    {
      "cell_type": "code",
      "source": [
        "RF_Results = pd.DataFrame(RF_Results)\n",
        "RF_Results.columns = [\"Number of Estimatoras\", \"Criterion\", \"Accuracy score\"]"
      ],
      "metadata": {
        "id": "bqbH1k0VDrvj"
      },
      "execution_count": null,
      "outputs": []
    },
    {
      "cell_type": "code",
      "source": [
        "RF_Results.describe()"
      ],
      "metadata": {
        "colab": {
          "base_uri": "https://localhost:8080/",
          "height": 300
        },
        "id": "5R6ADHRJDsN2",
        "outputId": "c2beed81-5d7a-434d-d701-ae96495fac14"
      },
      "execution_count": null,
      "outputs": [
        {
          "output_type": "execute_result",
          "data": {
            "text/plain": [
              "       Number of Estimatoras  Accuracy score\n",
              "count              12.000000       12.000000\n",
              "mean                4.166667        0.533333\n",
              "std                 3.040136        0.149747\n",
              "min                 1.000000        0.200000\n",
              "25%                 2.000000        0.475000\n",
              "50%                 3.500000        0.550000\n",
              "75%                 5.000000        0.625000\n",
              "max                10.000000        0.700000"
            ],
            "text/html": [
              "\n",
              "  <div id=\"df-4f0725f8-7061-4913-89d9-ab4b0f767f18\">\n",
              "    <div class=\"colab-df-container\">\n",
              "      <div>\n",
              "<style scoped>\n",
              "    .dataframe tbody tr th:only-of-type {\n",
              "        vertical-align: middle;\n",
              "    }\n",
              "\n",
              "    .dataframe tbody tr th {\n",
              "        vertical-align: top;\n",
              "    }\n",
              "\n",
              "    .dataframe thead th {\n",
              "        text-align: right;\n",
              "    }\n",
              "</style>\n",
              "<table border=\"1\" class=\"dataframe\">\n",
              "  <thead>\n",
              "    <tr style=\"text-align: right;\">\n",
              "      <th></th>\n",
              "      <th>Number of Estimatoras</th>\n",
              "      <th>Accuracy score</th>\n",
              "    </tr>\n",
              "  </thead>\n",
              "  <tbody>\n",
              "    <tr>\n",
              "      <th>count</th>\n",
              "      <td>12.000000</td>\n",
              "      <td>12.000000</td>\n",
              "    </tr>\n",
              "    <tr>\n",
              "      <th>mean</th>\n",
              "      <td>4.166667</td>\n",
              "      <td>0.533333</td>\n",
              "    </tr>\n",
              "    <tr>\n",
              "      <th>std</th>\n",
              "      <td>3.040136</td>\n",
              "      <td>0.149747</td>\n",
              "    </tr>\n",
              "    <tr>\n",
              "      <th>min</th>\n",
              "      <td>1.000000</td>\n",
              "      <td>0.200000</td>\n",
              "    </tr>\n",
              "    <tr>\n",
              "      <th>25%</th>\n",
              "      <td>2.000000</td>\n",
              "      <td>0.475000</td>\n",
              "    </tr>\n",
              "    <tr>\n",
              "      <th>50%</th>\n",
              "      <td>3.500000</td>\n",
              "      <td>0.550000</td>\n",
              "    </tr>\n",
              "    <tr>\n",
              "      <th>75%</th>\n",
              "      <td>5.000000</td>\n",
              "      <td>0.625000</td>\n",
              "    </tr>\n",
              "    <tr>\n",
              "      <th>max</th>\n",
              "      <td>10.000000</td>\n",
              "      <td>0.700000</td>\n",
              "    </tr>\n",
              "  </tbody>\n",
              "</table>\n",
              "</div>\n",
              "      <button class=\"colab-df-convert\" onclick=\"convertToInteractive('df-4f0725f8-7061-4913-89d9-ab4b0f767f18')\"\n",
              "              title=\"Convert this dataframe to an interactive table.\"\n",
              "              style=\"display:none;\">\n",
              "        \n",
              "  <svg xmlns=\"http://www.w3.org/2000/svg\" height=\"24px\"viewBox=\"0 0 24 24\"\n",
              "       width=\"24px\">\n",
              "    <path d=\"M0 0h24v24H0V0z\" fill=\"none\"/>\n",
              "    <path d=\"M18.56 5.44l.94 2.06.94-2.06 2.06-.94-2.06-.94-.94-2.06-.94 2.06-2.06.94zm-11 1L8.5 8.5l.94-2.06 2.06-.94-2.06-.94L8.5 2.5l-.94 2.06-2.06.94zm10 10l.94 2.06.94-2.06 2.06-.94-2.06-.94-.94-2.06-.94 2.06-2.06.94z\"/><path d=\"M17.41 7.96l-1.37-1.37c-.4-.4-.92-.59-1.43-.59-.52 0-1.04.2-1.43.59L10.3 9.45l-7.72 7.72c-.78.78-.78 2.05 0 2.83L4 21.41c.39.39.9.59 1.41.59.51 0 1.02-.2 1.41-.59l7.78-7.78 2.81-2.81c.8-.78.8-2.07 0-2.86zM5.41 20L4 18.59l7.72-7.72 1.47 1.35L5.41 20z\"/>\n",
              "  </svg>\n",
              "      </button>\n",
              "      \n",
              "  <style>\n",
              "    .colab-df-container {\n",
              "      display:flex;\n",
              "      flex-wrap:wrap;\n",
              "      gap: 12px;\n",
              "    }\n",
              "\n",
              "    .colab-df-convert {\n",
              "      background-color: #E8F0FE;\n",
              "      border: none;\n",
              "      border-radius: 50%;\n",
              "      cursor: pointer;\n",
              "      display: none;\n",
              "      fill: #1967D2;\n",
              "      height: 32px;\n",
              "      padding: 0 0 0 0;\n",
              "      width: 32px;\n",
              "    }\n",
              "\n",
              "    .colab-df-convert:hover {\n",
              "      background-color: #E2EBFA;\n",
              "      box-shadow: 0px 1px 2px rgba(60, 64, 67, 0.3), 0px 1px 3px 1px rgba(60, 64, 67, 0.15);\n",
              "      fill: #174EA6;\n",
              "    }\n",
              "\n",
              "    [theme=dark] .colab-df-convert {\n",
              "      background-color: #3B4455;\n",
              "      fill: #D2E3FC;\n",
              "    }\n",
              "\n",
              "    [theme=dark] .colab-df-convert:hover {\n",
              "      background-color: #434B5C;\n",
              "      box-shadow: 0px 1px 3px 1px rgba(0, 0, 0, 0.15);\n",
              "      filter: drop-shadow(0px 1px 2px rgba(0, 0, 0, 0.3));\n",
              "      fill: #FFFFFF;\n",
              "    }\n",
              "  </style>\n",
              "\n",
              "      <script>\n",
              "        const buttonEl =\n",
              "          document.querySelector('#df-4f0725f8-7061-4913-89d9-ab4b0f767f18 button.colab-df-convert');\n",
              "        buttonEl.style.display =\n",
              "          google.colab.kernel.accessAllowed ? 'block' : 'none';\n",
              "\n",
              "        async function convertToInteractive(key) {\n",
              "          const element = document.querySelector('#df-4f0725f8-7061-4913-89d9-ab4b0f767f18');\n",
              "          const dataTable =\n",
              "            await google.colab.kernel.invokeFunction('convertToInteractive',\n",
              "                                                     [key], {});\n",
              "          if (!dataTable) return;\n",
              "\n",
              "          const docLinkHtml = 'Like what you see? Visit the ' +\n",
              "            '<a target=\"_blank\" href=https://colab.research.google.com/notebooks/data_table.ipynb>data table notebook</a>'\n",
              "            + ' to learn more about interactive tables.';\n",
              "          element.innerHTML = '';\n",
              "          dataTable['output_type'] = 'display_data';\n",
              "          await google.colab.output.renderOutput(dataTable, element);\n",
              "          const docLink = document.createElement('div');\n",
              "          docLink.innerHTML = docLinkHtml;\n",
              "          element.appendChild(docLink);\n",
              "        }\n",
              "      </script>\n",
              "    </div>\n",
              "  </div>\n",
              "  "
            ]
          },
          "metadata": {},
          "execution_count": 77
        }
      ]
    },
    {
      "cell_type": "markdown",
      "source": [
        "For all features accuracy  0.7\n",
        "\n",
        " for Slant only it became 0.8\n",
        "\n",
        " Baseline only - 0.8 all models, Letter Size only, T-Bar only too"
      ],
      "metadata": {
        "id": "vQcIz_G4E0E0"
      }
    },
    {
      "cell_type": "markdown",
      "source": [
        "### Pass/ No Pass prediction model"
      ],
      "metadata": {
        "id": "C2U2cUoyFzBv"
      }
    },
    {
      "cell_type": "code",
      "source": [
        "# all 4 characteristics together\n",
        "X_train, X_test, y_train, y_test = train_test_split( features, data_num[\"Pass no pass 60\"], test_size=0.2, random_state=42)"
      ],
      "metadata": {
        "id": "_L4mNDNmDxZP"
      },
      "execution_count": null,
      "outputs": []
    },
    {
      "cell_type": "markdown",
      "source": [
        "#### MLP for Pass/No Pass prediction"
      ],
      "metadata": {
        "id": "Nofqp5QYGjfN"
      }
    },
    {
      "cell_type": "code",
      "source": [
        "hidden_layer_sizes = [2,(2,3),3,(3,4),5,(6,5),7,(8,2),9,(10,2),15,(20,2)]\n",
        "max_iter = [10, 15, 20, 30, 50, 100]\n",
        "activation = [\"relu\", \"tanh\", \"logistic\", \"identity\"]\n",
        "solver = [\"sgd\", \"adam\"]\n",
        "\n",
        "MLP_results = []\n",
        "\n",
        "for layer in hidden_layer_sizes:\n",
        "  for iter in max_iter:\n",
        "    for act in activation:\n",
        "      for s in solver:\n",
        "        classifier = MLPClassifier(hidden_layer_sizes = layer,\n",
        "                      max_iter = iter,\n",
        "                      activation = act,\n",
        "                      solver = s,\n",
        "                      verbose = False,\n",
        "                      early_stopping = False,\n",
        "                      random_state = 7)\n",
        "        classifier.fit(X_train, y_train)\n",
        "        predicitons = classifier.predict(X_test)\n",
        "        tsscore = np.round(metrics.accuracy_score(y_test, predicitons),4)\n",
        "        predicitons1 = classifier.predict(X_train)\n",
        "        trscore = np.round(metrics.accuracy_score(y_train, predicitons1),4)\n",
        "        f1 = metrics.f1_score(y_test, predicitons,average='weighted')\n",
        "        loss = classifier.loss_\n",
        "\n",
        "        MLP_results.append([layer, iter, act, s, tsscore, trscore, f1, loss])\n",
        "      "
      ],
      "metadata": {
        "id": "yE7n-X1SGdf7"
      },
      "execution_count": null,
      "outputs": []
    },
    {
      "cell_type": "code",
      "source": [
        "MLP_results_df = pd.DataFrame(MLP_results)\n",
        "MLP_results_df.columns =['Hidden Layer Sizes', 'Max Iter.', 'Activation', 'Solver', \"TS Accuracy\", \"TR Accuracy\", \"F1\", \"Loss\"]\n",
        "MLP_results_df.sort_values(by = [\"TS Accuracy\",\"TR Accuracy\", \"F1\"], inplace = True, ascending = False)\n",
        "MLP_results_df"
      ],
      "metadata": {
        "colab": {
          "base_uri": "https://localhost:8080/",
          "height": 424
        },
        "id": "2MeKi1O2GmZE",
        "outputId": "47a8fc31-3849-4bb0-e367-885d74af9ce8"
      },
      "execution_count": null,
      "outputs": [
        {
          "output_type": "execute_result",
          "data": {
            "text/plain": [
              "    Hidden Layer Sizes  Max Iter. Activation Solver  TS Accuracy  TR Accuracy  \\\n",
              "508                 15         30   logistic    sgd          0.9        0.600   \n",
              "411                  9         30       tanh   adam          0.9        0.575   \n",
              "402                  9         20       tanh    sgd          0.9        0.475   \n",
              "41                   2        100       relu   adam          0.8        0.750   \n",
              "2                    2         10       tanh    sgd          0.8        0.725   \n",
              "..                 ...        ...        ...    ...          ...          ...   \n",
              "492                 15         15   logistic    sgd          0.2        0.275   \n",
              "543            (20, 2)         15   identity   adam          0.2        0.275   \n",
              "551            (20, 2)         20   identity   adam          0.2        0.275   \n",
              "366             (8, 2)         30   identity    sgd          0.1        0.350   \n",
              "383             (8, 2)        100   identity   adam          0.1        0.325   \n",
              "\n",
              "           F1      Loss  \n",
              "508  0.886275  0.682743  \n",
              "411  0.886275  0.678959  \n",
              "402  0.886275  0.697745  \n",
              "41   0.711111  0.616899  \n",
              "2    0.711111  0.602425  \n",
              "..        ...       ...  \n",
              "492  0.066667  0.717118  \n",
              "543  0.066667  1.473890  \n",
              "551  0.066667  1.241179  \n",
              "366  0.036364  0.801098  \n",
              "383  0.036364  0.924852  \n",
              "\n",
              "[576 rows x 8 columns]"
            ],
            "text/html": [
              "\n",
              "  <div id=\"df-05b84900-4277-469b-b99c-504d29edc639\">\n",
              "    <div class=\"colab-df-container\">\n",
              "      <div>\n",
              "<style scoped>\n",
              "    .dataframe tbody tr th:only-of-type {\n",
              "        vertical-align: middle;\n",
              "    }\n",
              "\n",
              "    .dataframe tbody tr th {\n",
              "        vertical-align: top;\n",
              "    }\n",
              "\n",
              "    .dataframe thead th {\n",
              "        text-align: right;\n",
              "    }\n",
              "</style>\n",
              "<table border=\"1\" class=\"dataframe\">\n",
              "  <thead>\n",
              "    <tr style=\"text-align: right;\">\n",
              "      <th></th>\n",
              "      <th>Hidden Layer Sizes</th>\n",
              "      <th>Max Iter.</th>\n",
              "      <th>Activation</th>\n",
              "      <th>Solver</th>\n",
              "      <th>TS Accuracy</th>\n",
              "      <th>TR Accuracy</th>\n",
              "      <th>F1</th>\n",
              "      <th>Loss</th>\n",
              "    </tr>\n",
              "  </thead>\n",
              "  <tbody>\n",
              "    <tr>\n",
              "      <th>508</th>\n",
              "      <td>15</td>\n",
              "      <td>30</td>\n",
              "      <td>logistic</td>\n",
              "      <td>sgd</td>\n",
              "      <td>0.9</td>\n",
              "      <td>0.600</td>\n",
              "      <td>0.886275</td>\n",
              "      <td>0.682743</td>\n",
              "    </tr>\n",
              "    <tr>\n",
              "      <th>411</th>\n",
              "      <td>9</td>\n",
              "      <td>30</td>\n",
              "      <td>tanh</td>\n",
              "      <td>adam</td>\n",
              "      <td>0.9</td>\n",
              "      <td>0.575</td>\n",
              "      <td>0.886275</td>\n",
              "      <td>0.678959</td>\n",
              "    </tr>\n",
              "    <tr>\n",
              "      <th>402</th>\n",
              "      <td>9</td>\n",
              "      <td>20</td>\n",
              "      <td>tanh</td>\n",
              "      <td>sgd</td>\n",
              "      <td>0.9</td>\n",
              "      <td>0.475</td>\n",
              "      <td>0.886275</td>\n",
              "      <td>0.697745</td>\n",
              "    </tr>\n",
              "    <tr>\n",
              "      <th>41</th>\n",
              "      <td>2</td>\n",
              "      <td>100</td>\n",
              "      <td>relu</td>\n",
              "      <td>adam</td>\n",
              "      <td>0.8</td>\n",
              "      <td>0.750</td>\n",
              "      <td>0.711111</td>\n",
              "      <td>0.616899</td>\n",
              "    </tr>\n",
              "    <tr>\n",
              "      <th>2</th>\n",
              "      <td>2</td>\n",
              "      <td>10</td>\n",
              "      <td>tanh</td>\n",
              "      <td>sgd</td>\n",
              "      <td>0.8</td>\n",
              "      <td>0.725</td>\n",
              "      <td>0.711111</td>\n",
              "      <td>0.602425</td>\n",
              "    </tr>\n",
              "    <tr>\n",
              "      <th>...</th>\n",
              "      <td>...</td>\n",
              "      <td>...</td>\n",
              "      <td>...</td>\n",
              "      <td>...</td>\n",
              "      <td>...</td>\n",
              "      <td>...</td>\n",
              "      <td>...</td>\n",
              "      <td>...</td>\n",
              "    </tr>\n",
              "    <tr>\n",
              "      <th>492</th>\n",
              "      <td>15</td>\n",
              "      <td>15</td>\n",
              "      <td>logistic</td>\n",
              "      <td>sgd</td>\n",
              "      <td>0.2</td>\n",
              "      <td>0.275</td>\n",
              "      <td>0.066667</td>\n",
              "      <td>0.717118</td>\n",
              "    </tr>\n",
              "    <tr>\n",
              "      <th>543</th>\n",
              "      <td>(20, 2)</td>\n",
              "      <td>15</td>\n",
              "      <td>identity</td>\n",
              "      <td>adam</td>\n",
              "      <td>0.2</td>\n",
              "      <td>0.275</td>\n",
              "      <td>0.066667</td>\n",
              "      <td>1.473890</td>\n",
              "    </tr>\n",
              "    <tr>\n",
              "      <th>551</th>\n",
              "      <td>(20, 2)</td>\n",
              "      <td>20</td>\n",
              "      <td>identity</td>\n",
              "      <td>adam</td>\n",
              "      <td>0.2</td>\n",
              "      <td>0.275</td>\n",
              "      <td>0.066667</td>\n",
              "      <td>1.241179</td>\n",
              "    </tr>\n",
              "    <tr>\n",
              "      <th>366</th>\n",
              "      <td>(8, 2)</td>\n",
              "      <td>30</td>\n",
              "      <td>identity</td>\n",
              "      <td>sgd</td>\n",
              "      <td>0.1</td>\n",
              "      <td>0.350</td>\n",
              "      <td>0.036364</td>\n",
              "      <td>0.801098</td>\n",
              "    </tr>\n",
              "    <tr>\n",
              "      <th>383</th>\n",
              "      <td>(8, 2)</td>\n",
              "      <td>100</td>\n",
              "      <td>identity</td>\n",
              "      <td>adam</td>\n",
              "      <td>0.1</td>\n",
              "      <td>0.325</td>\n",
              "      <td>0.036364</td>\n",
              "      <td>0.924852</td>\n",
              "    </tr>\n",
              "  </tbody>\n",
              "</table>\n",
              "<p>576 rows × 8 columns</p>\n",
              "</div>\n",
              "      <button class=\"colab-df-convert\" onclick=\"convertToInteractive('df-05b84900-4277-469b-b99c-504d29edc639')\"\n",
              "              title=\"Convert this dataframe to an interactive table.\"\n",
              "              style=\"display:none;\">\n",
              "        \n",
              "  <svg xmlns=\"http://www.w3.org/2000/svg\" height=\"24px\"viewBox=\"0 0 24 24\"\n",
              "       width=\"24px\">\n",
              "    <path d=\"M0 0h24v24H0V0z\" fill=\"none\"/>\n",
              "    <path d=\"M18.56 5.44l.94 2.06.94-2.06 2.06-.94-2.06-.94-.94-2.06-.94 2.06-2.06.94zm-11 1L8.5 8.5l.94-2.06 2.06-.94-2.06-.94L8.5 2.5l-.94 2.06-2.06.94zm10 10l.94 2.06.94-2.06 2.06-.94-2.06-.94-.94-2.06-.94 2.06-2.06.94z\"/><path d=\"M17.41 7.96l-1.37-1.37c-.4-.4-.92-.59-1.43-.59-.52 0-1.04.2-1.43.59L10.3 9.45l-7.72 7.72c-.78.78-.78 2.05 0 2.83L4 21.41c.39.39.9.59 1.41.59.51 0 1.02-.2 1.41-.59l7.78-7.78 2.81-2.81c.8-.78.8-2.07 0-2.86zM5.41 20L4 18.59l7.72-7.72 1.47 1.35L5.41 20z\"/>\n",
              "  </svg>\n",
              "      </button>\n",
              "      \n",
              "  <style>\n",
              "    .colab-df-container {\n",
              "      display:flex;\n",
              "      flex-wrap:wrap;\n",
              "      gap: 12px;\n",
              "    }\n",
              "\n",
              "    .colab-df-convert {\n",
              "      background-color: #E8F0FE;\n",
              "      border: none;\n",
              "      border-radius: 50%;\n",
              "      cursor: pointer;\n",
              "      display: none;\n",
              "      fill: #1967D2;\n",
              "      height: 32px;\n",
              "      padding: 0 0 0 0;\n",
              "      width: 32px;\n",
              "    }\n",
              "\n",
              "    .colab-df-convert:hover {\n",
              "      background-color: #E2EBFA;\n",
              "      box-shadow: 0px 1px 2px rgba(60, 64, 67, 0.3), 0px 1px 3px 1px rgba(60, 64, 67, 0.15);\n",
              "      fill: #174EA6;\n",
              "    }\n",
              "\n",
              "    [theme=dark] .colab-df-convert {\n",
              "      background-color: #3B4455;\n",
              "      fill: #D2E3FC;\n",
              "    }\n",
              "\n",
              "    [theme=dark] .colab-df-convert:hover {\n",
              "      background-color: #434B5C;\n",
              "      box-shadow: 0px 1px 3px 1px rgba(0, 0, 0, 0.15);\n",
              "      filter: drop-shadow(0px 1px 2px rgba(0, 0, 0, 0.3));\n",
              "      fill: #FFFFFF;\n",
              "    }\n",
              "  </style>\n",
              "\n",
              "      <script>\n",
              "        const buttonEl =\n",
              "          document.querySelector('#df-05b84900-4277-469b-b99c-504d29edc639 button.colab-df-convert');\n",
              "        buttonEl.style.display =\n",
              "          google.colab.kernel.accessAllowed ? 'block' : 'none';\n",
              "\n",
              "        async function convertToInteractive(key) {\n",
              "          const element = document.querySelector('#df-05b84900-4277-469b-b99c-504d29edc639');\n",
              "          const dataTable =\n",
              "            await google.colab.kernel.invokeFunction('convertToInteractive',\n",
              "                                                     [key], {});\n",
              "          if (!dataTable) return;\n",
              "\n",
              "          const docLinkHtml = 'Like what you see? Visit the ' +\n",
              "            '<a target=\"_blank\" href=https://colab.research.google.com/notebooks/data_table.ipynb>data table notebook</a>'\n",
              "            + ' to learn more about interactive tables.';\n",
              "          element.innerHTML = '';\n",
              "          dataTable['output_type'] = 'display_data';\n",
              "          await google.colab.output.renderOutput(dataTable, element);\n",
              "          const docLink = document.createElement('div');\n",
              "          docLink.innerHTML = docLinkHtml;\n",
              "          element.appendChild(docLink);\n",
              "        }\n",
              "      </script>\n",
              "    </div>\n",
              "  </div>\n",
              "  "
            ]
          },
          "metadata": {},
          "execution_count": 46
        }
      ]
    },
    {
      "cell_type": "code",
      "source": [
        "MLP_results_df.describe()"
      ],
      "metadata": {
        "colab": {
          "base_uri": "https://localhost:8080/",
          "height": 300
        },
        "id": "B2zUuEBbGm9v",
        "outputId": "72df55da-bf99-467f-d4e9-c4694546ead1"
      },
      "execution_count": null,
      "outputs": [
        {
          "output_type": "execute_result",
          "data": {
            "text/plain": [
              "        Max Iter.  TS Accuracy  TR Accuracy          F1        Loss\n",
              "count  576.000000   576.000000   576.000000  576.000000  576.000000\n",
              "mean    37.500000     0.560937     0.529340    0.491130    0.757234\n",
              "std     30.815016     0.262268     0.175767    0.293919    0.206913\n",
              "min     10.000000     0.100000     0.275000    0.036364    0.582255\n",
              "25%     15.000000     0.200000     0.300000    0.066667    0.635118\n",
              "50%     25.000000     0.700000     0.600000    0.658824    0.694750\n",
              "75%     50.000000     0.800000     0.700000    0.711111    0.782260\n",
              "max    100.000000     0.900000     0.750000    0.886275    1.820251"
            ],
            "text/html": [
              "\n",
              "  <div id=\"df-887c0e1d-9acb-4f57-b2c3-af4025e4679d\">\n",
              "    <div class=\"colab-df-container\">\n",
              "      <div>\n",
              "<style scoped>\n",
              "    .dataframe tbody tr th:only-of-type {\n",
              "        vertical-align: middle;\n",
              "    }\n",
              "\n",
              "    .dataframe tbody tr th {\n",
              "        vertical-align: top;\n",
              "    }\n",
              "\n",
              "    .dataframe thead th {\n",
              "        text-align: right;\n",
              "    }\n",
              "</style>\n",
              "<table border=\"1\" class=\"dataframe\">\n",
              "  <thead>\n",
              "    <tr style=\"text-align: right;\">\n",
              "      <th></th>\n",
              "      <th>Max Iter.</th>\n",
              "      <th>TS Accuracy</th>\n",
              "      <th>TR Accuracy</th>\n",
              "      <th>F1</th>\n",
              "      <th>Loss</th>\n",
              "    </tr>\n",
              "  </thead>\n",
              "  <tbody>\n",
              "    <tr>\n",
              "      <th>count</th>\n",
              "      <td>576.000000</td>\n",
              "      <td>576.000000</td>\n",
              "      <td>576.000000</td>\n",
              "      <td>576.000000</td>\n",
              "      <td>576.000000</td>\n",
              "    </tr>\n",
              "    <tr>\n",
              "      <th>mean</th>\n",
              "      <td>37.500000</td>\n",
              "      <td>0.560937</td>\n",
              "      <td>0.529340</td>\n",
              "      <td>0.491130</td>\n",
              "      <td>0.757234</td>\n",
              "    </tr>\n",
              "    <tr>\n",
              "      <th>std</th>\n",
              "      <td>30.815016</td>\n",
              "      <td>0.262268</td>\n",
              "      <td>0.175767</td>\n",
              "      <td>0.293919</td>\n",
              "      <td>0.206913</td>\n",
              "    </tr>\n",
              "    <tr>\n",
              "      <th>min</th>\n",
              "      <td>10.000000</td>\n",
              "      <td>0.100000</td>\n",
              "      <td>0.275000</td>\n",
              "      <td>0.036364</td>\n",
              "      <td>0.582255</td>\n",
              "    </tr>\n",
              "    <tr>\n",
              "      <th>25%</th>\n",
              "      <td>15.000000</td>\n",
              "      <td>0.200000</td>\n",
              "      <td>0.300000</td>\n",
              "      <td>0.066667</td>\n",
              "      <td>0.635118</td>\n",
              "    </tr>\n",
              "    <tr>\n",
              "      <th>50%</th>\n",
              "      <td>25.000000</td>\n",
              "      <td>0.700000</td>\n",
              "      <td>0.600000</td>\n",
              "      <td>0.658824</td>\n",
              "      <td>0.694750</td>\n",
              "    </tr>\n",
              "    <tr>\n",
              "      <th>75%</th>\n",
              "      <td>50.000000</td>\n",
              "      <td>0.800000</td>\n",
              "      <td>0.700000</td>\n",
              "      <td>0.711111</td>\n",
              "      <td>0.782260</td>\n",
              "    </tr>\n",
              "    <tr>\n",
              "      <th>max</th>\n",
              "      <td>100.000000</td>\n",
              "      <td>0.900000</td>\n",
              "      <td>0.750000</td>\n",
              "      <td>0.886275</td>\n",
              "      <td>1.820251</td>\n",
              "    </tr>\n",
              "  </tbody>\n",
              "</table>\n",
              "</div>\n",
              "      <button class=\"colab-df-convert\" onclick=\"convertToInteractive('df-887c0e1d-9acb-4f57-b2c3-af4025e4679d')\"\n",
              "              title=\"Convert this dataframe to an interactive table.\"\n",
              "              style=\"display:none;\">\n",
              "        \n",
              "  <svg xmlns=\"http://www.w3.org/2000/svg\" height=\"24px\"viewBox=\"0 0 24 24\"\n",
              "       width=\"24px\">\n",
              "    <path d=\"M0 0h24v24H0V0z\" fill=\"none\"/>\n",
              "    <path d=\"M18.56 5.44l.94 2.06.94-2.06 2.06-.94-2.06-.94-.94-2.06-.94 2.06-2.06.94zm-11 1L8.5 8.5l.94-2.06 2.06-.94-2.06-.94L8.5 2.5l-.94 2.06-2.06.94zm10 10l.94 2.06.94-2.06 2.06-.94-2.06-.94-.94-2.06-.94 2.06-2.06.94z\"/><path d=\"M17.41 7.96l-1.37-1.37c-.4-.4-.92-.59-1.43-.59-.52 0-1.04.2-1.43.59L10.3 9.45l-7.72 7.72c-.78.78-.78 2.05 0 2.83L4 21.41c.39.39.9.59 1.41.59.51 0 1.02-.2 1.41-.59l7.78-7.78 2.81-2.81c.8-.78.8-2.07 0-2.86zM5.41 20L4 18.59l7.72-7.72 1.47 1.35L5.41 20z\"/>\n",
              "  </svg>\n",
              "      </button>\n",
              "      \n",
              "  <style>\n",
              "    .colab-df-container {\n",
              "      display:flex;\n",
              "      flex-wrap:wrap;\n",
              "      gap: 12px;\n",
              "    }\n",
              "\n",
              "    .colab-df-convert {\n",
              "      background-color: #E8F0FE;\n",
              "      border: none;\n",
              "      border-radius: 50%;\n",
              "      cursor: pointer;\n",
              "      display: none;\n",
              "      fill: #1967D2;\n",
              "      height: 32px;\n",
              "      padding: 0 0 0 0;\n",
              "      width: 32px;\n",
              "    }\n",
              "\n",
              "    .colab-df-convert:hover {\n",
              "      background-color: #E2EBFA;\n",
              "      box-shadow: 0px 1px 2px rgba(60, 64, 67, 0.3), 0px 1px 3px 1px rgba(60, 64, 67, 0.15);\n",
              "      fill: #174EA6;\n",
              "    }\n",
              "\n",
              "    [theme=dark] .colab-df-convert {\n",
              "      background-color: #3B4455;\n",
              "      fill: #D2E3FC;\n",
              "    }\n",
              "\n",
              "    [theme=dark] .colab-df-convert:hover {\n",
              "      background-color: #434B5C;\n",
              "      box-shadow: 0px 1px 3px 1px rgba(0, 0, 0, 0.15);\n",
              "      filter: drop-shadow(0px 1px 2px rgba(0, 0, 0, 0.3));\n",
              "      fill: #FFFFFF;\n",
              "    }\n",
              "  </style>\n",
              "\n",
              "      <script>\n",
              "        const buttonEl =\n",
              "          document.querySelector('#df-887c0e1d-9acb-4f57-b2c3-af4025e4679d button.colab-df-convert');\n",
              "        buttonEl.style.display =\n",
              "          google.colab.kernel.accessAllowed ? 'block' : 'none';\n",
              "\n",
              "        async function convertToInteractive(key) {\n",
              "          const element = document.querySelector('#df-887c0e1d-9acb-4f57-b2c3-af4025e4679d');\n",
              "          const dataTable =\n",
              "            await google.colab.kernel.invokeFunction('convertToInteractive',\n",
              "                                                     [key], {});\n",
              "          if (!dataTable) return;\n",
              "\n",
              "          const docLinkHtml = 'Like what you see? Visit the ' +\n",
              "            '<a target=\"_blank\" href=https://colab.research.google.com/notebooks/data_table.ipynb>data table notebook</a>'\n",
              "            + ' to learn more about interactive tables.';\n",
              "          element.innerHTML = '';\n",
              "          dataTable['output_type'] = 'display_data';\n",
              "          await google.colab.output.renderOutput(dataTable, element);\n",
              "          const docLink = document.createElement('div');\n",
              "          docLink.innerHTML = docLinkHtml;\n",
              "          element.appendChild(docLink);\n",
              "        }\n",
              "      </script>\n",
              "    </div>\n",
              "  </div>\n",
              "  "
            ]
          },
          "metadata": {},
          "execution_count": 47
        }
      ]
    },
    {
      "cell_type": "markdown",
      "source": [
        "On all features this lands 0.88 F1 score and 0.9 accuracy score.\n",
        "\n",
        "\n",
        "On T bar Height the accuracy socre becomes 0.8 and the F1 score is 0.71"
      ],
      "metadata": {
        "id": "DX5QWN2HWXIq"
      }
    },
    {
      "cell_type": "markdown",
      "source": [
        "#### Logistic Regression for Pass/No Pass prediction"
      ],
      "metadata": {
        "id": "pqZVDBZ0HuLu"
      }
    },
    {
      "cell_type": "code",
      "source": [
        "from sklearn.linear_model import LogisticRegression\n",
        "penalty =  \"l2\"\n",
        "solver = ['newton-cg', 'lbfgs', 'liblinear']\n",
        "Logistic_Results = []\n",
        "\n",
        "for s in solver:\n",
        "    Logistic_model = LogisticRegression(penalty = penalty, solver = s)\n",
        "    Logistic_model.fit(X_train, y_train)\n",
        "    predictions = Logistic_model.predict(X_test)\n",
        "    score = Logistic_model.score(X_test, y_test)\n",
        "    #f1 = metrics.f1_score(y_test, predictions)\n",
        "    Logistic_Results.append([s, penalty, score])\n",
        "\n"
      ],
      "metadata": {
        "id": "HdXtifVhGsIR",
        "colab": {
          "base_uri": "https://localhost:8080/"
        },
        "outputId": "6c1b026d-f02b-4fed-a108-560dc3bc4584"
      },
      "execution_count": null,
      "outputs": [
        {
          "output_type": "stream",
          "name": "stderr",
          "text": [
            "/usr/local/lib/python3.7/dist-packages/sklearn/linear_model/_sag.py:354: ConvergenceWarning: The max_iter was reached which means the coef_ did not converge\n",
            "  ConvergenceWarning,\n"
          ]
        }
      ]
    },
    {
      "cell_type": "code",
      "source": [
        "Logistic_Results = pd.DataFrame(Logistic_Results)\n",
        "Logistic_Results.columns = [\"Solver\", \"Penalty\", \"Accuracy score\"]\n",
        "Logistic_Results"
      ],
      "metadata": {
        "colab": {
          "base_uri": "https://localhost:8080/",
          "height": 206
        },
        "id": "hWD6FO4THvv5",
        "outputId": "3af7a1b0-b0e3-4875-eeee-4252008ee827"
      },
      "execution_count": null,
      "outputs": [
        {
          "output_type": "execute_result",
          "data": {
            "text/plain": [
              "      Solver Penalty  Accuracy score\n",
              "0  newton-cg      l2             0.8\n",
              "1      lbfgs      l2             0.8\n",
              "2  liblinear      l2             0.8\n",
              "3        sag      l2             0.8\n",
              "4       saga      l2             0.8"
            ],
            "text/html": [
              "\n",
              "  <div id=\"df-beb118f0-7888-4817-8476-1e3bfde79356\">\n",
              "    <div class=\"colab-df-container\">\n",
              "      <div>\n",
              "<style scoped>\n",
              "    .dataframe tbody tr th:only-of-type {\n",
              "        vertical-align: middle;\n",
              "    }\n",
              "\n",
              "    .dataframe tbody tr th {\n",
              "        vertical-align: top;\n",
              "    }\n",
              "\n",
              "    .dataframe thead th {\n",
              "        text-align: right;\n",
              "    }\n",
              "</style>\n",
              "<table border=\"1\" class=\"dataframe\">\n",
              "  <thead>\n",
              "    <tr style=\"text-align: right;\">\n",
              "      <th></th>\n",
              "      <th>Solver</th>\n",
              "      <th>Penalty</th>\n",
              "      <th>Accuracy score</th>\n",
              "    </tr>\n",
              "  </thead>\n",
              "  <tbody>\n",
              "    <tr>\n",
              "      <th>0</th>\n",
              "      <td>newton-cg</td>\n",
              "      <td>l2</td>\n",
              "      <td>0.8</td>\n",
              "    </tr>\n",
              "    <tr>\n",
              "      <th>1</th>\n",
              "      <td>lbfgs</td>\n",
              "      <td>l2</td>\n",
              "      <td>0.8</td>\n",
              "    </tr>\n",
              "    <tr>\n",
              "      <th>2</th>\n",
              "      <td>liblinear</td>\n",
              "      <td>l2</td>\n",
              "      <td>0.8</td>\n",
              "    </tr>\n",
              "    <tr>\n",
              "      <th>3</th>\n",
              "      <td>sag</td>\n",
              "      <td>l2</td>\n",
              "      <td>0.8</td>\n",
              "    </tr>\n",
              "    <tr>\n",
              "      <th>4</th>\n",
              "      <td>saga</td>\n",
              "      <td>l2</td>\n",
              "      <td>0.8</td>\n",
              "    </tr>\n",
              "  </tbody>\n",
              "</table>\n",
              "</div>\n",
              "      <button class=\"colab-df-convert\" onclick=\"convertToInteractive('df-beb118f0-7888-4817-8476-1e3bfde79356')\"\n",
              "              title=\"Convert this dataframe to an interactive table.\"\n",
              "              style=\"display:none;\">\n",
              "        \n",
              "  <svg xmlns=\"http://www.w3.org/2000/svg\" height=\"24px\"viewBox=\"0 0 24 24\"\n",
              "       width=\"24px\">\n",
              "    <path d=\"M0 0h24v24H0V0z\" fill=\"none\"/>\n",
              "    <path d=\"M18.56 5.44l.94 2.06.94-2.06 2.06-.94-2.06-.94-.94-2.06-.94 2.06-2.06.94zm-11 1L8.5 8.5l.94-2.06 2.06-.94-2.06-.94L8.5 2.5l-.94 2.06-2.06.94zm10 10l.94 2.06.94-2.06 2.06-.94-2.06-.94-.94-2.06-.94 2.06-2.06.94z\"/><path d=\"M17.41 7.96l-1.37-1.37c-.4-.4-.92-.59-1.43-.59-.52 0-1.04.2-1.43.59L10.3 9.45l-7.72 7.72c-.78.78-.78 2.05 0 2.83L4 21.41c.39.39.9.59 1.41.59.51 0 1.02-.2 1.41-.59l7.78-7.78 2.81-2.81c.8-.78.8-2.07 0-2.86zM5.41 20L4 18.59l7.72-7.72 1.47 1.35L5.41 20z\"/>\n",
              "  </svg>\n",
              "      </button>\n",
              "      \n",
              "  <style>\n",
              "    .colab-df-container {\n",
              "      display:flex;\n",
              "      flex-wrap:wrap;\n",
              "      gap: 12px;\n",
              "    }\n",
              "\n",
              "    .colab-df-convert {\n",
              "      background-color: #E8F0FE;\n",
              "      border: none;\n",
              "      border-radius: 50%;\n",
              "      cursor: pointer;\n",
              "      display: none;\n",
              "      fill: #1967D2;\n",
              "      height: 32px;\n",
              "      padding: 0 0 0 0;\n",
              "      width: 32px;\n",
              "    }\n",
              "\n",
              "    .colab-df-convert:hover {\n",
              "      background-color: #E2EBFA;\n",
              "      box-shadow: 0px 1px 2px rgba(60, 64, 67, 0.3), 0px 1px 3px 1px rgba(60, 64, 67, 0.15);\n",
              "      fill: #174EA6;\n",
              "    }\n",
              "\n",
              "    [theme=dark] .colab-df-convert {\n",
              "      background-color: #3B4455;\n",
              "      fill: #D2E3FC;\n",
              "    }\n",
              "\n",
              "    [theme=dark] .colab-df-convert:hover {\n",
              "      background-color: #434B5C;\n",
              "      box-shadow: 0px 1px 3px 1px rgba(0, 0, 0, 0.15);\n",
              "      filter: drop-shadow(0px 1px 2px rgba(0, 0, 0, 0.3));\n",
              "      fill: #FFFFFF;\n",
              "    }\n",
              "  </style>\n",
              "\n",
              "      <script>\n",
              "        const buttonEl =\n",
              "          document.querySelector('#df-beb118f0-7888-4817-8476-1e3bfde79356 button.colab-df-convert');\n",
              "        buttonEl.style.display =\n",
              "          google.colab.kernel.accessAllowed ? 'block' : 'none';\n",
              "\n",
              "        async function convertToInteractive(key) {\n",
              "          const element = document.querySelector('#df-beb118f0-7888-4817-8476-1e3bfde79356');\n",
              "          const dataTable =\n",
              "            await google.colab.kernel.invokeFunction('convertToInteractive',\n",
              "                                                     [key], {});\n",
              "          if (!dataTable) return;\n",
              "\n",
              "          const docLinkHtml = 'Like what you see? Visit the ' +\n",
              "            '<a target=\"_blank\" href=https://colab.research.google.com/notebooks/data_table.ipynb>data table notebook</a>'\n",
              "            + ' to learn more about interactive tables.';\n",
              "          element.innerHTML = '';\n",
              "          dataTable['output_type'] = 'display_data';\n",
              "          await google.colab.output.renderOutput(dataTable, element);\n",
              "          const docLink = document.createElement('div');\n",
              "          docLink.innerHTML = docLinkHtml;\n",
              "          element.appendChild(docLink);\n",
              "        }\n",
              "      </script>\n",
              "    </div>\n",
              "  </div>\n",
              "  "
            ]
          },
          "metadata": {},
          "execution_count": 59
        }
      ]
    },
    {
      "cell_type": "code",
      "source": [
        "#define metrics\n",
        "y_pred_proba = Logistic_model.predict_proba(X_test)[::,1]\n",
        "fpr, tpr, _ = metrics.roc_curve(y_test,  y_pred_proba)\n",
        "auc = metrics.roc_auc_score(y_test, y_pred_proba)\n",
        "\n",
        "#create ROC curve\n",
        "plt.plot(fpr,tpr,label=\"AUC=\"+str(auc))\n",
        "plt.ylabel('True Positive Rate')\n",
        "plt.xlabel('False Positive Rate')\n",
        "plt.title(\"ROC for Logistic Regression\")\n",
        "plt.legend(loc=4)\n",
        "plt.show()"
      ],
      "metadata": {
        "colab": {
          "base_uri": "https://localhost:8080/",
          "height": 295
        },
        "id": "qtP4XlC8fg20",
        "outputId": "3f596a61-4fe2-42ba-a4d8-07f6de88e6d9"
      },
      "execution_count": null,
      "outputs": [
        {
          "output_type": "display_data",
          "data": {
            "text/plain": [
              "<Figure size 432x288 with 1 Axes>"
            ],
            "image/png": "[encoded data removed]"
          },
          "metadata": {
            "needs_background": "light"
          }
        }
      ]
    },
    {
      "cell_type": "markdown",
      "source": [
        "#### SVC for Pass/No Pass prediction"
      ],
      "metadata": {
        "id": "5yLLQb4jLeNR"
      }
    },
    {
      "cell_type": "code",
      "source": [
        "from sklearn.svm import SVC as SVC\n",
        "SVC_model = SVC(kernel = \"linear\", C = 1, gamma = \"scale\", probability = True)\n",
        "SVC_model.fit(X_train, y_train)"
      ],
      "metadata": {
        "colab": {
          "base_uri": "https://localhost:8080/"
        },
        "id": "2_n2Y_3ZHx63",
        "outputId": "e53952bb-27dd-4e0e-9c24-8545bdedc85c"
      },
      "execution_count": null,
      "outputs": [
        {
          "output_type": "execute_result",
          "data": {
            "text/plain": [
              "SVC(C=1, kernel='linear', probability=True)"
            ]
          },
          "metadata": {},
          "execution_count": 62
        }
      ]
    },
    {
      "cell_type": "code",
      "source": [
        "SVC_model.score(X_test, y_test)"
      ],
      "metadata": {
        "colab": {
          "base_uri": "https://localhost:8080/"
        },
        "id": "-BP8ETP2LfJx",
        "outputId": "a3676d7f-a655-46ee-a70f-afb853a92cd0"
      },
      "execution_count": null,
      "outputs": [
        {
          "output_type": "execute_result",
          "data": {
            "text/plain": [
              "0.8"
            ]
          },
          "metadata": {},
          "execution_count": 63
        }
      ]
    },
    {
      "cell_type": "code",
      "source": [
        "#define metrics\n",
        "y_pred_proba = SVC_model.predict_proba(X_test)[::,1]\n",
        "fpr, tpr, _ = metrics.roc_curve(y_test,  y_pred_proba)\n",
        "auc = metrics.roc_auc_score(y_test, y_pred_proba)\n",
        "\n",
        "#create ROC curve\n",
        "plt.plot(fpr,tpr,label=\"AUC=\"+str(auc))\n",
        "plt.ylabel('True Positive Rate')\n",
        "plt.xlabel('False Positive Rate')\n",
        "plt.title(\"ROC for SVC\")\n",
        "plt.legend(loc=4)\n",
        "plt.show()"
      ],
      "metadata": {
        "colab": {
          "base_uri": "https://localhost:8080/",
          "height": 295
        },
        "id": "8qnOreLlYPK5",
        "outputId": "e941b9bf-207c-43a1-89aa-40c66641086d"
      },
      "execution_count": null,
      "outputs": [
        {
          "output_type": "display_data",
          "data": {
            "text/plain": [
              "<Figure size 432x288 with 1 Axes>"
            ],
            "image/png": "[encoded data removed]"
          },
          "metadata": {
            "needs_background": "light"
          }
        }
      ]
    },
    {
      "cell_type": "markdown",
      "source": [
        "#### Random Forest for Pass/No Pass prediction"
      ],
      "metadata": {
        "id": "CrQtLwgHLj_1"
      }
    },
    {
      "cell_type": "code",
      "source": [
        "n_estimators = [2,3,4,5,6,7]\n",
        "criterion = [\"gini\", \"entropy\"]\n",
        "RF_Results = []\n",
        "\n",
        "for n in n_estimators:\n",
        "  for c in criterion:\n",
        "\n",
        "      RF_model = RandomForestClassifier(n_estimators=n,criterion=c,n_jobs = -1, random_state = 0) \n",
        "      RF_model.fit(X_train, y_train)\n",
        "      predictions = RF_model.predict(X_test)\n",
        "      score = RF_model.score(X_test, y_test) #Return the mean accuracy on the given test data and labels.\n",
        "      RF_Results.append([n, c, score])\n",
        "\n"
      ],
      "metadata": {
        "id": "MESBA89tLiya"
      },
      "execution_count": null,
      "outputs": []
    },
    {
      "cell_type": "code",
      "source": [
        "RF_Results = pd.DataFrame(RF_Results)\n",
        "RF_Results.columns = [\"Number of Estimatoras\", \"Criterion\", \"Accuracy score\"]"
      ],
      "metadata": {
        "id": "SeuYTH_oLr38"
      },
      "execution_count": null,
      "outputs": []
    },
    {
      "cell_type": "code",
      "source": [
        "RF_Results\n"
      ],
      "metadata": {
        "colab": {
          "base_uri": "https://localhost:8080/",
          "height": 425
        },
        "id": "h8E9OJeeLvxI",
        "outputId": "9acbf336-f3b2-4a8f-c7d4-096abd5ccf10"
      },
      "execution_count": null,
      "outputs": [
        {
          "output_type": "execute_result",
          "data": {
            "text/plain": [
              "    Number of Estimatoras Criterion  Accuracy score\n",
              "0                       1      gini             0.8\n",
              "1                       1   entropy             0.8\n",
              "2                       2      gini             0.8\n",
              "3                       2   entropy             0.8\n",
              "4                       3      gini             0.8\n",
              "5                       3   entropy             0.8\n",
              "6                       4      gini             0.8\n",
              "7                       4   entropy             0.8\n",
              "8                       5      gini             0.8\n",
              "9                       5   entropy             0.8\n",
              "10                     10      gini             0.8\n",
              "11                     10   entropy             0.8"
            ],
            "text/html": [
              "\n",
              "  <div id=\"df-63f80de0-d0af-4ce1-8f29-b23a21a6d15a\">\n",
              "    <div class=\"colab-df-container\">\n",
              "      <div>\n",
              "<style scoped>\n",
              "    .dataframe tbody tr th:only-of-type {\n",
              "        vertical-align: middle;\n",
              "    }\n",
              "\n",
              "    .dataframe tbody tr th {\n",
              "        vertical-align: top;\n",
              "    }\n",
              "\n",
              "    .dataframe thead th {\n",
              "        text-align: right;\n",
              "    }\n",
              "</style>\n",
              "<table border=\"1\" class=\"dataframe\">\n",
              "  <thead>\n",
              "    <tr style=\"text-align: right;\">\n",
              "      <th></th>\n",
              "      <th>Number of Estimatoras</th>\n",
              "      <th>Criterion</th>\n",
              "      <th>Accuracy score</th>\n",
              "    </tr>\n",
              "  </thead>\n",
              "  <tbody>\n",
              "    <tr>\n",
              "      <th>0</th>\n",
              "      <td>1</td>\n",
              "      <td>gini</td>\n",
              "      <td>0.8</td>\n",
              "    </tr>\n",
              "    <tr>\n",
              "      <th>1</th>\n",
              "      <td>1</td>\n",
              "      <td>entropy</td>\n",
              "      <td>0.8</td>\n",
              "    </tr>\n",
              "    <tr>\n",
              "      <th>2</th>\n",
              "      <td>2</td>\n",
              "      <td>gini</td>\n",
              "      <td>0.8</td>\n",
              "    </tr>\n",
              "    <tr>\n",
              "      <th>3</th>\n",
              "      <td>2</td>\n",
              "      <td>entropy</td>\n",
              "      <td>0.8</td>\n",
              "    </tr>\n",
              "    <tr>\n",
              "      <th>4</th>\n",
              "      <td>3</td>\n",
              "      <td>gini</td>\n",
              "      <td>0.8</td>\n",
              "    </tr>\n",
              "    <tr>\n",
              "      <th>5</th>\n",
              "      <td>3</td>\n",
              "      <td>entropy</td>\n",
              "      <td>0.8</td>\n",
              "    </tr>\n",
              "    <tr>\n",
              "      <th>6</th>\n",
              "      <td>4</td>\n",
              "      <td>gini</td>\n",
              "      <td>0.8</td>\n",
              "    </tr>\n",
              "    <tr>\n",
              "      <th>7</th>\n",
              "      <td>4</td>\n",
              "      <td>entropy</td>\n",
              "      <td>0.8</td>\n",
              "    </tr>\n",
              "    <tr>\n",
              "      <th>8</th>\n",
              "      <td>5</td>\n",
              "      <td>gini</td>\n",
              "      <td>0.8</td>\n",
              "    </tr>\n",
              "    <tr>\n",
              "      <th>9</th>\n",
              "      <td>5</td>\n",
              "      <td>entropy</td>\n",
              "      <td>0.8</td>\n",
              "    </tr>\n",
              "    <tr>\n",
              "      <th>10</th>\n",
              "      <td>10</td>\n",
              "      <td>gini</td>\n",
              "      <td>0.8</td>\n",
              "    </tr>\n",
              "    <tr>\n",
              "      <th>11</th>\n",
              "      <td>10</td>\n",
              "      <td>entropy</td>\n",
              "      <td>0.8</td>\n",
              "    </tr>\n",
              "  </tbody>\n",
              "</table>\n",
              "</div>\n",
              "      <button class=\"colab-df-convert\" onclick=\"convertToInteractive('df-63f80de0-d0af-4ce1-8f29-b23a21a6d15a')\"\n",
              "              title=\"Convert this dataframe to an interactive table.\"\n",
              "              style=\"display:none;\">\n",
              "        \n",
              "  <svg xmlns=\"http://www.w3.org/2000/svg\" height=\"24px\"viewBox=\"0 0 24 24\"\n",
              "       width=\"24px\">\n",
              "    <path d=\"M0 0h24v24H0V0z\" fill=\"none\"/>\n",
              "    <path d=\"M18.56 5.44l.94 2.06.94-2.06 2.06-.94-2.06-.94-.94-2.06-.94 2.06-2.06.94zm-11 1L8.5 8.5l.94-2.06 2.06-.94-2.06-.94L8.5 2.5l-.94 2.06-2.06.94zm10 10l.94 2.06.94-2.06 2.06-.94-2.06-.94-.94-2.06-.94 2.06-2.06.94z\"/><path d=\"M17.41 7.96l-1.37-1.37c-.4-.4-.92-.59-1.43-.59-.52 0-1.04.2-1.43.59L10.3 9.45l-7.72 7.72c-.78.78-.78 2.05 0 2.83L4 21.41c.39.39.9.59 1.41.59.51 0 1.02-.2 1.41-.59l7.78-7.78 2.81-2.81c.8-.78.8-2.07 0-2.86zM5.41 20L4 18.59l7.72-7.72 1.47 1.35L5.41 20z\"/>\n",
              "  </svg>\n",
              "      </button>\n",
              "      \n",
              "  <style>\n",
              "    .colab-df-container {\n",
              "      display:flex;\n",
              "      flex-wrap:wrap;\n",
              "      gap: 12px;\n",
              "    }\n",
              "\n",
              "    .colab-df-convert {\n",
              "      background-color: #E8F0FE;\n",
              "      border: none;\n",
              "      border-radius: 50%;\n",
              "      cursor: pointer;\n",
              "      display: none;\n",
              "      fill: #1967D2;\n",
              "      height: 32px;\n",
              "      padding: 0 0 0 0;\n",
              "      width: 32px;\n",
              "    }\n",
              "\n",
              "    .colab-df-convert:hover {\n",
              "      background-color: #E2EBFA;\n",
              "      box-shadow: 0px 1px 2px rgba(60, 64, 67, 0.3), 0px 1px 3px 1px rgba(60, 64, 67, 0.15);\n",
              "      fill: #174EA6;\n",
              "    }\n",
              "\n",
              "    [theme=dark] .colab-df-convert {\n",
              "      background-color: #3B4455;\n",
              "      fill: #D2E3FC;\n",
              "    }\n",
              "\n",
              "    [theme=dark] .colab-df-convert:hover {\n",
              "      background-color: #434B5C;\n",
              "      box-shadow: 0px 1px 3px 1px rgba(0, 0, 0, 0.15);\n",
              "      filter: drop-shadow(0px 1px 2px rgba(0, 0, 0, 0.3));\n",
              "      fill: #FFFFFF;\n",
              "    }\n",
              "  </style>\n",
              "\n",
              "      <script>\n",
              "        const buttonEl =\n",
              "          document.querySelector('#df-63f80de0-d0af-4ce1-8f29-b23a21a6d15a button.colab-df-convert');\n",
              "        buttonEl.style.display =\n",
              "          google.colab.kernel.accessAllowed ? 'block' : 'none';\n",
              "\n",
              "        async function convertToInteractive(key) {\n",
              "          const element = document.querySelector('#df-63f80de0-d0af-4ce1-8f29-b23a21a6d15a');\n",
              "          const dataTable =\n",
              "            await google.colab.kernel.invokeFunction('convertToInteractive',\n",
              "                                                     [key], {});\n",
              "          if (!dataTable) return;\n",
              "\n",
              "          const docLinkHtml = 'Like what you see? Visit the ' +\n",
              "            '<a target=\"_blank\" href=https://colab.research.google.com/notebooks/data_table.ipynb>data table notebook</a>'\n",
              "            + ' to learn more about interactive tables.';\n",
              "          element.innerHTML = '';\n",
              "          dataTable['output_type'] = 'display_data';\n",
              "          await google.colab.output.renderOutput(dataTable, element);\n",
              "          const docLink = document.createElement('div');\n",
              "          docLink.innerHTML = docLinkHtml;\n",
              "          element.appendChild(docLink);\n",
              "        }\n",
              "      </script>\n",
              "    </div>\n",
              "  </div>\n",
              "  "
            ]
          },
          "metadata": {},
          "execution_count": 249
        }
      ]
    },
    {
      "cell_type": "markdown",
      "source": [
        "# 2nd stage\n",
        "# Model design based on AUA, Introduction to Object-Oriented Programming Midterm Exam (86 samples)"
      ],
      "metadata": {
        "id": "R5uVrH4YgBVY"
      }
    },
    {
      "cell_type": "markdown",
      "source": [
        "### Exploratory Data Analysis and Data Preprocessing"
      ],
      "metadata": {
        "id": "bEmbabLWZkxX"
      }
    },
    {
      "cell_type": "code",
      "source": [
        "data1 = pd.read_csv(\"/content/Capstone dataset 2_Midterm Exam 86 samples.csv\")"
      ],
      "metadata": {
        "id": "chF8fyjbgOn2"
      },
      "execution_count": 5,
      "outputs": []
    },
    {
      "cell_type": "code",
      "source": [
        "data1.head()"
      ],
      "metadata": {
        "colab": {
          "base_uri": "https://localhost:8080/",
          "height": 206
        },
        "id": "W6B4QB3qg8zR",
        "outputId": "2020bb7d-113b-4e75-aea4-110f726db2a0"
      },
      "execution_count": 6,
      "outputs": [
        {
          "output_type": "execute_result",
          "data": {
            "text/plain": [
              "                ID T bar height  T circle R type              F type  \\\n",
              "0  OOPMT170317M062          low     False  typed       line_line_low   \n",
              "1  OOPMT170317M063         high     False   hand  line_circle_middle   \n",
              "2  OOPMT170317M064          low     False   hand     circle_line_low   \n",
              "3  OOPMT170317M065       middle     False   hand     circle_line_low   \n",
              "4  OOPMT170317M066          low     False   hand   circle_circle_low   \n",
              "\n",
              "  Letter Size Student performance  \n",
              "0       small                   M  \n",
              "1       large                   M  \n",
              "2      middle                   M  \n",
              "3      middle                   M  \n",
              "4       small                   M  "
            ],
            "text/html": [
              "\n",
              "  <div id=\"df-3a1f2bed-4af6-42ff-8863-f8fed2e4ffcb\">\n",
              "    <div class=\"colab-df-container\">\n",
              "      <div>\n",
              "<style scoped>\n",
              "    .dataframe tbody tr th:only-of-type {\n",
              "        vertical-align: middle;\n",
              "    }\n",
              "\n",
              "    .dataframe tbody tr th {\n",
              "        vertical-align: top;\n",
              "    }\n",
              "\n",
              "    .dataframe thead th {\n",
              "        text-align: right;\n",
              "    }\n",
              "</style>\n",
              "<table border=\"1\" class=\"dataframe\">\n",
              "  <thead>\n",
              "    <tr style=\"text-align: right;\">\n",
              "      <th></th>\n",
              "      <th>ID</th>\n",
              "      <th>T bar height</th>\n",
              "      <th>T circle</th>\n",
              "      <th>R type</th>\n",
              "      <th>F type</th>\n",
              "      <th>Letter Size</th>\n",
              "      <th>Student performance</th>\n",
              "    </tr>\n",
              "  </thead>\n",
              "  <tbody>\n",
              "    <tr>\n",
              "      <th>0</th>\n",
              "      <td>OOPMT170317M062</td>\n",
              "      <td>low</td>\n",
              "      <td>False</td>\n",
              "      <td>typed</td>\n",
              "      <td>line_line_low</td>\n",
              "      <td>small</td>\n",
              "      <td>M</td>\n",
              "    </tr>\n",
              "    <tr>\n",
              "      <th>1</th>\n",
              "      <td>OOPMT170317M063</td>\n",
              "      <td>high</td>\n",
              "      <td>False</td>\n",
              "      <td>hand</td>\n",
              "      <td>line_circle_middle</td>\n",
              "      <td>large</td>\n",
              "      <td>M</td>\n",
              "    </tr>\n",
              "    <tr>\n",
              "      <th>2</th>\n",
              "      <td>OOPMT170317M064</td>\n",
              "      <td>low</td>\n",
              "      <td>False</td>\n",
              "      <td>hand</td>\n",
              "      <td>circle_line_low</td>\n",
              "      <td>middle</td>\n",
              "      <td>M</td>\n",
              "    </tr>\n",
              "    <tr>\n",
              "      <th>3</th>\n",
              "      <td>OOPMT170317M065</td>\n",
              "      <td>middle</td>\n",
              "      <td>False</td>\n",
              "      <td>hand</td>\n",
              "      <td>circle_line_low</td>\n",
              "      <td>middle</td>\n",
              "      <td>M</td>\n",
              "    </tr>\n",
              "    <tr>\n",
              "      <th>4</th>\n",
              "      <td>OOPMT170317M066</td>\n",
              "      <td>low</td>\n",
              "      <td>False</td>\n",
              "      <td>hand</td>\n",
              "      <td>circle_circle_low</td>\n",
              "      <td>small</td>\n",
              "      <td>M</td>\n",
              "    </tr>\n",
              "  </tbody>\n",
              "</table>\n",
              "</div>\n",
              "      <button class=\"colab-df-convert\" onclick=\"convertToInteractive('df-3a1f2bed-4af6-42ff-8863-f8fed2e4ffcb')\"\n",
              "              title=\"Convert this dataframe to an interactive table.\"\n",
              "              style=\"display:none;\">\n",
              "        \n",
              "  <svg xmlns=\"http://www.w3.org/2000/svg\" height=\"24px\"viewBox=\"0 0 24 24\"\n",
              "       width=\"24px\">\n",
              "    <path d=\"M0 0h24v24H0V0z\" fill=\"none\"/>\n",
              "    <path d=\"M18.56 5.44l.94 2.06.94-2.06 2.06-.94-2.06-.94-.94-2.06-.94 2.06-2.06.94zm-11 1L8.5 8.5l.94-2.06 2.06-.94-2.06-.94L8.5 2.5l-.94 2.06-2.06.94zm10 10l.94 2.06.94-2.06 2.06-.94-2.06-.94-.94-2.06-.94 2.06-2.06.94z\"/><path d=\"M17.41 7.96l-1.37-1.37c-.4-.4-.92-.59-1.43-.59-.52 0-1.04.2-1.43.59L10.3 9.45l-7.72 7.72c-.78.78-.78 2.05 0 2.83L4 21.41c.39.39.9.59 1.41.59.51 0 1.02-.2 1.41-.59l7.78-7.78 2.81-2.81c.8-.78.8-2.07 0-2.86zM5.41 20L4 18.59l7.72-7.72 1.47 1.35L5.41 20z\"/>\n",
              "  </svg>\n",
              "      </button>\n",
              "      \n",
              "  <style>\n",
              "    .colab-df-container {\n",
              "      display:flex;\n",
              "      flex-wrap:wrap;\n",
              "      gap: 12px;\n",
              "    }\n",
              "\n",
              "    .colab-df-convert {\n",
              "      background-color: #E8F0FE;\n",
              "      border: none;\n",
              "      border-radius: 50%;\n",
              "      cursor: pointer;\n",
              "      display: none;\n",
              "      fill: #1967D2;\n",
              "      height: 32px;\n",
              "      padding: 0 0 0 0;\n",
              "      width: 32px;\n",
              "    }\n",
              "\n",
              "    .colab-df-convert:hover {\n",
              "      background-color: #E2EBFA;\n",
              "      box-shadow: 0px 1px 2px rgba(60, 64, 67, 0.3), 0px 1px 3px 1px rgba(60, 64, 67, 0.15);\n",
              "      fill: #174EA6;\n",
              "    }\n",
              "\n",
              "    [theme=dark] .colab-df-convert {\n",
              "      background-color: #3B4455;\n",
              "      fill: #D2E3FC;\n",
              "    }\n",
              "\n",
              "    [theme=dark] .colab-df-convert:hover {\n",
              "      background-color: #434B5C;\n",
              "      box-shadow: 0px 1px 3px 1px rgba(0, 0, 0, 0.15);\n",
              "      filter: drop-shadow(0px 1px 2px rgba(0, 0, 0, 0.3));\n",
              "      fill: #FFFFFF;\n",
              "    }\n",
              "  </style>\n",
              "\n",
              "      <script>\n",
              "        const buttonEl =\n",
              "          document.querySelector('#df-3a1f2bed-4af6-42ff-8863-f8fed2e4ffcb button.colab-df-convert');\n",
              "        buttonEl.style.display =\n",
              "          google.colab.kernel.accessAllowed ? 'block' : 'none';\n",
              "\n",
              "        async function convertToInteractive(key) {\n",
              "          const element = document.querySelector('#df-3a1f2bed-4af6-42ff-8863-f8fed2e4ffcb');\n",
              "          const dataTable =\n",
              "            await google.colab.kernel.invokeFunction('convertToInteractive',\n",
              "                                                     [key], {});\n",
              "          if (!dataTable) return;\n",
              "\n",
              "          const docLinkHtml = 'Like what you see? Visit the ' +\n",
              "            '<a target=\"_blank\" href=https://colab.research.google.com/notebooks/data_table.ipynb>data table notebook</a>'\n",
              "            + ' to learn more about interactive tables.';\n",
              "          element.innerHTML = '';\n",
              "          dataTable['output_type'] = 'display_data';\n",
              "          await google.colab.output.renderOutput(dataTable, element);\n",
              "          const docLink = document.createElement('div');\n",
              "          docLink.innerHTML = docLinkHtml;\n",
              "          element.appendChild(docLink);\n",
              "        }\n",
              "      </script>\n",
              "    </div>\n",
              "  </div>\n",
              "  "
            ]
          },
          "metadata": {},
          "execution_count": 6
        }
      ]
    },
    {
      "cell_type": "code",
      "source": [
        "data1.info()"
      ],
      "metadata": {
        "colab": {
          "base_uri": "https://localhost:8080/"
        },
        "id": "IPgnvnGvhRT_",
        "outputId": "34c96584-fcd9-4135-9bf7-feea12b3fef1"
      },
      "execution_count": null,
      "outputs": [
        {
          "output_type": "stream",
          "name": "stdout",
          "text": [
            "<class 'pandas.core.frame.DataFrame'>\n",
            "RangeIndex: 86 entries, 0 to 85\n",
            "Data columns (total 7 columns):\n",
            " #   Column               Non-Null Count  Dtype \n",
            "---  ------               --------------  ----- \n",
            " 0   ID                   86 non-null     object\n",
            " 1   T bar height         86 non-null     object\n",
            " 2   T circle             86 non-null     bool  \n",
            " 3   R type               86 non-null     object\n",
            " 4   F type               86 non-null     object\n",
            " 5   Letter Size          86 non-null     object\n",
            " 6   Student performance  86 non-null     object\n",
            "dtypes: bool(1), object(6)\n",
            "memory usage: 4.2+ KB\n"
          ]
        }
      ]
    },
    {
      "cell_type": "code",
      "source": [
        "data1.describe"
      ],
      "metadata": {
        "colab": {
          "base_uri": "https://localhost:8080/"
        },
        "id": "lSlsPG0aiamJ",
        "outputId": "96aa826e-5b81-47c2-ff69-47218f2a12c2"
      },
      "execution_count": null,
      "outputs": [
        {
          "output_type": "execute_result",
          "data": {
            "text/plain": [
              "<bound method NDFrame.describe of                  ID T bar height  T circle R type              F type  \\\n",
              "0   OOPMT170317M062          low     False  typed       line_line_low   \n",
              "1   OOPMT170317M063         high     False   hand  line_circle_middle   \n",
              "2   OOPMT170317M064          low     False   hand     circle_line_low   \n",
              "3   OOPMT170317M065       middle     False   hand     circle_line_low   \n",
              "4   OOPMT170317M066          low     False   hand   circle_circle_low   \n",
              "..              ...          ...       ...    ...                 ...   \n",
              "81  OOPMT170317L042       middle     False   hand   circle_circle_low   \n",
              "82  OOPMT170317L043         high     False  typed     line_circle_low   \n",
              "83  OOPMT170317L044         high     False  typed    line_line_circle   \n",
              "84  OOPMT170317L045         high     False  typed    line_line_middle   \n",
              "85  OOPMT170317L046       middle     False   hand    line_line_middle   \n",
              "\n",
              "   Letter Size Student performance  \n",
              "0        small                   M  \n",
              "1        large                   M  \n",
              "2       middle                   M  \n",
              "3       middle                   M  \n",
              "4        small                   M  \n",
              "..         ...                 ...  \n",
              "81       small                   L  \n",
              "82      middle                   L  \n",
              "83       small                   L  \n",
              "84       small                   L  \n",
              "85      middle                   L  \n",
              "\n",
              "[86 rows x 7 columns]>"
            ]
          },
          "metadata": {},
          "execution_count": 9
        }
      ]
    },
    {
      "cell_type": "code",
      "source": [
        "data1.columns"
      ],
      "metadata": {
        "colab": {
          "base_uri": "https://localhost:8080/"
        },
        "id": "LYkwjUjZibbh",
        "outputId": "f49b780a-4d42-48fc-ef4d-8e6246a70da3"
      },
      "execution_count": null,
      "outputs": [
        {
          "output_type": "execute_result",
          "data": {
            "text/plain": [
              "Index(['ID', 'T bar height', 'T circle', 'R type', 'F type', 'Letter Size',\n",
              "       'Student performance'],\n",
              "      dtype='object')"
            ]
          },
          "metadata": {},
          "execution_count": 21
        }
      ]
    },
    {
      "cell_type": "code",
      "source": [
        "#making data numerical\n",
        "data1_num = data1.copy()\n",
        "data1_num[\"T bar height\"] = LabelEncoder().fit_transform(data1_num[\"T bar height\"])\n",
        "data1_num[\"T circle\"] = LabelEncoder().fit_transform(data1_num[\"T circle\"])\n",
        "data1_num[\"R type\"] = LabelEncoder().fit_transform(data1_num[\"R type\"])\n",
        "data1_num[\"F type\"] = LabelEncoder().fit_transform(data1_num[\"F type\"])\n",
        "data1_num[\"Letter Size\"] = LabelEncoder().fit_transform(data1_num[\"Letter Size\"])\n",
        "data1_num[\"Student performance\"] = LabelEncoder().fit_transform(data1_num[\"Student performance\"])\n"
      ],
      "metadata": {
        "id": "fFDrD0gIi-pR"
      },
      "execution_count": null,
      "outputs": []
    },
    {
      "cell_type": "code",
      "source": [
        "data1_num.head()"
      ],
      "metadata": {
        "colab": {
          "base_uri": "https://localhost:8080/",
          "height": 206
        },
        "id": "G2jwU_owjiQX",
        "outputId": "20fcd2ac-e94f-4da0-fb9e-d7ecc9910d31"
      },
      "execution_count": null,
      "outputs": [
        {
          "output_type": "execute_result",
          "data": {
            "text/plain": [
              "                ID  T bar height  T circle  R type  F type  Letter Size  \\\n",
              "0  OOPMT170317M062             1         0       2       7            2   \n",
              "1  OOPMT170317M063             0         0       1       5            0   \n",
              "2  OOPMT170317M064             1         0       1       2            1   \n",
              "3  OOPMT170317M065             2         0       1       2            1   \n",
              "4  OOPMT170317M066             1         0       1       0            2   \n",
              "\n",
              "   Student performance  \n",
              "0                    2  \n",
              "1                    2  \n",
              "2                    2  \n",
              "3                    2  \n",
              "4                    2  "
            ],
            "text/html": [
              "\n",
              "  <div id=\"df-7a4890d0-ddfb-4719-9364-675aa65aaf43\">\n",
              "    <div class=\"colab-df-container\">\n",
              "      <div>\n",
              "<style scoped>\n",
              "    .dataframe tbody tr th:only-of-type {\n",
              "        vertical-align: middle;\n",
              "    }\n",
              "\n",
              "    .dataframe tbody tr th {\n",
              "        vertical-align: top;\n",
              "    }\n",
              "\n",
              "    .dataframe thead th {\n",
              "        text-align: right;\n",
              "    }\n",
              "</style>\n",
              "<table border=\"1\" class=\"dataframe\">\n",
              "  <thead>\n",
              "    <tr style=\"text-align: right;\">\n",
              "      <th></th>\n",
              "      <th>ID</th>\n",
              "      <th>T bar height</th>\n",
              "      <th>T circle</th>\n",
              "      <th>R type</th>\n",
              "      <th>F type</th>\n",
              "      <th>Letter Size</th>\n",
              "      <th>Student performance</th>\n",
              "    </tr>\n",
              "  </thead>\n",
              "  <tbody>\n",
              "    <tr>\n",
              "      <th>0</th>\n",
              "      <td>OOPMT170317M062</td>\n",
              "      <td>1</td>\n",
              "      <td>0</td>\n",
              "      <td>2</td>\n",
              "      <td>7</td>\n",
              "      <td>2</td>\n",
              "      <td>2</td>\n",
              "    </tr>\n",
              "    <tr>\n",
              "      <th>1</th>\n",
              "      <td>OOPMT170317M063</td>\n",
              "      <td>0</td>\n",
              "      <td>0</td>\n",
              "      <td>1</td>\n",
              "      <td>5</td>\n",
              "      <td>0</td>\n",
              "      <td>2</td>\n",
              "    </tr>\n",
              "    <tr>\n",
              "      <th>2</th>\n",
              "      <td>OOPMT170317M064</td>\n",
              "      <td>1</td>\n",
              "      <td>0</td>\n",
              "      <td>1</td>\n",
              "      <td>2</td>\n",
              "      <td>1</td>\n",
              "      <td>2</td>\n",
              "    </tr>\n",
              "    <tr>\n",
              "      <th>3</th>\n",
              "      <td>OOPMT170317M065</td>\n",
              "      <td>2</td>\n",
              "      <td>0</td>\n",
              "      <td>1</td>\n",
              "      <td>2</td>\n",
              "      <td>1</td>\n",
              "      <td>2</td>\n",
              "    </tr>\n",
              "    <tr>\n",
              "      <th>4</th>\n",
              "      <td>OOPMT170317M066</td>\n",
              "      <td>1</td>\n",
              "      <td>0</td>\n",
              "      <td>1</td>\n",
              "      <td>0</td>\n",
              "      <td>2</td>\n",
              "      <td>2</td>\n",
              "    </tr>\n",
              "  </tbody>\n",
              "</table>\n",
              "</div>\n",
              "      <button class=\"colab-df-convert\" onclick=\"convertToInteractive('df-7a4890d0-ddfb-4719-9364-675aa65aaf43')\"\n",
              "              title=\"Convert this dataframe to an interactive table.\"\n",
              "              style=\"display:none;\">\n",
              "        \n",
              "  <svg xmlns=\"http://www.w3.org/2000/svg\" height=\"24px\"viewBox=\"0 0 24 24\"\n",
              "       width=\"24px\">\n",
              "    <path d=\"M0 0h24v24H0V0z\" fill=\"none\"/>\n",
              "    <path d=\"M18.56 5.44l.94 2.06.94-2.06 2.06-.94-2.06-.94-.94-2.06-.94 2.06-2.06.94zm-11 1L8.5 8.5l.94-2.06 2.06-.94-2.06-.94L8.5 2.5l-.94 2.06-2.06.94zm10 10l.94 2.06.94-2.06 2.06-.94-2.06-.94-.94-2.06-.94 2.06-2.06.94z\"/><path d=\"M17.41 7.96l-1.37-1.37c-.4-.4-.92-.59-1.43-.59-.52 0-1.04.2-1.43.59L10.3 9.45l-7.72 7.72c-.78.78-.78 2.05 0 2.83L4 21.41c.39.39.9.59 1.41.59.51 0 1.02-.2 1.41-.59l7.78-7.78 2.81-2.81c.8-.78.8-2.07 0-2.86zM5.41 20L4 18.59l7.72-7.72 1.47 1.35L5.41 20z\"/>\n",
              "  </svg>\n",
              "      </button>\n",
              "      \n",
              "  <style>\n",
              "    .colab-df-container {\n",
              "      display:flex;\n",
              "      flex-wrap:wrap;\n",
              "      gap: 12px;\n",
              "    }\n",
              "\n",
              "    .colab-df-convert {\n",
              "      background-color: #E8F0FE;\n",
              "      border: none;\n",
              "      border-radius: 50%;\n",
              "      cursor: pointer;\n",
              "      display: none;\n",
              "      fill: #1967D2;\n",
              "      height: 32px;\n",
              "      padding: 0 0 0 0;\n",
              "      width: 32px;\n",
              "    }\n",
              "\n",
              "    .colab-df-convert:hover {\n",
              "      background-color: #E2EBFA;\n",
              "      box-shadow: 0px 1px 2px rgba(60, 64, 67, 0.3), 0px 1px 3px 1px rgba(60, 64, 67, 0.15);\n",
              "      fill: #174EA6;\n",
              "    }\n",
              "\n",
              "    [theme=dark] .colab-df-convert {\n",
              "      background-color: #3B4455;\n",
              "      fill: #D2E3FC;\n",
              "    }\n",
              "\n",
              "    [theme=dark] .colab-df-convert:hover {\n",
              "      background-color: #434B5C;\n",
              "      box-shadow: 0px 1px 3px 1px rgba(0, 0, 0, 0.15);\n",
              "      filter: drop-shadow(0px 1px 2px rgba(0, 0, 0, 0.3));\n",
              "      fill: #FFFFFF;\n",
              "    }\n",
              "  </style>\n",
              "\n",
              "      <script>\n",
              "        const buttonEl =\n",
              "          document.querySelector('#df-7a4890d0-ddfb-4719-9364-675aa65aaf43 button.colab-df-convert');\n",
              "        buttonEl.style.display =\n",
              "          google.colab.kernel.accessAllowed ? 'block' : 'none';\n",
              "\n",
              "        async function convertToInteractive(key) {\n",
              "          const element = document.querySelector('#df-7a4890d0-ddfb-4719-9364-675aa65aaf43');\n",
              "          const dataTable =\n",
              "            await google.colab.kernel.invokeFunction('convertToInteractive',\n",
              "                                                     [key], {});\n",
              "          if (!dataTable) return;\n",
              "\n",
              "          const docLinkHtml = 'Like what you see? Visit the ' +\n",
              "            '<a target=\"_blank\" href=https://colab.research.google.com/notebooks/data_table.ipynb>data table notebook</a>'\n",
              "            + ' to learn more about interactive tables.';\n",
              "          element.innerHTML = '';\n",
              "          dataTable['output_type'] = 'display_data';\n",
              "          await google.colab.output.renderOutput(dataTable, element);\n",
              "          const docLink = document.createElement('div');\n",
              "          docLink.innerHTML = docLinkHtml;\n",
              "          element.appendChild(docLink);\n",
              "        }\n",
              "      </script>\n",
              "    </div>\n",
              "  </div>\n",
              "  "
            ]
          },
          "metadata": {},
          "execution_count": 15
        }
      ]
    },
    {
      "cell_type": "code",
      "source": [
        "# dropping the ID column\n",
        "data1_num.drop(\"ID\", axis = 1, inplace = True)"
      ],
      "metadata": {
        "id": "fjS0YG2fj5h0"
      },
      "execution_count": null,
      "outputs": []
    },
    {
      "cell_type": "code",
      "source": [
        "# the distribution of different parameters\n",
        "n_bins = 20\n",
        "\n",
        "fig, axs = plt.subplots(1, 6, sharey=True, tight_layout=True, figsize=(20, 5))\n",
        "\n",
        "\n",
        "axs[0].hist(data1_num[\"T bar height\"])\n",
        "axs[0].set_title('T bar')\n",
        "axs[1].hist(data1_num[\"Letter Size\"])\n",
        "axs[1].set_title('Letter Size')\n",
        "axs[2].hist(data1_num[\"T circle\"])\n",
        "axs[2].set_title('T contains circle')\n",
        "axs[3].hist(data1_num[\"R type\"])\n",
        "axs[3].set_title('R type')\n",
        "axs[4].hist(data1_num[\"F type\"])\n",
        "axs[4].set_title('F type')\n",
        "axs[5].hist(data1_num[\"Student performance\"])\n",
        "axs[5].set_title(\"Student performance\")\n",
        "\n",
        "plt.show()"
      ],
      "metadata": {
        "colab": {
          "base_uri": "https://localhost:8080/",
          "height": 369
        },
        "id": "fTNDAUszk0kD",
        "outputId": "c655e8bd-f4ee-479a-c6a8-23654e93206a"
      },
      "execution_count": null,
      "outputs": [
        {
          "output_type": "display_data",
          "data": {
            "text/plain": [
              "<Figure size 1440x360 with 6 Axes>"
            ],
            "image/png": "[encoded data removed]"
          },
          "metadata": {
            "needs_background": "light"
          }
        }
      ]
    },
    {
      "cell_type": "code",
      "source": [
        "# dropping the outliers from R_type\n",
        "data1_num = data1_num[data1_num[\"R type\"] != 0]"
      ],
      "metadata": {
        "id": "JSYGtAnKnoi3"
      },
      "execution_count": null,
      "outputs": []
    },
    {
      "cell_type": "code",
      "source": [
        "corr = data1_num.corr()\n",
        "corr.style.background_gradient()"
      ],
      "metadata": {
        "colab": {
          "base_uri": "https://localhost:8080/",
          "height": 237
        },
        "id": "4Hzeut2ckJTx",
        "outputId": "eaf22ea8-5c4d-4b16-a133-34cb5aa9eac9"
      },
      "execution_count": null,
      "outputs": [
        {
          "output_type": "execute_result",
          "data": {
            "text/plain": [
              "<pandas.io.formats.style.Styler at 0x7f8923c89ad0>"
            ],
            "text/html": [
              "<style type=\"text/css\">\n",
              "#T_cf369_row0_col0, #T_cf369_row1_col1, #T_cf369_row2_col2, #T_cf369_row3_col3, #T_cf369_row4_col4, #T_cf369_row5_col5 {\n",
              "  background-color: #023858;\n",
              "  color: #f1f1f1;\n",
              "}\n",
              "#T_cf369_row0_col1 {\n",
              "  background-color: #acc0dd;\n",
              "  color: #000000;\n",
              "}\n",
              "#T_cf369_row0_col2, #T_cf369_row5_col4 {\n",
              "  background-color: #f1ebf4;\n",
              "  color: #000000;\n",
              "}\n",
              "#T_cf369_row0_col3 {\n",
              "  background-color: #fdf5fa;\n",
              "  color: #000000;\n",
              "}\n",
              "#T_cf369_row0_col4, #T_cf369_row1_col0 {\n",
              "  background-color: #b0c2de;\n",
              "  color: #000000;\n",
              "}\n",
              "#T_cf369_row0_col5, #T_cf369_row1_col2, #T_cf369_row1_col4, #T_cf369_row2_col1, #T_cf369_row3_col4, #T_cf369_row4_col3, #T_cf369_row5_col0 {\n",
              "  background-color: #fff7fb;\n",
              "  color: #000000;\n",
              "}\n",
              "#T_cf369_row1_col3 {\n",
              "  background-color: #f7f0f7;\n",
              "  color: #000000;\n",
              "}\n",
              "#T_cf369_row1_col5 {\n",
              "  background-color: #fef6fb;\n",
              "  color: #000000;\n",
              "}\n",
              "#T_cf369_row2_col0 {\n",
              "  background-color: #f3edf5;\n",
              "  color: #000000;\n",
              "}\n",
              "#T_cf369_row2_col3 {\n",
              "  background-color: #80aed2;\n",
              "  color: #f1f1f1;\n",
              "}\n",
              "#T_cf369_row2_col4 {\n",
              "  background-color: #e8e4f0;\n",
              "  color: #000000;\n",
              "}\n",
              "#T_cf369_row2_col5, #T_cf369_row3_col1 {\n",
              "  background-color: #f0eaf4;\n",
              "  color: #000000;\n",
              "}\n",
              "#T_cf369_row3_col0, #T_cf369_row4_col1 {\n",
              "  background-color: #f8f1f8;\n",
              "  color: #000000;\n",
              "}\n",
              "#T_cf369_row3_col2 {\n",
              "  background-color: #76aad0;\n",
              "  color: #f1f1f1;\n",
              "}\n",
              "#T_cf369_row3_col5 {\n",
              "  background-color: #f5eff6;\n",
              "  color: #000000;\n",
              "}\n",
              "#T_cf369_row4_col0 {\n",
              "  background-color: #abbfdc;\n",
              "  color: #000000;\n",
              "}\n",
              "#T_cf369_row4_col2 {\n",
              "  background-color: #e0dded;\n",
              "  color: #000000;\n",
              "}\n",
              "#T_cf369_row4_col5, #T_cf369_row5_col2 {\n",
              "  background-color: #ede8f3;\n",
              "  color: #000000;\n",
              "}\n",
              "#T_cf369_row5_col1 {\n",
              "  background-color: #fbf4f9;\n",
              "  color: #000000;\n",
              "}\n",
              "#T_cf369_row5_col3 {\n",
              "  background-color: #faf3f9;\n",
              "  color: #000000;\n",
              "}\n",
              "</style>\n",
              "<table id=\"T_cf369_\" class=\"dataframe\">\n",
              "  <thead>\n",
              "    <tr>\n",
              "      <th class=\"blank level0\" >&nbsp;</th>\n",
              "      <th class=\"col_heading level0 col0\" >T bar height</th>\n",
              "      <th class=\"col_heading level0 col1\" >T circle</th>\n",
              "      <th class=\"col_heading level0 col2\" >R type</th>\n",
              "      <th class=\"col_heading level0 col3\" >F type</th>\n",
              "      <th class=\"col_heading level0 col4\" >Letter Size</th>\n",
              "      <th class=\"col_heading level0 col5\" >Student performance</th>\n",
              "    </tr>\n",
              "  </thead>\n",
              "  <tbody>\n",
              "    <tr>\n",
              "      <th id=\"T_cf369_level0_row0\" class=\"row_heading level0 row0\" >T bar height</th>\n",
              "      <td id=\"T_cf369_row0_col0\" class=\"data row0 col0\" >1.000000</td>\n",
              "      <td id=\"T_cf369_row0_col1\" class=\"data row0 col1\" >0.247876</td>\n",
              "      <td id=\"T_cf369_row0_col2\" class=\"data row0 col2\" >-0.059478</td>\n",
              "      <td id=\"T_cf369_row0_col3\" class=\"data row0 col3\" >-0.097314</td>\n",
              "      <td id=\"T_cf369_row0_col4\" class=\"data row0 col4\" >0.266310</td>\n",
              "      <td id=\"T_cf369_row0_col5\" class=\"data row0 col5\" >-0.150515</td>\n",
              "    </tr>\n",
              "    <tr>\n",
              "      <th id=\"T_cf369_level0_row1\" class=\"row_heading level0 row1\" >T circle</th>\n",
              "      <td id=\"T_cf369_row1_col0\" class=\"data row1 col0\" >0.247876</td>\n",
              "      <td id=\"T_cf369_row1_col1\" class=\"data row1 col1\" >1.000000</td>\n",
              "      <td id=\"T_cf369_row1_col2\" class=\"data row1 col2\" >-0.172342</td>\n",
              "      <td id=\"T_cf369_row1_col3\" class=\"data row1 col3\" >-0.055833</td>\n",
              "      <td id=\"T_cf369_row1_col4\" class=\"data row1 col4\" >-0.119415</td>\n",
              "      <td id=\"T_cf369_row1_col5\" class=\"data row1 col5\" >-0.143891</td>\n",
              "    </tr>\n",
              "    <tr>\n",
              "      <th id=\"T_cf369_level0_row2\" class=\"row_heading level0 row2\" >R type</th>\n",
              "      <td id=\"T_cf369_row2_col0\" class=\"data row2 col0\" >-0.059478</td>\n",
              "      <td id=\"T_cf369_row2_col1\" class=\"data row2 col1\" >-0.172342</td>\n",
              "      <td id=\"T_cf369_row2_col2\" class=\"data row2 col2\" >1.000000</td>\n",
              "      <td id=\"T_cf369_row2_col3\" class=\"data row2 col3\" >0.407365</td>\n",
              "      <td id=\"T_cf369_row2_col4\" class=\"data row2 col4\" >0.039432</td>\n",
              "      <td id=\"T_cf369_row2_col5\" class=\"data row2 col5\" >-0.034698</td>\n",
              "    </tr>\n",
              "    <tr>\n",
              "      <th id=\"T_cf369_level0_row3\" class=\"row_heading level0 row3\" >F type</th>\n",
              "      <td id=\"T_cf369_row3_col0\" class=\"data row3 col0\" >-0.097314</td>\n",
              "      <td id=\"T_cf369_row3_col1\" class=\"data row3 col1\" >-0.055833</td>\n",
              "      <td id=\"T_cf369_row3_col2\" class=\"data row3 col2\" >0.407365</td>\n",
              "      <td id=\"T_cf369_row3_col3\" class=\"data row3 col3\" >1.000000</td>\n",
              "      <td id=\"T_cf369_row3_col4\" class=\"data row3 col4\" >-0.115644</td>\n",
              "      <td id=\"T_cf369_row3_col5\" class=\"data row3 col5\" >-0.078189</td>\n",
              "    </tr>\n",
              "    <tr>\n",
              "      <th id=\"T_cf369_level0_row4\" class=\"row_heading level0 row4\" >Letter Size</th>\n",
              "      <td id=\"T_cf369_row4_col0\" class=\"data row4 col0\" >0.266310</td>\n",
              "      <td id=\"T_cf369_row4_col1\" class=\"data row4 col1\" >-0.119415</td>\n",
              "      <td id=\"T_cf369_row4_col2\" class=\"data row4 col2\" >0.039432</td>\n",
              "      <td id=\"T_cf369_row4_col3\" class=\"data row4 col3\" >-0.115644</td>\n",
              "      <td id=\"T_cf369_row4_col4\" class=\"data row4 col4\" >1.000000</td>\n",
              "      <td id=\"T_cf369_row4_col5\" class=\"data row4 col5\" >-0.012121</td>\n",
              "    </tr>\n",
              "    <tr>\n",
              "      <th id=\"T_cf369_level0_row5\" class=\"row_heading level0 row5\" >Student performance</th>\n",
              "      <td id=\"T_cf369_row5_col0\" class=\"data row5 col0\" >-0.150515</td>\n",
              "      <td id=\"T_cf369_row5_col1\" class=\"data row5 col1\" >-0.143891</td>\n",
              "      <td id=\"T_cf369_row5_col2\" class=\"data row5 col2\" >-0.034698</td>\n",
              "      <td id=\"T_cf369_row5_col3\" class=\"data row5 col3\" >-0.078189</td>\n",
              "      <td id=\"T_cf369_row5_col4\" class=\"data row5 col4\" >-0.012121</td>\n",
              "      <td id=\"T_cf369_row5_col5\" class=\"data row5 col5\" >1.000000</td>\n",
              "    </tr>\n",
              "  </tbody>\n",
              "</table>\n"
            ]
          },
          "metadata": {},
          "execution_count": 19
        }
      ]
    },
    {
      "cell_type": "markdown",
      "source": [
        "### Designing Models to Predict Student Performance (Train-Test regular splits)"
      ],
      "metadata": {
        "id": "y60MK-ewrBsf"
      }
    },
    {
      "cell_type": "code",
      "source": [
        "# creating a dataframe with features\n",
        "features = data1_num.iloc[:,0:5]\n",
        "# dropping T circle column which is imbalanced\n",
        "features.drop(\"T circle\", axis = 1, inplace = True)"
      ],
      "metadata": {
        "colab": {
          "base_uri": "https://localhost:8080/"
        },
        "id": "_4I7KcbppOvu",
        "outputId": "886b375c-ee4a-467c-c090-ccd9aed2dd58"
      },
      "execution_count": null,
      "outputs": [
        {
          "output_type": "stream",
          "name": "stderr",
          "text": [
            "/usr/local/lib/python3.7/dist-packages/pandas/core/frame.py:4913: SettingWithCopyWarning: \n",
            "A value is trying to be set on a copy of a slice from a DataFrame\n",
            "\n",
            "See the caveats in the documentation: https://pandas.pydata.org/pandas-docs/stable/user_guide/indexing.html#returning-a-view-versus-a-copy\n",
            "  errors=errors,\n"
          ]
        }
      ]
    },
    {
      "cell_type": "code",
      "source": [
        "# all 4 characteristics together\n",
        "X_train, X_test, y_train, y_test = train_test_split( features, data1_num[\"Student performance\"], test_size=0.2, random_state=42)\n",
        "\n",
        "# for using individual features for training replace \"features\" with \n",
        "# - features[\"T bar height\"]\n",
        "# - features[\"R type\"]\n",
        "# - features[\"F type\"]\n",
        "# - features[\"Letter Size\"]\n"
      ],
      "metadata": {
        "id": "hUVhAbAJpF4S"
      },
      "execution_count": null,
      "outputs": []
    },
    {
      "cell_type": "markdown",
      "source": [
        "#### Random Forest Classifier"
      ],
      "metadata": {
        "id": "9fo1x0HyhDEH"
      }
    },
    {
      "cell_type": "code",
      "source": [
        "n_estimators = [3,4,5,7, 8, 9]\n",
        "criterion = [\"gini\", \"entropy\"]\n",
        "RF_Results = []\n",
        "\n",
        "for n in n_estimators:\n",
        "  for c in criterion:\n",
        "\n",
        "      RF_model = RandomForestClassifier(n_estimators=n,criterion=c,n_jobs = -1, random_state = 0,) \n",
        "      RF_model.fit(X_train, y_train)\n",
        "      predictions = RF_model.predict(X_test)\n",
        "      test_score = RF_model.score(X_test, y_test) #Return the mean accuracy on the given test data and labels.\n",
        "      train_score = RF_model.score(X_train, y_train)\n",
        "      RF_Results.append([n, c, test_score, train_score])\n",
        "\n"
      ],
      "metadata": {
        "id": "DoKsWoxthGC0"
      },
      "execution_count": null,
      "outputs": []
    },
    {
      "cell_type": "code",
      "source": [
        "RF_Results = pd.DataFrame(RF_Results)\n",
        "RF_Results.columns = [\"Number of Estimatoras\", \"Criterion\", \"Test data Accuracy score\", \"Train data Accuracy score\"]\n",
        "RF_Results"
      ],
      "metadata": {
        "colab": {
          "base_uri": "https://localhost:8080/",
          "height": 426
        },
        "id": "PFayuHb6hGf6",
        "outputId": "476444df-fbb3-42c0-8cad-8cedd5da4947"
      },
      "execution_count": null,
      "outputs": [
        {
          "output_type": "execute_result",
          "data": {
            "text/plain": [
              "    Number of Estimatoras Criterion  Test data Accuracy score  \\\n",
              "0                       3      gini                  0.235294   \n",
              "1                       3   entropy                  0.235294   \n",
              "2                       4      gini                  0.294118   \n",
              "3                       4   entropy                  0.294118   \n",
              "4                       5      gini                  0.176471   \n",
              "5                       5   entropy                  0.176471   \n",
              "6                       7      gini                  0.176471   \n",
              "7                       7   entropy                  0.176471   \n",
              "8                       8      gini                  0.235294   \n",
              "9                       8   entropy                  0.176471   \n",
              "10                      9      gini                  0.176471   \n",
              "11                      9   entropy                  0.176471   \n",
              "\n",
              "    Train data Accuracy score  \n",
              "0                    0.794118  \n",
              "1                    0.764706  \n",
              "2                    0.764706  \n",
              "3                    0.779412  \n",
              "4                    0.823529  \n",
              "5                    0.823529  \n",
              "6                    0.823529  \n",
              "7                    0.838235  \n",
              "8                    0.852941  \n",
              "9                    0.867647  \n",
              "10                   0.852941  \n",
              "11                   0.867647  "
            ],
            "text/html": [
              "\n",
              "  <div id=\"df-ee48816b-83a3-4b4d-b880-4f2b0ab851d8\">\n",
              "    <div class=\"colab-df-container\">\n",
              "      <div>\n",
              "<style scoped>\n",
              "    .dataframe tbody tr th:only-of-type {\n",
              "        vertical-align: middle;\n",
              "    }\n",
              "\n",
              "    .dataframe tbody tr th {\n",
              "        vertical-align: top;\n",
              "    }\n",
              "\n",
              "    .dataframe thead th {\n",
              "        text-align: right;\n",
              "    }\n",
              "</style>\n",
              "<table border=\"1\" class=\"dataframe\">\n",
              "  <thead>\n",
              "    <tr style=\"text-align: right;\">\n",
              "      <th></th>\n",
              "      <th>Number of Estimatoras</th>\n",
              "      <th>Criterion</th>\n",
              "      <th>Test data Accuracy score</th>\n",
              "      <th>Train data Accuracy score</th>\n",
              "    </tr>\n",
              "  </thead>\n",
              "  <tbody>\n",
              "    <tr>\n",
              "      <th>0</th>\n",
              "      <td>3</td>\n",
              "      <td>gini</td>\n",
              "      <td>0.235294</td>\n",
              "      <td>0.794118</td>\n",
              "    </tr>\n",
              "    <tr>\n",
              "      <th>1</th>\n",
              "      <td>3</td>\n",
              "      <td>entropy</td>\n",
              "      <td>0.235294</td>\n",
              "      <td>0.764706</td>\n",
              "    </tr>\n",
              "    <tr>\n",
              "      <th>2</th>\n",
              "      <td>4</td>\n",
              "      <td>gini</td>\n",
              "      <td>0.294118</td>\n",
              "      <td>0.764706</td>\n",
              "    </tr>\n",
              "    <tr>\n",
              "      <th>3</th>\n",
              "      <td>4</td>\n",
              "      <td>entropy</td>\n",
              "      <td>0.294118</td>\n",
              "      <td>0.779412</td>\n",
              "    </tr>\n",
              "    <tr>\n",
              "      <th>4</th>\n",
              "      <td>5</td>\n",
              "      <td>gini</td>\n",
              "      <td>0.176471</td>\n",
              "      <td>0.823529</td>\n",
              "    </tr>\n",
              "    <tr>\n",
              "      <th>5</th>\n",
              "      <td>5</td>\n",
              "      <td>entropy</td>\n",
              "      <td>0.176471</td>\n",
              "      <td>0.823529</td>\n",
              "    </tr>\n",
              "    <tr>\n",
              "      <th>6</th>\n",
              "      <td>7</td>\n",
              "      <td>gini</td>\n",
              "      <td>0.176471</td>\n",
              "      <td>0.823529</td>\n",
              "    </tr>\n",
              "    <tr>\n",
              "      <th>7</th>\n",
              "      <td>7</td>\n",
              "      <td>entropy</td>\n",
              "      <td>0.176471</td>\n",
              "      <td>0.838235</td>\n",
              "    </tr>\n",
              "    <tr>\n",
              "      <th>8</th>\n",
              "      <td>8</td>\n",
              "      <td>gini</td>\n",
              "      <td>0.235294</td>\n",
              "      <td>0.852941</td>\n",
              "    </tr>\n",
              "    <tr>\n",
              "      <th>9</th>\n",
              "      <td>8</td>\n",
              "      <td>entropy</td>\n",
              "      <td>0.176471</td>\n",
              "      <td>0.867647</td>\n",
              "    </tr>\n",
              "    <tr>\n",
              "      <th>10</th>\n",
              "      <td>9</td>\n",
              "      <td>gini</td>\n",
              "      <td>0.176471</td>\n",
              "      <td>0.852941</td>\n",
              "    </tr>\n",
              "    <tr>\n",
              "      <th>11</th>\n",
              "      <td>9</td>\n",
              "      <td>entropy</td>\n",
              "      <td>0.176471</td>\n",
              "      <td>0.867647</td>\n",
              "    </tr>\n",
              "  </tbody>\n",
              "</table>\n",
              "</div>\n",
              "      <button class=\"colab-df-convert\" onclick=\"convertToInteractive('df-ee48816b-83a3-4b4d-b880-4f2b0ab851d8')\"\n",
              "              title=\"Convert this dataframe to an interactive table.\"\n",
              "              style=\"display:none;\">\n",
              "        \n",
              "  <svg xmlns=\"http://www.w3.org/2000/svg\" height=\"24px\"viewBox=\"0 0 24 24\"\n",
              "       width=\"24px\">\n",
              "    <path d=\"M0 0h24v24H0V0z\" fill=\"none\"/>\n",
              "    <path d=\"M18.56 5.44l.94 2.06.94-2.06 2.06-.94-2.06-.94-.94-2.06-.94 2.06-2.06.94zm-11 1L8.5 8.5l.94-2.06 2.06-.94-2.06-.94L8.5 2.5l-.94 2.06-2.06.94zm10 10l.94 2.06.94-2.06 2.06-.94-2.06-.94-.94-2.06-.94 2.06-2.06.94z\"/><path d=\"M17.41 7.96l-1.37-1.37c-.4-.4-.92-.59-1.43-.59-.52 0-1.04.2-1.43.59L10.3 9.45l-7.72 7.72c-.78.78-.78 2.05 0 2.83L4 21.41c.39.39.9.59 1.41.59.51 0 1.02-.2 1.41-.59l7.78-7.78 2.81-2.81c.8-.78.8-2.07 0-2.86zM5.41 20L4 18.59l7.72-7.72 1.47 1.35L5.41 20z\"/>\n",
              "  </svg>\n",
              "      </button>\n",
              "      \n",
              "  <style>\n",
              "    .colab-df-container {\n",
              "      display:flex;\n",
              "      flex-wrap:wrap;\n",
              "      gap: 12px;\n",
              "    }\n",
              "\n",
              "    .colab-df-convert {\n",
              "      background-color: #E8F0FE;\n",
              "      border: none;\n",
              "      border-radius: 50%;\n",
              "      cursor: pointer;\n",
              "      display: none;\n",
              "      fill: #1967D2;\n",
              "      height: 32px;\n",
              "      padding: 0 0 0 0;\n",
              "      width: 32px;\n",
              "    }\n",
              "\n",
              "    .colab-df-convert:hover {\n",
              "      background-color: #E2EBFA;\n",
              "      box-shadow: 0px 1px 2px rgba(60, 64, 67, 0.3), 0px 1px 3px 1px rgba(60, 64, 67, 0.15);\n",
              "      fill: #174EA6;\n",
              "    }\n",
              "\n",
              "    [theme=dark] .colab-df-convert {\n",
              "      background-color: #3B4455;\n",
              "      fill: #D2E3FC;\n",
              "    }\n",
              "\n",
              "    [theme=dark] .colab-df-convert:hover {\n",
              "      background-color: #434B5C;\n",
              "      box-shadow: 0px 1px 3px 1px rgba(0, 0, 0, 0.15);\n",
              "      filter: drop-shadow(0px 1px 2px rgba(0, 0, 0, 0.3));\n",
              "      fill: #FFFFFF;\n",
              "    }\n",
              "  </style>\n",
              "\n",
              "      <script>\n",
              "        const buttonEl =\n",
              "          document.querySelector('#df-ee48816b-83a3-4b4d-b880-4f2b0ab851d8 button.colab-df-convert');\n",
              "        buttonEl.style.display =\n",
              "          google.colab.kernel.accessAllowed ? 'block' : 'none';\n",
              "\n",
              "        async function convertToInteractive(key) {\n",
              "          const element = document.querySelector('#df-ee48816b-83a3-4b4d-b880-4f2b0ab851d8');\n",
              "          const dataTable =\n",
              "            await google.colab.kernel.invokeFunction('convertToInteractive',\n",
              "                                                     [key], {});\n",
              "          if (!dataTable) return;\n",
              "\n",
              "          const docLinkHtml = 'Like what you see? Visit the ' +\n",
              "            '<a target=\"_blank\" href=https://colab.research.google.com/notebooks/data_table.ipynb>data table notebook</a>'\n",
              "            + ' to learn more about interactive tables.';\n",
              "          element.innerHTML = '';\n",
              "          dataTable['output_type'] = 'display_data';\n",
              "          await google.colab.output.renderOutput(dataTable, element);\n",
              "          const docLink = document.createElement('div');\n",
              "          docLink.innerHTML = docLinkHtml;\n",
              "          element.appendChild(docLink);\n",
              "        }\n",
              "      </script>\n",
              "    </div>\n",
              "  </div>\n",
              "  "
            ]
          },
          "metadata": {},
          "execution_count": 32
        }
      ]
    },
    {
      "cell_type": "markdown",
      "source": [
        "overfits"
      ],
      "metadata": {
        "id": "hMKWTlxQheCN"
      }
    },
    {
      "cell_type": "markdown",
      "source": [
        "#### KNN classifier"
      ],
      "metadata": {
        "id": "BCGWDmUZa_68"
      }
    },
    {
      "cell_type": "code",
      "source": [
        "knn = KNeighborsClassifier()\n",
        "knn.fit(X_train,y_train)\n",
        "\n",
        "# training accuracy\n",
        "knn.score(X_train,y_train)"
      ],
      "metadata": {
        "colab": {
          "base_uri": "https://localhost:8080/"
        },
        "id": "rZySkb55bCDp",
        "outputId": "c737f78e-6dd7-4e9d-b22e-285556ac3da6"
      },
      "execution_count": null,
      "outputs": [
        {
          "output_type": "execute_result",
          "data": {
            "text/plain": [
              "0.6825396825396826"
            ]
          },
          "metadata": {},
          "execution_count": 474
        }
      ]
    },
    {
      "cell_type": "code",
      "source": [
        "# testing accuracy\n",
        "y_knn = knn.predict(X_test)\n",
        "accuracy_score(y_knn, y_test)"
      ],
      "metadata": {
        "colab": {
          "base_uri": "https://localhost:8080/"
        },
        "id": "ESdIDoIxbKkP",
        "outputId": "e3592183-76f4-461d-dd86-9977141d45d1"
      },
      "execution_count": null,
      "outputs": [
        {
          "output_type": "execute_result",
          "data": {
            "text/plain": [
              "0.13636363636363635"
            ]
          },
          "metadata": {},
          "execution_count": 475
        }
      ]
    },
    {
      "cell_type": "markdown",
      "source": [
        "Model overfitted on train, and performs very bad on test"
      ],
      "metadata": {
        "id": "Al65diktbyl3"
      }
    },
    {
      "cell_type": "markdown",
      "source": [
        "#### Decision Tree Classifier"
      ],
      "metadata": {
        "id": "MaIXwaAUcv0Y"
      }
    },
    {
      "cell_type": "code",
      "source": [
        "from sklearn.tree import DecisionTreeClassifier\n",
        "dt = DecisionTreeClassifier()\n",
        "dt.fit(X_train,y_train)\n",
        "y_dt = dt.predict(X_test)\n",
        "print( \"Training accuracy \", dt.score(X_train, y_train), \"Testing accuracy \", dt.score(X_test, y_test))"
      ],
      "metadata": {
        "colab": {
          "base_uri": "https://localhost:8080/"
        },
        "id": "qHk9BDCkcuUV",
        "outputId": "103e1ba2-711d-400d-ea28-3b54ee50d924"
      },
      "execution_count": null,
      "outputs": [
        {
          "output_type": "stream",
          "name": "stdout",
          "text": [
            "Training accuracy  0.8888888888888888 Testing accuracy  0.2727272727272727\n"
          ]
        }
      ]
    },
    {
      "cell_type": "markdown",
      "source": [
        "overfitted"
      ],
      "metadata": {
        "id": "4jq-Ki4leqTA"
      }
    },
    {
      "cell_type": "markdown",
      "source": [
        "#### Logistic Regression with penalty for regularization"
      ],
      "metadata": {
        "id": "j6ugwcwcrFKX"
      }
    },
    {
      "cell_type": "code",
      "source": [
        "from sklearn.linear_model import LogisticRegression\n",
        "penalty =  \"l2\"\n",
        "solver = ['newton-cg', 'lbfgs', 'liblinear']\n",
        "Logistic_Results = []\n",
        "\n",
        "for s in solver:\n",
        "    Logistic_model = LogisticRegression(penalty = penalty, solver = s)\n",
        "    Logistic_model.fit(X_train, y_train)\n",
        "    predictions = Logistic_model.predict(X_test)\n",
        "    tsscore = Logistic_model.score(X_test, y_test)\n",
        "    trscore = Logistic_model.score(X_train, y_train)\n",
        "    #f1 = metrics.f1_score(y_test, predictions)\n",
        "    Logistic_Results.append([s, penalty, tsscore, trscore])\n"
      ],
      "metadata": {
        "id": "VmESAwDCl_J1"
      },
      "execution_count": null,
      "outputs": []
    },
    {
      "cell_type": "code",
      "source": [
        "Logistic_Results = pd.DataFrame(Logistic_Results)\n",
        "Logistic_Results.columns = [\"Solver\", \"Penalty\",\"Test Accuracy\", \"Train Accuracy\"]\n",
        "Logistic_Results"
      ],
      "metadata": {
        "colab": {
          "base_uri": "https://localhost:8080/",
          "height": 143
        },
        "id": "HmqqGE77ouy6",
        "outputId": "e7579d07-ad9b-4ac9-bff1-2be59f603f25"
      },
      "execution_count": null,
      "outputs": [
        {
          "output_type": "execute_result",
          "data": {
            "text/plain": [
              "      Solver Penalty  Test Accuracy  Train Accuracy\n",
              "0  newton-cg      l2       0.352941        0.397059\n",
              "1      lbfgs      l2       0.352941        0.397059\n",
              "2  liblinear      l2       0.294118        0.411765"
            ],
            "text/html": [
              "\n",
              "  <div id=\"df-8e095502-96e9-41de-af1e-ad54e68ddee8\">\n",
              "    <div class=\"colab-df-container\">\n",
              "      <div>\n",
              "<style scoped>\n",
              "    .dataframe tbody tr th:only-of-type {\n",
              "        vertical-align: middle;\n",
              "    }\n",
              "\n",
              "    .dataframe tbody tr th {\n",
              "        vertical-align: top;\n",
              "    }\n",
              "\n",
              "    .dataframe thead th {\n",
              "        text-align: right;\n",
              "    }\n",
              "</style>\n",
              "<table border=\"1\" class=\"dataframe\">\n",
              "  <thead>\n",
              "    <tr style=\"text-align: right;\">\n",
              "      <th></th>\n",
              "      <th>Solver</th>\n",
              "      <th>Penalty</th>\n",
              "      <th>Test Accuracy</th>\n",
              "      <th>Train Accuracy</th>\n",
              "    </tr>\n",
              "  </thead>\n",
              "  <tbody>\n",
              "    <tr>\n",
              "      <th>0</th>\n",
              "      <td>newton-cg</td>\n",
              "      <td>l2</td>\n",
              "      <td>0.352941</td>\n",
              "      <td>0.397059</td>\n",
              "    </tr>\n",
              "    <tr>\n",
              "      <th>1</th>\n",
              "      <td>lbfgs</td>\n",
              "      <td>l2</td>\n",
              "      <td>0.352941</td>\n",
              "      <td>0.397059</td>\n",
              "    </tr>\n",
              "    <tr>\n",
              "      <th>2</th>\n",
              "      <td>liblinear</td>\n",
              "      <td>l2</td>\n",
              "      <td>0.294118</td>\n",
              "      <td>0.411765</td>\n",
              "    </tr>\n",
              "  </tbody>\n",
              "</table>\n",
              "</div>\n",
              "      <button class=\"colab-df-convert\" onclick=\"convertToInteractive('df-8e095502-96e9-41de-af1e-ad54e68ddee8')\"\n",
              "              title=\"Convert this dataframe to an interactive table.\"\n",
              "              style=\"display:none;\">\n",
              "        \n",
              "  <svg xmlns=\"http://www.w3.org/2000/svg\" height=\"24px\"viewBox=\"0 0 24 24\"\n",
              "       width=\"24px\">\n",
              "    <path d=\"M0 0h24v24H0V0z\" fill=\"none\"/>\n",
              "    <path d=\"M18.56 5.44l.94 2.06.94-2.06 2.06-.94-2.06-.94-.94-2.06-.94 2.06-2.06.94zm-11 1L8.5 8.5l.94-2.06 2.06-.94-2.06-.94L8.5 2.5l-.94 2.06-2.06.94zm10 10l.94 2.06.94-2.06 2.06-.94-2.06-.94-.94-2.06-.94 2.06-2.06.94z\"/><path d=\"M17.41 7.96l-1.37-1.37c-.4-.4-.92-.59-1.43-.59-.52 0-1.04.2-1.43.59L10.3 9.45l-7.72 7.72c-.78.78-.78 2.05 0 2.83L4 21.41c.39.39.9.59 1.41.59.51 0 1.02-.2 1.41-.59l7.78-7.78 2.81-2.81c.8-.78.8-2.07 0-2.86zM5.41 20L4 18.59l7.72-7.72 1.47 1.35L5.41 20z\"/>\n",
              "  </svg>\n",
              "      </button>\n",
              "      \n",
              "  <style>\n",
              "    .colab-df-container {\n",
              "      display:flex;\n",
              "      flex-wrap:wrap;\n",
              "      gap: 12px;\n",
              "    }\n",
              "\n",
              "    .colab-df-convert {\n",
              "      background-color: #E8F0FE;\n",
              "      border: none;\n",
              "      border-radius: 50%;\n",
              "      cursor: pointer;\n",
              "      display: none;\n",
              "      fill: #1967D2;\n",
              "      height: 32px;\n",
              "      padding: 0 0 0 0;\n",
              "      width: 32px;\n",
              "    }\n",
              "\n",
              "    .colab-df-convert:hover {\n",
              "      background-color: #E2EBFA;\n",
              "      box-shadow: 0px 1px 2px rgba(60, 64, 67, 0.3), 0px 1px 3px 1px rgba(60, 64, 67, 0.15);\n",
              "      fill: #174EA6;\n",
              "    }\n",
              "\n",
              "    [theme=dark] .colab-df-convert {\n",
              "      background-color: #3B4455;\n",
              "      fill: #D2E3FC;\n",
              "    }\n",
              "\n",
              "    [theme=dark] .colab-df-convert:hover {\n",
              "      background-color: #434B5C;\n",
              "      box-shadow: 0px 1px 3px 1px rgba(0, 0, 0, 0.15);\n",
              "      filter: drop-shadow(0px 1px 2px rgba(0, 0, 0, 0.3));\n",
              "      fill: #FFFFFF;\n",
              "    }\n",
              "  </style>\n",
              "\n",
              "      <script>\n",
              "        const buttonEl =\n",
              "          document.querySelector('#df-8e095502-96e9-41de-af1e-ad54e68ddee8 button.colab-df-convert');\n",
              "        buttonEl.style.display =\n",
              "          google.colab.kernel.accessAllowed ? 'block' : 'none';\n",
              "\n",
              "        async function convertToInteractive(key) {\n",
              "          const element = document.querySelector('#df-8e095502-96e9-41de-af1e-ad54e68ddee8');\n",
              "          const dataTable =\n",
              "            await google.colab.kernel.invokeFunction('convertToInteractive',\n",
              "                                                     [key], {});\n",
              "          if (!dataTable) return;\n",
              "\n",
              "          const docLinkHtml = 'Like what you see? Visit the ' +\n",
              "            '<a target=\"_blank\" href=https://colab.research.google.com/notebooks/data_table.ipynb>data table notebook</a>'\n",
              "            + ' to learn more about interactive tables.';\n",
              "          element.innerHTML = '';\n",
              "          dataTable['output_type'] = 'display_data';\n",
              "          await google.colab.output.renderOutput(dataTable, element);\n",
              "          const docLink = document.createElement('div');\n",
              "          docLink.innerHTML = docLinkHtml;\n",
              "          element.appendChild(docLink);\n",
              "        }\n",
              "      </script>\n",
              "    </div>\n",
              "  </div>\n",
              "  "
            ]
          },
          "metadata": {},
          "execution_count": 50
        }
      ]
    },
    {
      "cell_type": "markdown",
      "source": [
        "all - 0.35\n",
        "\n",
        "\n",
        "R type - 0.29\n",
        "\n",
        "F type - 0.11\n",
        "\n",
        "T bar height - 0.41\n",
        "\n",
        "T bar height with R type - 0.35\n",
        "\n",
        "Letter size - 0.29\n",
        "\n",
        "Letter size + T bar - 0.29\n",
        "\n",
        "\n",
        "tested on train, 0.42 acucracy\n"
      ],
      "metadata": {
        "id": "lVY_Ee_fqCXn"
      }
    },
    {
      "cell_type": "markdown",
      "source": [
        "#### ROC and AUC for Logisitc Regression"
      ],
      "metadata": {
        "id": "UBuOEY1oEc1q"
      }
    },
    {
      "cell_type": "code",
      "source": [
        "from itertools import cycle\n",
        "from sklearn import svm, datasets\n",
        "from sklearn.metrics import roc_curve, auc\n",
        "from sklearn.model_selection import train_test_split\n",
        "from sklearn.preprocessing import label_binarize\n",
        "from sklearn.multiclass import OneVsRestClassifier\n",
        "from sklearn.metrics import roc_auc_score\n",
        "# Learn to predict each class against the other\n",
        "lw = 3\n",
        "random_state = np.random.RandomState(0)\n",
        "n_samples, n_features = features.shape\n",
        "n_classes = len(np.unique(data1_num[\"Student performance\"]))\n",
        "\n",
        "classifier = OneVsRestClassifier(\n",
        "    LogisticRegression(penalty = \"l2\", solver = \"saga\", random_state=random_state)\n",
        ")\n",
        "y_score = classifier.fit(X_train, y_train).decision_function(X_test)\n",
        "\n",
        "y_test1 = []\n",
        "for i in (y_test):\n",
        "  if i == 0:\n",
        "    y_test1.append([1,0,0])\n",
        "  elif i == 1:\n",
        "    y_test1.append([0,1,0])\n",
        "  else:\n",
        "    y_test1.append([0,0,1])\n",
        "\n",
        "y_test1 = np.array(y_test1)\n",
        "# Compute ROC curve and ROC area for each class\n",
        "fpr = dict()\n",
        "tpr = dict()\n",
        "roc_auc = dict()\n",
        "for i in range(n_classes):\n",
        "    fpr[i], tpr[i], _ = roc_curve(y_test1[:, i], y_score[:, i])\n",
        "    roc_auc[i] = auc(fpr[i], tpr[i])\n",
        "\n",
        "# Compute micro-average ROC curve and ROC area\n",
        "fpr[\"micro\"], tpr[\"micro\"], _ = roc_curve(y_test1.ravel(), y_score.ravel())\n",
        "roc_auc[\"micro\"] = auc(fpr[\"micro\"], tpr[\"micro\"])"
      ],
      "metadata": {
        "colab": {
          "base_uri": "https://localhost:8080/"
        },
        "id": "BcN9h601Htnc",
        "outputId": "9b2bb8e6-e637-4f50-b85e-a0a2678ace14"
      },
      "execution_count": null,
      "outputs": [
        {
          "output_type": "stream",
          "name": "stderr",
          "text": [
            "/usr/local/lib/python3.7/dist-packages/sklearn/linear_model/_sag.py:354: ConvergenceWarning: The max_iter was reached which means the coef_ did not converge\n",
            "  ConvergenceWarning,\n",
            "/usr/local/lib/python3.7/dist-packages/sklearn/linear_model/_sag.py:354: ConvergenceWarning: The max_iter was reached which means the coef_ did not converge\n",
            "  ConvergenceWarning,\n",
            "/usr/local/lib/python3.7/dist-packages/sklearn/linear_model/_sag.py:354: ConvergenceWarning: The max_iter was reached which means the coef_ did not converge\n",
            "  ConvergenceWarning,\n"
          ]
        }
      ]
    },
    {
      "cell_type": "code",
      "source": [
        "# First aggregate all false positive rates\n",
        "all_fpr = np.unique(np.concatenate([fpr[i] for i in range(n_classes)]))\n",
        "\n",
        "# Then interpolate all ROC curves at this points\n",
        "mean_tpr = np.zeros_like(all_fpr)\n",
        "for i in range(n_classes):\n",
        "    mean_tpr += np.interp(all_fpr, fpr[i], tpr[i])\n",
        "\n",
        "# Finally average it and compute AUC\n",
        "mean_tpr /= n_classes\n",
        "\n",
        "fpr[\"macro\"] = all_fpr\n",
        "tpr[\"macro\"] = mean_tpr\n",
        "roc_auc[\"macro\"] = auc(fpr[\"macro\"], tpr[\"macro\"])\n",
        "\n",
        "# Plot all ROC curves\n",
        "plt.figure()\n",
        "plt.figure(figsize = (15,10))\n",
        "plt.plot(\n",
        "    fpr[\"micro\"],\n",
        "    tpr[\"micro\"],\n",
        "    label=\"micro-average ROC curve (area = {0:0.2f})\".format(roc_auc[\"micro\"]),\n",
        "    color=\"deeppink\",\n",
        "    linestyle=\":\",\n",
        "    linewidth=4,\n",
        ")\n",
        "\n",
        "plt.plot(\n",
        "    fpr[\"macro\"],\n",
        "    tpr[\"macro\"],\n",
        "    label=\"macro-average ROC curve (area = {0:0.2f})\".format(roc_auc[\"macro\"]),\n",
        "    color=\"navy\",\n",
        "    linestyle=\":\",\n",
        "    linewidth=4,\n",
        ")\n",
        "\n",
        "colors = cycle([\"aqua\", \"darkorange\", \"cornflowerblue\"])\n",
        "for i, color in zip(range(n_classes), colors):\n",
        "    plt.plot(\n",
        "        fpr[i],\n",
        "        tpr[i],\n",
        "        color=color,\n",
        "        lw=lw,\n",
        "        label=\"ROC curve of class {0} (area = {1:0.2f})\".format(i, roc_auc[i]),\n",
        "    )\n",
        "\n",
        "plt.plot([0, 1], [0, 1], \"k--\", lw=lw)\n",
        "plt.xlim([0.0, 1.0])\n",
        "plt.ylim([0.0, 1.05])\n",
        "plt.xlabel(\"False Positive Rate\")\n",
        "plt.ylabel(\"True Positive Rate\")\n",
        "plt.title(\"ROC and AUC with OVR based on best Logistic Regression model\")\n",
        "plt.legend(loc=\"lower right\")\n",
        "plt.show()"
      ],
      "metadata": {
        "colab": {
          "base_uri": "https://localhost:8080/",
          "height": 638
        },
        "id": "lTjMNObAHxwR",
        "outputId": "340ac934-04b2-435b-acfb-84346a77a45d"
      },
      "execution_count": null,
      "outputs": [
        {
          "output_type": "display_data",
          "data": {
            "text/plain": [
              "<Figure size 432x288 with 0 Axes>"
            ]
          },
          "metadata": {}
        },
        {
          "output_type": "display_data",
          "data": {
            "text/plain": [
              "<Figure size 1080x720 with 1 Axes>"
            ],
            "image/png": "[encoded data removed]"
          },
          "metadata": {
            "needs_background": "light"
          }
        }
      ]
    },
    {
      "cell_type": "markdown",
      "source": [
        "#### SVC"
      ],
      "metadata": {
        "id": "zINJwFwIsiZ9"
      }
    },
    {
      "cell_type": "code",
      "source": [
        "from sklearn.svm import SVC as SVC\n",
        "SVC_model = SVC(kernel = \"linear\")\n",
        "SVC_model.fit(X_train, y_train)"
      ],
      "metadata": {
        "colab": {
          "base_uri": "https://localhost:8080/"
        },
        "id": "9Qrlww3wrhzI",
        "outputId": "020b7ca1-23cb-4a79-a9f3-5e2359021ab8"
      },
      "execution_count": null,
      "outputs": [
        {
          "output_type": "execute_result",
          "data": {
            "text/plain": [
              "SVC(kernel='linear')"
            ]
          },
          "metadata": {},
          "execution_count": 53
        }
      ]
    },
    {
      "cell_type": "code",
      "source": [
        "SVC_model.score(X_test, y_test)"
      ],
      "metadata": {
        "colab": {
          "base_uri": "https://localhost:8080/"
        },
        "id": "Nb16xBeCsmt4",
        "outputId": "bd2bf7ec-f30c-4532-9b4a-a96d1b2356f1"
      },
      "execution_count": null,
      "outputs": [
        {
          "output_type": "execute_result",
          "data": {
            "text/plain": [
              "0.29411764705882354"
            ]
          },
          "metadata": {},
          "execution_count": 54
        }
      ]
    },
    {
      "cell_type": "code",
      "source": [
        "SVC_model.score(X_train, y_train)"
      ],
      "metadata": {
        "colab": {
          "base_uri": "https://localhost:8080/"
        },
        "id": "cIMam9vIRA7R",
        "outputId": "32b1395d-10e2-490f-ab59-6b6a1a805285"
      },
      "execution_count": null,
      "outputs": [
        {
          "output_type": "execute_result",
          "data": {
            "text/plain": [
              "0.45588235294117646"
            ]
          },
          "metadata": {},
          "execution_count": 55
        }
      ]
    },
    {
      "cell_type": "markdown",
      "source": [
        "SVC with T bar 0.41\n",
        "\n",
        "SVC with all 0.29\n",
        "\n",
        "\n",
        "Also 0.41 on R type\n",
        "\n",
        "Letter size 0.29"
      ],
      "metadata": {
        "id": "-JrwvWAOuAyn"
      }
    },
    {
      "cell_type": "markdown",
      "source": [
        "#### ROC and AUC for SVC model"
      ],
      "metadata": {
        "id": "PMc7LVt3_TLJ"
      }
    },
    {
      "cell_type": "code",
      "source": [
        "# Learn to predict each class against the other\n",
        "lw = 3\n",
        "random_state = np.random.RandomState(0)\n",
        "n_samples, n_features = features.shape\n",
        "n_classes = len(np.unique(data1_num[\"Student performance\"]))\n",
        "\n",
        "classifier = OneVsRestClassifier(\n",
        "    SVC(kernel=\"linear\", probability=True, random_state=random_state)\n",
        ")\n",
        "y_score = classifier.fit(X_train, y_train).decision_function(X_test)\n",
        "\n",
        "y_test1 = []\n",
        "for i in (y_test):\n",
        "  if i == 0:\n",
        "    y_test1.append([1,0,0])\n",
        "  elif i == 1:\n",
        "    y_test1.append([0,1,0])\n",
        "  else:\n",
        "    y_test1.append([0,0,1])\n",
        "\n",
        "y_test1 = np.array(y_test1)\n",
        "# Compute ROC curve and ROC area for each class\n",
        "fpr = dict()\n",
        "tpr = dict()\n",
        "roc_auc = dict()\n",
        "for i in range(n_classes):\n",
        "    fpr[i], tpr[i], _ = roc_curve(y_test1[:, i], y_score[:, i])\n",
        "    roc_auc[i] = auc(fpr[i], tpr[i])\n",
        "\n",
        "# Compute micro-average ROC curve and ROC area\n",
        "fpr[\"micro\"], tpr[\"micro\"], _ = roc_curve(y_test1.ravel(), y_score.ravel())\n",
        "roc_auc[\"micro\"] = auc(fpr[\"micro\"], tpr[\"micro\"])"
      ],
      "metadata": {
        "id": "kqtC5SIS4fNI"
      },
      "execution_count": null,
      "outputs": []
    },
    {
      "cell_type": "code",
      "source": [
        "# First aggregate all false positive rates\n",
        "all_fpr = np.unique(np.concatenate([fpr[i] for i in range(n_classes)]))\n",
        "\n",
        "# Then interpolate all ROC curves at this points\n",
        "mean_tpr = np.zeros_like(all_fpr)\n",
        "for i in range(n_classes):\n",
        "    mean_tpr += np.interp(all_fpr, fpr[i], tpr[i])\n",
        "\n",
        "# Finally average it and compute AUC\n",
        "mean_tpr /= n_classes\n",
        "\n",
        "fpr[\"macro\"] = all_fpr\n",
        "tpr[\"macro\"] = mean_tpr\n",
        "roc_auc[\"macro\"] = auc(fpr[\"macro\"], tpr[\"macro\"])\n",
        "\n",
        "# Plot all ROC curves\n",
        "plt.figure()\n",
        "plt.figure(figsize = (15,10))\n",
        "plt.plot(\n",
        "    fpr[\"micro\"],\n",
        "    tpr[\"micro\"],\n",
        "    label=\"micro-average ROC curve (area = {0:0.2f})\".format(roc_auc[\"micro\"]),\n",
        "    color=\"deeppink\",\n",
        "    linestyle=\":\",\n",
        "    linewidth=4,\n",
        ")\n",
        "\n",
        "plt.plot(\n",
        "    fpr[\"macro\"],\n",
        "    tpr[\"macro\"],\n",
        "    label=\"macro-average ROC curve (area = {0:0.2f})\".format(roc_auc[\"macro\"]),\n",
        "    color=\"navy\",\n",
        "    linestyle=\":\",\n",
        "    linewidth=4,\n",
        ")\n",
        "\n",
        "colors = cycle([\"aqua\", \"darkorange\", \"cornflowerblue\"])\n",
        "for i, color in zip(range(n_classes), colors):\n",
        "    plt.plot(\n",
        "        fpr[i],\n",
        "        tpr[i],\n",
        "        color=color,\n",
        "        lw=lw,\n",
        "        label=\"ROC curve of class {0} (area = {1:0.2f})\".format(i, roc_auc[i]),\n",
        "    )\n",
        "\n",
        "plt.plot([0, 1], [0, 1], \"k--\", lw=lw)\n",
        "plt.xlim([0.0, 1.0])\n",
        "plt.ylim([0.0, 1.05])\n",
        "plt.xlabel(\"False Positive Rate\")\n",
        "plt.ylabel(\"True Positive Rate\")\n",
        "plt.title(\"ROC and AUC with OVR based on Support Vector Classifier model\")\n",
        "plt.legend(loc=\"lower right\")\n",
        "plt.show()"
      ],
      "metadata": {
        "colab": {
          "base_uri": "https://localhost:8080/",
          "height": 638
        },
        "id": "BBybwY0N69pa",
        "outputId": "bb454592-1b76-4f58-96b7-da0909960c81"
      },
      "execution_count": null,
      "outputs": [
        {
          "output_type": "display_data",
          "data": {
            "text/plain": [
              "<Figure size 432x288 with 0 Axes>"
            ]
          },
          "metadata": {}
        },
        {
          "output_type": "display_data",
          "data": {
            "text/plain": [
              "<Figure size 1080x720 with 1 Axes>"
            ],
            "image/png": "[encoded data removed]"
          },
          "metadata": {
            "needs_background": "light"
          }
        }
      ]
    },
    {
      "cell_type": "markdown",
      "source": [
        "All features AUC - 0.83\n",
        "\n",
        "\n",
        "\n",
        "T_bar height only - 0.5"
      ],
      "metadata": {
        "id": "iDVx6D8HECr8"
      }
    },
    {
      "cell_type": "markdown",
      "source": [
        "#### Regularization with Ridge and Lasso"
      ],
      "metadata": {
        "id": "h2nXkEF5maTU"
      }
    },
    {
      "cell_type": "code",
      "source": [
        "# RIdge Regularization  (l2)\n",
        "ridge = Ridge(alpha=.04)\n",
        "ridge.fit(X_train,y_train)\n",
        "p = ridge.predict(X_train)\n",
        "p1 = ridge.predict(X_test)\n",
        "print (\"Ridge model:\", (ridge.coef_))\n",
        "print(\"Ridge Regression Model Training Score: \",ridge.score(X_train, y_train))\n",
        "print(\"Ridge Regression Model Testing Score: \",ridge.score(X_test, y_test))\n"
      ],
      "metadata": {
        "colab": {
          "base_uri": "https://localhost:8080/"
        },
        "id": "q2BZExNDmIgn",
        "outputId": "d36ad9c4-a132-419a-d90c-6b3e77100d8c"
      },
      "execution_count": null,
      "outputs": [
        {
          "output_type": "stream",
          "name": "stdout",
          "text": [
            "Ridge model: [-0.08532349 -0.01363351 -0.03725157 -0.10817772]\n",
            "Ridge Regression Model Training Score:  0.03989509355938847\n",
            "Ridge Regression Model Testing Score:  -0.1074107529656354\n"
          ]
        }
      ]
    },
    {
      "cell_type": "code",
      "source": [
        "#Lasso Regularization (l1)\n",
        "lasso = Lasso(alpha=0.01)\n",
        "lasso.fit(X_train,y_train)\n",
        "print (\"Lasso model:\", (lasso.coef_))\n",
        "print(\"Lasso Regression Model Training Score: \",lasso.score(X_train, y_train))\n",
        "print(\"Lasso Regression Model Testing Score: \",lasso.score(X_test, y_test))"
      ],
      "metadata": {
        "colab": {
          "base_uri": "https://localhost:8080/"
        },
        "id": "9hRXgaA0mUnB",
        "outputId": "0339f067-dfef-4593-cd24-ce178a0ea8f3"
      },
      "execution_count": null,
      "outputs": [
        {
          "output_type": "stream",
          "name": "stdout",
          "text": [
            "Lasso model: [-0.07482212 -0.         -0.03619175 -0.09278225]\n",
            "Lasso Regression Model Training Score:  0.03935678233191886\n",
            "Lasso Regression Model Testing Score:  -0.09335022715444374\n"
          ]
        }
      ]
    },
    {
      "cell_type": "markdown",
      "source": [
        "MLP on T_bar Height provided 0.47 accuracy\n",
        "\n",
        "\n",
        "\n",
        "With all the features together MLP landed 0.47 with more models also for r type"
      ],
      "metadata": {
        "id": "dr-Z0Gl0tDQU"
      }
    },
    {
      "cell_type": "markdown",
      "source": [
        "#### MLP"
      ],
      "metadata": {
        "id": "SKB3BGeQrIAJ"
      }
    },
    {
      "cell_type": "code",
      "source": [
        "hidden_layer_sizes = [2,(2,3),3,(3,4),5,(6,5),7,(8,2),9,(10,2),15,(20,2)]\n",
        "max_iter = [10, 15, 50]\n",
        "activation = [\"relu\", \"tanh\"]\n",
        "solver = [\"sgd\", \"adam\"]\n",
        "\n",
        "MLP_results = []\n",
        "\n",
        "for layer in hidden_layer_sizes:\n",
        "  for iter in max_iter:\n",
        "    for act in activation:\n",
        "      for s in solver:\n",
        "          classifier = MLPClassifier(hidden_layer_sizes = layer,\n",
        "                        max_iter = iter,\n",
        "                        activation = act,\n",
        "                        solver = s,\n",
        "                        verbose = False,\n",
        "                        early_stopping = False,\n",
        "                        random_state = np.random.RandomState(13))\n",
        "          classifier.fit(X_train, y_train)\n",
        "          predicitons = classifier.predict(X_test)\n",
        "          tsscore = np.round(metrics.accuracy_score(y_test, predicitons),4)\n",
        "          predicitons1 = classifier.predict(X_train)\n",
        "          trscore = np.round(metrics.accuracy_score(y_train, predicitons1),4)\n",
        "          f1 = metrics.f1_score(y_test, predicitons,average='weighted')\n",
        "          loss = classifier.loss_\n",
        "\n",
        "          MLP_results.append([layer, iter, act, s, tsscore, trscore, f1, loss])\n",
        "        "
      ],
      "metadata": {
        "id": "vJY_n_GtpjH0"
      },
      "execution_count": null,
      "outputs": []
    },
    {
      "cell_type": "code",
      "source": [
        "MLP_results_df = pd.DataFrame(MLP_results)\n",
        "MLP_results_df.columns =['Hidden Layer Sizes', 'Max Iter.', 'Activation', 'Solver', \"TS Accuracy\", \"TR Accuracy\",\"F1\", \"Loss\"]\n",
        "MLP_results_df.sort_values(by = [\"TS Accuracy\",\"TR Accuracy\", \"F1\"], inplace = True, ascending = False)\n",
        "MLP_results_df"
      ],
      "metadata": {
        "id": "_jW5xacJrYsw"
      },
      "execution_count": null,
      "outputs": []
    },
    {
      "cell_type": "code",
      "source": [
        "MLP_results_df[MLP_results_df[\"TS Accuracy\"] == 0.6471]"
      ],
      "metadata": {
        "colab": {
          "base_uri": "https://localhost:8080/",
          "height": 112
        },
        "id": "MoDj48svrxRJ",
        "outputId": "a1e5674f-3749-4316-b709-078d831942a2"
      },
      "execution_count": null,
      "outputs": [
        {
          "output_type": "execute_result",
          "data": {
            "text/plain": [
              "   Hidden Layer Sizes  Max Iter. Activation Solver  TS Accuracy  TR Accuracy  \\\n",
              "4                   2         15       relu    sgd       0.6471       0.3529   \n",
              "56                  5         50       relu    sgd       0.6471       0.3088   \n",
              "\n",
              "          F1      Loss  \n",
              "4   0.563914  1.220389  \n",
              "56  0.535755  1.276395  "
            ],
            "text/html": [
              "\n",
              "  <div id=\"df-28267d16-2f76-495d-8ad2-c50164d653dd\">\n",
              "    <div class=\"colab-df-container\">\n",
              "      <div>\n",
              "<style scoped>\n",
              "    .dataframe tbody tr th:only-of-type {\n",
              "        vertical-align: middle;\n",
              "    }\n",
              "\n",
              "    .dataframe tbody tr th {\n",
              "        vertical-align: top;\n",
              "    }\n",
              "\n",
              "    .dataframe thead th {\n",
              "        text-align: right;\n",
              "    }\n",
              "</style>\n",
              "<table border=\"1\" class=\"dataframe\">\n",
              "  <thead>\n",
              "    <tr style=\"text-align: right;\">\n",
              "      <th></th>\n",
              "      <th>Hidden Layer Sizes</th>\n",
              "      <th>Max Iter.</th>\n",
              "      <th>Activation</th>\n",
              "      <th>Solver</th>\n",
              "      <th>TS Accuracy</th>\n",
              "      <th>TR Accuracy</th>\n",
              "      <th>F1</th>\n",
              "      <th>Loss</th>\n",
              "    </tr>\n",
              "  </thead>\n",
              "  <tbody>\n",
              "    <tr>\n",
              "      <th>4</th>\n",
              "      <td>2</td>\n",
              "      <td>15</td>\n",
              "      <td>relu</td>\n",
              "      <td>sgd</td>\n",
              "      <td>0.6471</td>\n",
              "      <td>0.3529</td>\n",
              "      <td>0.563914</td>\n",
              "      <td>1.220389</td>\n",
              "    </tr>\n",
              "    <tr>\n",
              "      <th>56</th>\n",
              "      <td>5</td>\n",
              "      <td>50</td>\n",
              "      <td>relu</td>\n",
              "      <td>sgd</td>\n",
              "      <td>0.6471</td>\n",
              "      <td>0.3088</td>\n",
              "      <td>0.535755</td>\n",
              "      <td>1.276395</td>\n",
              "    </tr>\n",
              "  </tbody>\n",
              "</table>\n",
              "</div>\n",
              "      <button class=\"colab-df-convert\" onclick=\"convertToInteractive('df-28267d16-2f76-495d-8ad2-c50164d653dd')\"\n",
              "              title=\"Convert this dataframe to an interactive table.\"\n",
              "              style=\"display:none;\">\n",
              "        \n",
              "  <svg xmlns=\"http://www.w3.org/2000/svg\" height=\"24px\"viewBox=\"0 0 24 24\"\n",
              "       width=\"24px\">\n",
              "    <path d=\"M0 0h24v24H0V0z\" fill=\"none\"/>\n",
              "    <path d=\"M18.56 5.44l.94 2.06.94-2.06 2.06-.94-2.06-.94-.94-2.06-.94 2.06-2.06.94zm-11 1L8.5 8.5l.94-2.06 2.06-.94-2.06-.94L8.5 2.5l-.94 2.06-2.06.94zm10 10l.94 2.06.94-2.06 2.06-.94-2.06-.94-.94-2.06-.94 2.06-2.06.94z\"/><path d=\"M17.41 7.96l-1.37-1.37c-.4-.4-.92-.59-1.43-.59-.52 0-1.04.2-1.43.59L10.3 9.45l-7.72 7.72c-.78.78-.78 2.05 0 2.83L4 21.41c.39.39.9.59 1.41.59.51 0 1.02-.2 1.41-.59l7.78-7.78 2.81-2.81c.8-.78.8-2.07 0-2.86zM5.41 20L4 18.59l7.72-7.72 1.47 1.35L5.41 20z\"/>\n",
              "  </svg>\n",
              "      </button>\n",
              "      \n",
              "  <style>\n",
              "    .colab-df-container {\n",
              "      display:flex;\n",
              "      flex-wrap:wrap;\n",
              "      gap: 12px;\n",
              "    }\n",
              "\n",
              "    .colab-df-convert {\n",
              "      background-color: #E8F0FE;\n",
              "      border: none;\n",
              "      border-radius: 50%;\n",
              "      cursor: pointer;\n",
              "      display: none;\n",
              "      fill: #1967D2;\n",
              "      height: 32px;\n",
              "      padding: 0 0 0 0;\n",
              "      width: 32px;\n",
              "    }\n",
              "\n",
              "    .colab-df-convert:hover {\n",
              "      background-color: #E2EBFA;\n",
              "      box-shadow: 0px 1px 2px rgba(60, 64, 67, 0.3), 0px 1px 3px 1px rgba(60, 64, 67, 0.15);\n",
              "      fill: #174EA6;\n",
              "    }\n",
              "\n",
              "    [theme=dark] .colab-df-convert {\n",
              "      background-color: #3B4455;\n",
              "      fill: #D2E3FC;\n",
              "    }\n",
              "\n",
              "    [theme=dark] .colab-df-convert:hover {\n",
              "      background-color: #434B5C;\n",
              "      box-shadow: 0px 1px 3px 1px rgba(0, 0, 0, 0.15);\n",
              "      filter: drop-shadow(0px 1px 2px rgba(0, 0, 0, 0.3));\n",
              "      fill: #FFFFFF;\n",
              "    }\n",
              "  </style>\n",
              "\n",
              "      <script>\n",
              "        const buttonEl =\n",
              "          document.querySelector('#df-28267d16-2f76-495d-8ad2-c50164d653dd button.colab-df-convert');\n",
              "        buttonEl.style.display =\n",
              "          google.colab.kernel.accessAllowed ? 'block' : 'none';\n",
              "\n",
              "        async function convertToInteractive(key) {\n",
              "          const element = document.querySelector('#df-28267d16-2f76-495d-8ad2-c50164d653dd');\n",
              "          const dataTable =\n",
              "            await google.colab.kernel.invokeFunction('convertToInteractive',\n",
              "                                                     [key], {});\n",
              "          if (!dataTable) return;\n",
              "\n",
              "          const docLinkHtml = 'Like what you see? Visit the ' +\n",
              "            '<a target=\"_blank\" href=https://colab.research.google.com/notebooks/data_table.ipynb>data table notebook</a>'\n",
              "            + ' to learn more about interactive tables.';\n",
              "          element.innerHTML = '';\n",
              "          dataTable['output_type'] = 'display_data';\n",
              "          await google.colab.output.renderOutput(dataTable, element);\n",
              "          const docLink = document.createElement('div');\n",
              "          docLink.innerHTML = docLinkHtml;\n",
              "          element.appendChild(docLink);\n",
              "        }\n",
              "      </script>\n",
              "    </div>\n",
              "  </div>\n",
              "  "
            ]
          },
          "metadata": {},
          "execution_count": 510
        }
      ]
    },
    {
      "cell_type": "markdown",
      "source": [
        "No overfitting here"
      ],
      "metadata": {
        "id": "dRO9O-0CMZ_2"
      }
    },
    {
      "cell_type": "markdown",
      "source": [
        "#### MLP with batches"
      ],
      "metadata": {
        "id": "pQ9CyATfMqvR"
      }
    },
    {
      "cell_type": "code",
      "source": [
        "def MLPperceptron1(train_x, train_y, test_X, test_y, num_neurons = 100):\n",
        "  classifier = MLPClassifier(hidden_layer_sizes = 2, max_iter = 15, activation = \"relu\", solver = \"sgd\", verbose = False, early_stopping = False)\n",
        "  a1 = classifier.fit(train_x, train_y)\n",
        "  a2 = classifier.fit(test_X, test_y)\n",
        "\n",
        "  predicitons = classifier.predict(test_X)\n",
        "  score = np.round(metrics.accuracy_score(test_y, predicitons),2)\n",
        "  train_loss = a1.loss_\n",
        "  test_loss = a2.loss_\n",
        "  return train_loss, test_loss\n"
      ],
      "metadata": {
        "id": "Kr58Esi06vAC"
      },
      "execution_count": null,
      "outputs": []
    },
    {
      "cell_type": "code",
      "source": [
        "def train1(X_train, y_train, X_test, y_test, model, batch_size=20, num_epoch=20):\n",
        "    \n",
        "    num_samples, num_features = X_train.shape\n",
        "    num_batches = int(num_samples / batch_size)\n",
        "    order = np.arange(num_samples)\n",
        "    losslist = []\n",
        "    i=0\n",
        "    while i < num_epoch:\n",
        "        np.random.shuffle(order)\n",
        "        trainX = np.array_split(X_train, num_batches)\n",
        "        trainY = np.array_split(y_train, num_batches)\n",
        "        testX = np.array_split(X_test, num_batches)\n",
        "        testY = np.array_split(y_test, num_batches)\n",
        "        i = i+1\n",
        "        loss = 0\n",
        "        for j in range(num_batches):\n",
        "          train_loss, test_loss = model(trainX[j],trainY[j], testX[j], testY[j])[0], model(trainX[j],trainY[j], testX[j], testY[j])[1]\n",
        "          loss =  train_loss +test_loss\n",
        "\n",
        "        losslist.append(loss)\n",
        "    return range(num_epoch), losslist\n",
        "\n",
        " "
      ],
      "metadata": {
        "id": "xbKSz46vMyxm"
      },
      "execution_count": null,
      "outputs": []
    },
    {
      "cell_type": "code",
      "source": [
        "X1_p, Y1_p = train1(X_train, y_train, X_test, y_test, MLPperceptron1)"
      ],
      "metadata": {
        "id": "YszlAIcKM8WW"
      },
      "execution_count": null,
      "outputs": []
    },
    {
      "cell_type": "code",
      "source": [
        "plt.plot(X1_p, Y1_p)\n",
        "plt.xlabel(\"Epoch\")\n",
        "plt.ylabel(\"Loss\")\n",
        "plt.xticks([i for i in range(1,21)])\n",
        "plt.show()"
      ],
      "metadata": {
        "colab": {
          "base_uri": "https://localhost:8080/",
          "height": 279
        },
        "id": "CaJO6RsOM9_E",
        "outputId": "0fa2a64f-becf-44f7-e226-7f0f9d8cef67"
      },
      "execution_count": null,
      "outputs": [
        {
          "output_type": "display_data",
          "data": {
            "text/plain": [
              "<Figure size 432x288 with 1 Axes>"
            ],
            "image/png": "[encoded data removed]"
          },
          "metadata": {
            "needs_background": "light"
          }
        }
      ]
    },
    {
      "cell_type": "markdown",
      "source": [
        "### Designing Models to Predict Student Performance (Training on high and low classes, prediction on middle class, tested by professor)"
      ],
      "metadata": {
        "id": "iy-B5OOHwgPV"
      }
    },
    {
      "cell_type": "code",
      "source": [
        "data_n = data1.copy()\n",
        "\n",
        "\n",
        "#making categorical data columns numerical\n",
        "data_n[\"T bar height\"] = LabelEncoder().fit_transform(data_n[\"T bar height\"])\n",
        "data_n[\"T circle\"] = LabelEncoder().fit_transform(data_n[\"T circle\"])\n",
        "data_n[\"R type\"] = LabelEncoder().fit_transform(data_n[\"R type\"])\n",
        "data_n[\"F type\"] = LabelEncoder().fit_transform(data_n[\"F type\"])\n",
        "data_n[\"Letter Size\"] = LabelEncoder().fit_transform(data_n[\"Letter Size\"])\n",
        "data_n[\"Student performance\"] = LabelEncoder().fit_transform(data_n[\"Student performance\"])\n",
        "\n",
        "\n",
        "# bringing all columns to the same datatype\n",
        "for i in data_n:\n",
        " # if type(data_num[i][0]) == str:\n",
        "#    data_num.drop(i, axis='columns', inplace = True)\n",
        "  if type(data_n[i][0]) == np.float or type(data_n[i][0]) == np.int:\n",
        "    data_n[i] = data_n[i].astype(\"int64\")\n",
        "  else:\n",
        "    continue\n"
      ],
      "metadata": {
        "colab": {
          "base_uri": "https://localhost:8080/"
        },
        "id": "Y-OWbeC50e7n",
        "outputId": "0500d7b2-bc62-4837-db63-c9afa2d9769d"
      },
      "execution_count": null,
      "outputs": [
        {
          "output_type": "stream",
          "name": "stderr",
          "text": [
            "/usr/local/lib/python3.7/dist-packages/ipykernel_launcher.py:17: DeprecationWarning: `np.float` is a deprecated alias for the builtin `float`. To silence this warning, use `float` by itself. Doing this will not modify any behavior and is safe. If you specifically wanted the numpy scalar type, use `np.float64` here.\n",
            "Deprecated in NumPy 1.20; for more details and guidance: https://numpy.org/devdocs/release/1.20.0-notes.html#deprecations\n",
            "/usr/local/lib/python3.7/dist-packages/ipykernel_launcher.py:17: DeprecationWarning: `np.int` is a deprecated alias for the builtin `int`. To silence this warning, use `int` by itself. Doing this will not modify any behavior and is safe. When replacing `np.int`, you may wish to use e.g. `np.int64` or `np.int32` to specify the precision. If you wish to review your current use, check the release note link for additional information.\n",
            "Deprecated in NumPy 1.20; for more details and guidance: https://numpy.org/devdocs/release/1.20.0-notes.html#deprecations\n"
          ]
        }
      ]
    },
    {
      "cell_type": "code",
      "source": [
        "data_n.sort_values(by = \"ID\", inplace = True)\n",
        "data_n.head()"
      ],
      "metadata": {
        "colab": {
          "base_uri": "https://localhost:8080/",
          "height": 206
        },
        "id": "CxYKTfMO0q3N",
        "outputId": "43b4fb0c-7219-4a8c-b1b0-57d8bfcc99e3"
      },
      "execution_count": null,
      "outputs": [
        {
          "output_type": "execute_result",
          "data": {
            "text/plain": [
              "                 ID  T bar height  T circle  R type  F type  Letter Size  \\\n",
              "38  OOPMT170317H001             0         0       1       3            0   \n",
              "39  OOPMT170317H002             0         0       2       8            1   \n",
              "40  OOPMT170317H003             1         1       1       3            2   \n",
              "41  OOPMT170317H004             0         0       1       3            0   \n",
              "42  OOPMT170317H005             1         0       1       4            2   \n",
              "\n",
              "    Student performance  \n",
              "38                    0  \n",
              "39                    0  \n",
              "40                    0  \n",
              "41                    0  \n",
              "42                    0  "
            ],
            "text/html": [
              "\n",
              "  <div id=\"df-bee855ba-390a-462b-a3e4-8274f3a9a68b\">\n",
              "    <div class=\"colab-df-container\">\n",
              "      <div>\n",
              "<style scoped>\n",
              "    .dataframe tbody tr th:only-of-type {\n",
              "        vertical-align: middle;\n",
              "    }\n",
              "\n",
              "    .dataframe tbody tr th {\n",
              "        vertical-align: top;\n",
              "    }\n",
              "\n",
              "    .dataframe thead th {\n",
              "        text-align: right;\n",
              "    }\n",
              "</style>\n",
              "<table border=\"1\" class=\"dataframe\">\n",
              "  <thead>\n",
              "    <tr style=\"text-align: right;\">\n",
              "      <th></th>\n",
              "      <th>ID</th>\n",
              "      <th>T bar height</th>\n",
              "      <th>T circle</th>\n",
              "      <th>R type</th>\n",
              "      <th>F type</th>\n",
              "      <th>Letter Size</th>\n",
              "      <th>Student performance</th>\n",
              "    </tr>\n",
              "  </thead>\n",
              "  <tbody>\n",
              "    <tr>\n",
              "      <th>38</th>\n",
              "      <td>OOPMT170317H001</td>\n",
              "      <td>0</td>\n",
              "      <td>0</td>\n",
              "      <td>1</td>\n",
              "      <td>3</td>\n",
              "      <td>0</td>\n",
              "      <td>0</td>\n",
              "    </tr>\n",
              "    <tr>\n",
              "      <th>39</th>\n",
              "      <td>OOPMT170317H002</td>\n",
              "      <td>0</td>\n",
              "      <td>0</td>\n",
              "      <td>2</td>\n",
              "      <td>8</td>\n",
              "      <td>1</td>\n",
              "      <td>0</td>\n",
              "    </tr>\n",
              "    <tr>\n",
              "      <th>40</th>\n",
              "      <td>OOPMT170317H003</td>\n",
              "      <td>1</td>\n",
              "      <td>1</td>\n",
              "      <td>1</td>\n",
              "      <td>3</td>\n",
              "      <td>2</td>\n",
              "      <td>0</td>\n",
              "    </tr>\n",
              "    <tr>\n",
              "      <th>41</th>\n",
              "      <td>OOPMT170317H004</td>\n",
              "      <td>0</td>\n",
              "      <td>0</td>\n",
              "      <td>1</td>\n",
              "      <td>3</td>\n",
              "      <td>0</td>\n",
              "      <td>0</td>\n",
              "    </tr>\n",
              "    <tr>\n",
              "      <th>42</th>\n",
              "      <td>OOPMT170317H005</td>\n",
              "      <td>1</td>\n",
              "      <td>0</td>\n",
              "      <td>1</td>\n",
              "      <td>4</td>\n",
              "      <td>2</td>\n",
              "      <td>0</td>\n",
              "    </tr>\n",
              "  </tbody>\n",
              "</table>\n",
              "</div>\n",
              "      <button class=\"colab-df-convert\" onclick=\"convertToInteractive('df-bee855ba-390a-462b-a3e4-8274f3a9a68b')\"\n",
              "              title=\"Convert this dataframe to an interactive table.\"\n",
              "              style=\"display:none;\">\n",
              "        \n",
              "  <svg xmlns=\"http://www.w3.org/2000/svg\" height=\"24px\"viewBox=\"0 0 24 24\"\n",
              "       width=\"24px\">\n",
              "    <path d=\"M0 0h24v24H0V0z\" fill=\"none\"/>\n",
              "    <path d=\"M18.56 5.44l.94 2.06.94-2.06 2.06-.94-2.06-.94-.94-2.06-.94 2.06-2.06.94zm-11 1L8.5 8.5l.94-2.06 2.06-.94-2.06-.94L8.5 2.5l-.94 2.06-2.06.94zm10 10l.94 2.06.94-2.06 2.06-.94-2.06-.94-.94-2.06-.94 2.06-2.06.94z\"/><path d=\"M17.41 7.96l-1.37-1.37c-.4-.4-.92-.59-1.43-.59-.52 0-1.04.2-1.43.59L10.3 9.45l-7.72 7.72c-.78.78-.78 2.05 0 2.83L4 21.41c.39.39.9.59 1.41.59.51 0 1.02-.2 1.41-.59l7.78-7.78 2.81-2.81c.8-.78.8-2.07 0-2.86zM5.41 20L4 18.59l7.72-7.72 1.47 1.35L5.41 20z\"/>\n",
              "  </svg>\n",
              "      </button>\n",
              "      \n",
              "  <style>\n",
              "    .colab-df-container {\n",
              "      display:flex;\n",
              "      flex-wrap:wrap;\n",
              "      gap: 12px;\n",
              "    }\n",
              "\n",
              "    .colab-df-convert {\n",
              "      background-color: #E8F0FE;\n",
              "      border: none;\n",
              "      border-radius: 50%;\n",
              "      cursor: pointer;\n",
              "      display: none;\n",
              "      fill: #1967D2;\n",
              "      height: 32px;\n",
              "      padding: 0 0 0 0;\n",
              "      width: 32px;\n",
              "    }\n",
              "\n",
              "    .colab-df-convert:hover {\n",
              "      background-color: #E2EBFA;\n",
              "      box-shadow: 0px 1px 2px rgba(60, 64, 67, 0.3), 0px 1px 3px 1px rgba(60, 64, 67, 0.15);\n",
              "      fill: #174EA6;\n",
              "    }\n",
              "\n",
              "    [theme=dark] .colab-df-convert {\n",
              "      background-color: #3B4455;\n",
              "      fill: #D2E3FC;\n",
              "    }\n",
              "\n",
              "    [theme=dark] .colab-df-convert:hover {\n",
              "      background-color: #434B5C;\n",
              "      box-shadow: 0px 1px 3px 1px rgba(0, 0, 0, 0.15);\n",
              "      filter: drop-shadow(0px 1px 2px rgba(0, 0, 0, 0.3));\n",
              "      fill: #FFFFFF;\n",
              "    }\n",
              "  </style>\n",
              "\n",
              "      <script>\n",
              "        const buttonEl =\n",
              "          document.querySelector('#df-bee855ba-390a-462b-a3e4-8274f3a9a68b button.colab-df-convert');\n",
              "        buttonEl.style.display =\n",
              "          google.colab.kernel.accessAllowed ? 'block' : 'none';\n",
              "\n",
              "        async function convertToInteractive(key) {\n",
              "          const element = document.querySelector('#df-bee855ba-390a-462b-a3e4-8274f3a9a68b');\n",
              "          const dataTable =\n",
              "            await google.colab.kernel.invokeFunction('convertToInteractive',\n",
              "                                                     [key], {});\n",
              "          if (!dataTable) return;\n",
              "\n",
              "          const docLinkHtml = 'Like what you see? Visit the ' +\n",
              "            '<a target=\"_blank\" href=https://colab.research.google.com/notebooks/data_table.ipynb>data table notebook</a>'\n",
              "            + ' to learn more about interactive tables.';\n",
              "          element.innerHTML = '';\n",
              "          dataTable['output_type'] = 'display_data';\n",
              "          await google.colab.output.renderOutput(dataTable, element);\n",
              "          const docLink = document.createElement('div');\n",
              "          docLink.innerHTML = docLinkHtml;\n",
              "          element.appendChild(docLink);\n",
              "        }\n",
              "      </script>\n",
              "    </div>\n",
              "  </div>\n",
              "  "
            ]
          },
          "metadata": {},
          "execution_count": 365
        }
      ]
    },
    {
      "cell_type": "code",
      "source": [
        "# training\n",
        "X_train = data_n[data_n[\"Student performance\"] != 2]\n",
        "X_train.drop([\"Student performance\", \"T circle\", \"ID\"], axis = 1, inplace = True)\n",
        "\n",
        "y_train = data_n[data_n[\"Student performance\"] != 2]\n",
        "y_train = y_train[\"Student performance\"]\n",
        "\n",
        "X_test = data_n[data_n[\"Student performance\"] == 2]\n",
        "X_test.drop([\"Student performance\", \"T circle\"], axis = 1, inplace = True)\n",
        "\n",
        "y_test = data_n[data_n[\"Student performance\"] == 2]\n",
        "y_test = y_test[\"Student performance\"]"
      ],
      "metadata": {
        "colab": {
          "base_uri": "https://localhost:8080/"
        },
        "id": "5s2z6k89wcbW",
        "outputId": "7f82d479-996a-4f7d-e4f4-eadbbf8e9c0e"
      },
      "execution_count": null,
      "outputs": [
        {
          "output_type": "stream",
          "name": "stderr",
          "text": [
            "/usr/local/lib/python3.7/dist-packages/pandas/core/frame.py:4913: SettingWithCopyWarning: \n",
            "A value is trying to be set on a copy of a slice from a DataFrame\n",
            "\n",
            "See the caveats in the documentation: https://pandas.pydata.org/pandas-docs/stable/user_guide/indexing.html#returning-a-view-versus-a-copy\n",
            "  errors=errors,\n"
          ]
        }
      ]
    },
    {
      "cell_type": "code",
      "source": [
        "Prof_pred = pd.DataFrame()\n",
        "Prof_pred[\"Student ID\"] = X_test[\"ID\"]\n",
        "#Prof_pred[\"Predicted performance\"] = []\n",
        "#Prof_pred[\"Professor estimate\"] = []\n",
        "Prof_pred[\"Student ID\"]\n"
      ],
      "metadata": {
        "colab": {
          "base_uri": "https://localhost:8080/"
        },
        "id": "hnc9lHRt1x7Z",
        "outputId": "690f68aa-307d-4a91-f119-22019daf17e1"
      },
      "execution_count": null,
      "outputs": [
        {
          "output_type": "execute_result",
          "data": {
            "text/plain": [
              "22    OOPMT170317M015\n",
              "21    OOPMT170317M016\n",
              "20    OOPMT170317M017\n",
              "19    OOPMT170317M018\n",
              "18    OOPMT170317M019\n",
              "17    OOPMT170317M020\n",
              "16    OOPMT170317M021\n",
              "15    OOPMT170317M022\n",
              "14    OOPMT170317M023\n",
              "13    OOPMT170317M024\n",
              "12    OOPMT170317M025\n",
              "11    OOPMT170317M026\n",
              "10    OOPMT170317M027\n",
              "0     OOPMT170317M062\n",
              "1     OOPMT170317M063\n",
              "2     OOPMT170317M064\n",
              "3     OOPMT170317M065\n",
              "4     OOPMT170317M066\n",
              "5     OOPMT170317M067\n",
              "6     OOPMT170317M068\n",
              "7     OOPMT170317M069\n",
              "8     OOPMT170317M070\n",
              "9     OOPMT170317M071\n",
              "Name: Student ID, dtype: object"
            ]
          },
          "metadata": {},
          "execution_count": 525
        }
      ]
    },
    {
      "cell_type": "code",
      "source": [
        "X_test.drop(\"ID\", axis = 1, inplace = True)"
      ],
      "metadata": {
        "colab": {
          "base_uri": "https://localhost:8080/"
        },
        "id": "io1hexqX456C",
        "outputId": "b988f396-a82c-40fe-e915-119014187fd4"
      },
      "execution_count": null,
      "outputs": [
        {
          "output_type": "stream",
          "name": "stderr",
          "text": [
            "/usr/local/lib/python3.7/dist-packages/pandas/core/frame.py:4913: SettingWithCopyWarning: \n",
            "A value is trying to be set on a copy of a slice from a DataFrame\n",
            "\n",
            "See the caveats in the documentation: https://pandas.pydata.org/pandas-docs/stable/user_guide/indexing.html#returning-a-view-versus-a-copy\n",
            "  errors=errors,\n"
          ]
        }
      ]
    },
    {
      "cell_type": "code",
      "source": [
        "# train the best MLP model to get the predictions\n",
        "best_model = MLPClassifier(hidden_layer_sizes = 2,\tmax_iter = 15, activation =\t\"relu\", solver =\t\"sgd\", verbose = False, early_stopping = False, random_state = np.random.RandomState(13))\n",
        "best_model.fit(X_train, y_train)\n",
        "pred = best_model.predict(X_test)\n",
        "pred"
      ],
      "metadata": {
        "id": "IVEppn-ny4QU",
        "colab": {
          "base_uri": "https://localhost:8080/"
        },
        "outputId": "477bdb65-50cf-4000-a65d-36d1f6b7c3c9"
      },
      "execution_count": null,
      "outputs": [
        {
          "output_type": "stream",
          "name": "stderr",
          "text": [
            "/usr/local/lib/python3.7/dist-packages/sklearn/neural_network/_multilayer_perceptron.py:696: ConvergenceWarning: Stochastic Optimizer: Maximum iterations (15) reached and the optimization hasn't converged yet.\n",
            "  ConvergenceWarning,\n"
          ]
        },
        {
          "output_type": "execute_result",
          "data": {
            "text/plain": [
              "array([0, 0, 0, 0, 0, 0, 0, 0, 0, 0, 0, 0, 0, 0, 0, 0, 0, 0, 0, 0, 0, 0,\n",
              "       0])"
            ]
          },
          "metadata": {},
          "execution_count": 527
        }
      ]
    },
    {
      "cell_type": "code",
      "source": [
        "best_model.predict(X_train)"
      ],
      "metadata": {
        "colab": {
          "base_uri": "https://localhost:8080/"
        },
        "id": "EIIx7mbt5_r7",
        "outputId": "d4773781-4665-4d69-90ee-de9e1ca4b0aa"
      },
      "execution_count": null,
      "outputs": [
        {
          "output_type": "execute_result",
          "data": {
            "text/plain": [
              "array([0, 0, 0, 0, 0, 0, 0, 0, 0, 0, 0, 0, 0, 0, 0, 0, 0, 0, 0, 0, 0, 0,\n",
              "       0, 0, 0, 0, 0, 0, 0, 0, 0, 0, 0, 0, 0, 0, 0, 0, 0, 0, 0, 0, 0, 0,\n",
              "       0, 0, 0, 0, 0, 0, 0, 0, 0, 0, 0, 0, 0, 0, 0, 0, 0, 0, 0])"
            ]
          },
          "metadata": {},
          "execution_count": 528
        }
      ]
    }
  ]
}